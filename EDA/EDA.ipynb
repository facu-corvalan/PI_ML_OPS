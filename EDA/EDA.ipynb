{
 "cells": [
  {
   "cell_type": "markdown",
   "metadata": {},
   "source": [
    "# EDA "
   ]
  },
  {
   "cell_type": "code",
   "execution_count": 32,
   "metadata": {},
   "outputs": [],
   "source": [
    "import pandas as pd\n",
    "import numpy as np\n",
    "import seaborn as sns\n",
    "import matplotlib.pyplot as plt\n",
    "import scipy.stats as stats \n",
    "import warnings\n",
    "warnings.filterwarnings('ignore')"
   ]
  },
  {
   "cell_type": "markdown",
   "metadata": {},
   "source": [
    "Cargamos los DataSets obtenidos en el ETL y luego revisamos su estreuctura"
   ]
  },
  {
   "cell_type": "code",
   "execution_count": 33,
   "metadata": {},
   "outputs": [],
   "source": [
    "# Cargar los tres Datasets para iniciar el analisis\n",
    "items = pd.read_parquet('../Dataset/items_clean.parquet')\n",
    "games = pd.read_parquet('../Dataset\\games_sistem.parquet') \n",
    "reviews = pd.read_parquet('../Dataset/reviews_clean.parquet')"
   ]
  },
  {
   "cell_type": "markdown",
   "metadata": {},
   "source": [
    "## Primero trabajare con el Datase Games"
   ]
  },
  {
   "cell_type": "code",
   "execution_count": 34,
   "metadata": {},
   "outputs": [
    {
     "data": {
      "text/html": [
       "<div>\n",
       "<style scoped>\n",
       "    .dataframe tbody tr th:only-of-type {\n",
       "        vertical-align: middle;\n",
       "    }\n",
       "\n",
       "    .dataframe tbody tr th {\n",
       "        vertical-align: top;\n",
       "    }\n",
       "\n",
       "    .dataframe thead th {\n",
       "        text-align: right;\n",
       "    }\n",
       "</style>\n",
       "<table border=\"1\" class=\"dataframe\">\n",
       "  <thead>\n",
       "    <tr style=\"text-align: right;\">\n",
       "      <th></th>\n",
       "      <th>id</th>\n",
       "      <th>title</th>\n",
       "      <th>developer</th>\n",
       "      <th>release_date</th>\n",
       "      <th>genres</th>\n",
       "      <th>tags</th>\n",
       "      <th>price</th>\n",
       "    </tr>\n",
       "  </thead>\n",
       "  <tbody>\n",
       "    <tr>\n",
       "      <th>0</th>\n",
       "      <td>761140</td>\n",
       "      <td>Lost Summoner Kitty</td>\n",
       "      <td>Kotoshiro</td>\n",
       "      <td>2018-01-04</td>\n",
       "      <td>[Action, Casual, Indie, Simulation, Strategy]</td>\n",
       "      <td>[Strategy, Action, Indie, Casual, Simulation]</td>\n",
       "      <td>4.99</td>\n",
       "    </tr>\n",
       "    <tr>\n",
       "      <th>1</th>\n",
       "      <td>643980</td>\n",
       "      <td>Ironbound</td>\n",
       "      <td>Secret Level SRL</td>\n",
       "      <td>2018-01-04</td>\n",
       "      <td>[Free to Play, Indie, RPG, Strategy]</td>\n",
       "      <td>[Free to Play, Strategy, Indie, RPG, Card Game...</td>\n",
       "      <td>0.00</td>\n",
       "    </tr>\n",
       "    <tr>\n",
       "      <th>2</th>\n",
       "      <td>670290</td>\n",
       "      <td>Real Pool 3D - Poolians</td>\n",
       "      <td>Poolians.com</td>\n",
       "      <td>2017-07-24</td>\n",
       "      <td>[Casual, Free to Play, Indie, Simulation, Sports]</td>\n",
       "      <td>[Free to Play, Simulation, Sports, Casual, Ind...</td>\n",
       "      <td>0.00</td>\n",
       "    </tr>\n",
       "    <tr>\n",
       "      <th>3</th>\n",
       "      <td>767400</td>\n",
       "      <td>弹炸人2222</td>\n",
       "      <td>彼岸领域</td>\n",
       "      <td>2017-12-07</td>\n",
       "      <td>[Action, Adventure, Casual]</td>\n",
       "      <td>[Action, Adventure, Casual]</td>\n",
       "      <td>0.99</td>\n",
       "    </tr>\n",
       "    <tr>\n",
       "      <th>4</th>\n",
       "      <td>772540</td>\n",
       "      <td>Battle Royale Trainer</td>\n",
       "      <td>Trickjump Games Ltd</td>\n",
       "      <td>2018-01-04</td>\n",
       "      <td>[Action, Adventure, Simulation]</td>\n",
       "      <td>[Action, Adventure, Simulation, FPS, Shooter, ...</td>\n",
       "      <td>3.99</td>\n",
       "    </tr>\n",
       "    <tr>\n",
       "      <th>5</th>\n",
       "      <td>774277</td>\n",
       "      <td>SNOW - All Access Pro Pass</td>\n",
       "      <td>Poppermost Productions</td>\n",
       "      <td>2018-01-04</td>\n",
       "      <td>[Free to Play, Indie, Simulation, Sports]</td>\n",
       "      <td>[Free to Play, Indie, Simulation, Sports]</td>\n",
       "      <td>18.99</td>\n",
       "    </tr>\n",
       "    <tr>\n",
       "      <th>6</th>\n",
       "      <td>774278</td>\n",
       "      <td>SNOW - All Access Legend Pass</td>\n",
       "      <td>Poppermost Productions</td>\n",
       "      <td>2018-01-04</td>\n",
       "      <td>[Free to Play, Indie, Simulation, Sports]</td>\n",
       "      <td>[Free to Play, Indie, Simulation, Sports]</td>\n",
       "      <td>29.99</td>\n",
       "    </tr>\n",
       "    <tr>\n",
       "      <th>7</th>\n",
       "      <td>770380</td>\n",
       "      <td>Army of Tentacles: (Not) A Cthulhu Dating Sim:...</td>\n",
       "      <td>Stegalosaurus Game Development</td>\n",
       "      <td>2018-01-04</td>\n",
       "      <td>[Action, Adventure, Casual, Indie, RPG]</td>\n",
       "      <td>[Action, Adventure, RPG, Indie, Casual]</td>\n",
       "      <td>10.99</td>\n",
       "    </tr>\n",
       "    <tr>\n",
       "      <th>8</th>\n",
       "      <td>768880</td>\n",
       "      <td>Beach Rules</td>\n",
       "      <td>Copperpick Studio</td>\n",
       "      <td>2018-01-04</td>\n",
       "      <td>[Casual, Indie]</td>\n",
       "      <td>[Casual, Indie, Pixel Graphics, Cute, 2D]</td>\n",
       "      <td>3.99</td>\n",
       "    </tr>\n",
       "    <tr>\n",
       "      <th>9</th>\n",
       "      <td>765320</td>\n",
       "      <td>Planetarium 2 - Zen Odyssey</td>\n",
       "      <td>Ghulam Jewel</td>\n",
       "      <td>2018-01-03</td>\n",
       "      <td>[Casual, Indie, Simulation]</td>\n",
       "      <td>[Indie, Casual, Simulation]</td>\n",
       "      <td>2.99</td>\n",
       "    </tr>\n",
       "  </tbody>\n",
       "</table>\n",
       "</div>"
      ],
      "text/plain": [
       "       id                                              title  \\\n",
       "0  761140                                Lost Summoner Kitty   \n",
       "1  643980                                          Ironbound   \n",
       "2  670290                            Real Pool 3D - Poolians   \n",
       "3  767400                                            弹炸人2222   \n",
       "4  772540                              Battle Royale Trainer   \n",
       "5  774277                         SNOW - All Access Pro Pass   \n",
       "6  774278                      SNOW - All Access Legend Pass   \n",
       "7  770380  Army of Tentacles: (Not) A Cthulhu Dating Sim:...   \n",
       "8  768880                                        Beach Rules   \n",
       "9  765320                        Planetarium 2 - Zen Odyssey   \n",
       "\n",
       "                        developer release_date  \\\n",
       "0                       Kotoshiro   2018-01-04   \n",
       "1                Secret Level SRL   2018-01-04   \n",
       "2                    Poolians.com   2017-07-24   \n",
       "3                            彼岸领域   2017-12-07   \n",
       "4             Trickjump Games Ltd   2018-01-04   \n",
       "5          Poppermost Productions   2018-01-04   \n",
       "6          Poppermost Productions   2018-01-04   \n",
       "7  Stegalosaurus Game Development   2018-01-04   \n",
       "8               Copperpick Studio   2018-01-04   \n",
       "9                    Ghulam Jewel   2018-01-03   \n",
       "\n",
       "                                              genres  \\\n",
       "0      [Action, Casual, Indie, Simulation, Strategy]   \n",
       "1               [Free to Play, Indie, RPG, Strategy]   \n",
       "2  [Casual, Free to Play, Indie, Simulation, Sports]   \n",
       "3                        [Action, Adventure, Casual]   \n",
       "4                    [Action, Adventure, Simulation]   \n",
       "5          [Free to Play, Indie, Simulation, Sports]   \n",
       "6          [Free to Play, Indie, Simulation, Sports]   \n",
       "7            [Action, Adventure, Casual, Indie, RPG]   \n",
       "8                                    [Casual, Indie]   \n",
       "9                        [Casual, Indie, Simulation]   \n",
       "\n",
       "                                                tags  price  \n",
       "0      [Strategy, Action, Indie, Casual, Simulation]   4.99  \n",
       "1  [Free to Play, Strategy, Indie, RPG, Card Game...   0.00  \n",
       "2  [Free to Play, Simulation, Sports, Casual, Ind...   0.00  \n",
       "3                        [Action, Adventure, Casual]   0.99  \n",
       "4  [Action, Adventure, Simulation, FPS, Shooter, ...   3.99  \n",
       "5          [Free to Play, Indie, Simulation, Sports]  18.99  \n",
       "6          [Free to Play, Indie, Simulation, Sports]  29.99  \n",
       "7            [Action, Adventure, RPG, Indie, Casual]  10.99  \n",
       "8          [Casual, Indie, Pixel Graphics, Cute, 2D]   3.99  \n",
       "9                        [Indie, Casual, Simulation]   2.99  "
      ]
     },
     "execution_count": 34,
     "metadata": {},
     "output_type": "execute_result"
    }
   ],
   "source": [
    "games.head(10)"
   ]
  },
  {
   "cell_type": "markdown",
   "metadata": {},
   "source": [
    "Procedo a desanidar la columna genres para generar diversas columnas que contengan el genero del juego. \n",
    "\n",
    "Esto permitira un analisis más fluido: "
   ]
  },
  {
   "cell_type": "code",
   "execution_count": 35,
   "metadata": {},
   "outputs": [
    {
     "data": {
      "text/html": [
       "<div>\n",
       "<style scoped>\n",
       "    .dataframe tbody tr th:only-of-type {\n",
       "        vertical-align: middle;\n",
       "    }\n",
       "\n",
       "    .dataframe tbody tr th {\n",
       "        vertical-align: top;\n",
       "    }\n",
       "\n",
       "    .dataframe thead th {\n",
       "        text-align: right;\n",
       "    }\n",
       "</style>\n",
       "<table border=\"1\" class=\"dataframe\">\n",
       "  <thead>\n",
       "    <tr style=\"text-align: right;\">\n",
       "      <th></th>\n",
       "      <th>id</th>\n",
       "      <th>title</th>\n",
       "      <th>developer</th>\n",
       "      <th>release_date</th>\n",
       "      <th>genres</th>\n",
       "      <th>tags</th>\n",
       "      <th>price</th>\n",
       "    </tr>\n",
       "  </thead>\n",
       "  <tbody>\n",
       "    <tr>\n",
       "      <th>0</th>\n",
       "      <td>761140</td>\n",
       "      <td>Lost Summoner Kitty</td>\n",
       "      <td>Kotoshiro</td>\n",
       "      <td>2018-01-04</td>\n",
       "      <td>Action</td>\n",
       "      <td>[Strategy, Action, Indie, Casual, Simulation]</td>\n",
       "      <td>4.99</td>\n",
       "    </tr>\n",
       "    <tr>\n",
       "      <th>0</th>\n",
       "      <td>761140</td>\n",
       "      <td>Lost Summoner Kitty</td>\n",
       "      <td>Kotoshiro</td>\n",
       "      <td>2018-01-04</td>\n",
       "      <td>Casual</td>\n",
       "      <td>[Strategy, Action, Indie, Casual, Simulation]</td>\n",
       "      <td>4.99</td>\n",
       "    </tr>\n",
       "    <tr>\n",
       "      <th>0</th>\n",
       "      <td>761140</td>\n",
       "      <td>Lost Summoner Kitty</td>\n",
       "      <td>Kotoshiro</td>\n",
       "      <td>2018-01-04</td>\n",
       "      <td>Indie</td>\n",
       "      <td>[Strategy, Action, Indie, Casual, Simulation]</td>\n",
       "      <td>4.99</td>\n",
       "    </tr>\n",
       "    <tr>\n",
       "      <th>0</th>\n",
       "      <td>761140</td>\n",
       "      <td>Lost Summoner Kitty</td>\n",
       "      <td>Kotoshiro</td>\n",
       "      <td>2018-01-04</td>\n",
       "      <td>Simulation</td>\n",
       "      <td>[Strategy, Action, Indie, Casual, Simulation]</td>\n",
       "      <td>4.99</td>\n",
       "    </tr>\n",
       "    <tr>\n",
       "      <th>0</th>\n",
       "      <td>761140</td>\n",
       "      <td>Lost Summoner Kitty</td>\n",
       "      <td>Kotoshiro</td>\n",
       "      <td>2018-01-04</td>\n",
       "      <td>Strategy</td>\n",
       "      <td>[Strategy, Action, Indie, Casual, Simulation]</td>\n",
       "      <td>4.99</td>\n",
       "    </tr>\n",
       "    <tr>\n",
       "      <th>...</th>\n",
       "      <td>...</td>\n",
       "      <td>...</td>\n",
       "      <td>...</td>\n",
       "      <td>...</td>\n",
       "      <td>...</td>\n",
       "      <td>...</td>\n",
       "      <td>...</td>\n",
       "    </tr>\n",
       "    <tr>\n",
       "      <th>22528</th>\n",
       "      <td>610660</td>\n",
       "      <td>Russian Roads</td>\n",
       "      <td>Laush Dmitriy Sergeevich</td>\n",
       "      <td>2018-01-04</td>\n",
       "      <td>Indie</td>\n",
       "      <td>[Indie, Simulation, Racing]</td>\n",
       "      <td>1.99</td>\n",
       "    </tr>\n",
       "    <tr>\n",
       "      <th>22528</th>\n",
       "      <td>610660</td>\n",
       "      <td>Russian Roads</td>\n",
       "      <td>Laush Dmitriy Sergeevich</td>\n",
       "      <td>2018-01-04</td>\n",
       "      <td>Racing</td>\n",
       "      <td>[Indie, Simulation, Racing]</td>\n",
       "      <td>1.99</td>\n",
       "    </tr>\n",
       "    <tr>\n",
       "      <th>22528</th>\n",
       "      <td>610660</td>\n",
       "      <td>Russian Roads</td>\n",
       "      <td>Laush Dmitriy Sergeevich</td>\n",
       "      <td>2018-01-04</td>\n",
       "      <td>Simulation</td>\n",
       "      <td>[Indie, Simulation, Racing]</td>\n",
       "      <td>1.99</td>\n",
       "    </tr>\n",
       "    <tr>\n",
       "      <th>22529</th>\n",
       "      <td>658870</td>\n",
       "      <td>EXIT 2 - Directions</td>\n",
       "      <td>xropi,stev3ns</td>\n",
       "      <td>2017-09-02</td>\n",
       "      <td>Casual</td>\n",
       "      <td>[Indie, Casual, Puzzle, Singleplayer, Atmosphe...</td>\n",
       "      <td>4.99</td>\n",
       "    </tr>\n",
       "    <tr>\n",
       "      <th>22529</th>\n",
       "      <td>658870</td>\n",
       "      <td>EXIT 2 - Directions</td>\n",
       "      <td>xropi,stev3ns</td>\n",
       "      <td>2017-09-02</td>\n",
       "      <td>Indie</td>\n",
       "      <td>[Indie, Casual, Puzzle, Singleplayer, Atmosphe...</td>\n",
       "      <td>4.99</td>\n",
       "    </tr>\n",
       "  </tbody>\n",
       "</table>\n",
       "<p>55612 rows × 7 columns</p>\n",
       "</div>"
      ],
      "text/plain": [
       "           id                title                 developer release_date  \\\n",
       "0      761140  Lost Summoner Kitty                 Kotoshiro   2018-01-04   \n",
       "0      761140  Lost Summoner Kitty                 Kotoshiro   2018-01-04   \n",
       "0      761140  Lost Summoner Kitty                 Kotoshiro   2018-01-04   \n",
       "0      761140  Lost Summoner Kitty                 Kotoshiro   2018-01-04   \n",
       "0      761140  Lost Summoner Kitty                 Kotoshiro   2018-01-04   \n",
       "...       ...                  ...                       ...          ...   \n",
       "22528  610660        Russian Roads  Laush Dmitriy Sergeevich   2018-01-04   \n",
       "22528  610660        Russian Roads  Laush Dmitriy Sergeevich   2018-01-04   \n",
       "22528  610660        Russian Roads  Laush Dmitriy Sergeevich   2018-01-04   \n",
       "22529  658870  EXIT 2 - Directions             xropi,stev3ns   2017-09-02   \n",
       "22529  658870  EXIT 2 - Directions             xropi,stev3ns   2017-09-02   \n",
       "\n",
       "           genres                                               tags  price  \n",
       "0          Action      [Strategy, Action, Indie, Casual, Simulation]   4.99  \n",
       "0          Casual      [Strategy, Action, Indie, Casual, Simulation]   4.99  \n",
       "0           Indie      [Strategy, Action, Indie, Casual, Simulation]   4.99  \n",
       "0      Simulation      [Strategy, Action, Indie, Casual, Simulation]   4.99  \n",
       "0        Strategy      [Strategy, Action, Indie, Casual, Simulation]   4.99  \n",
       "...           ...                                                ...    ...  \n",
       "22528       Indie                        [Indie, Simulation, Racing]   1.99  \n",
       "22528      Racing                        [Indie, Simulation, Racing]   1.99  \n",
       "22528  Simulation                        [Indie, Simulation, Racing]   1.99  \n",
       "22529      Casual  [Indie, Casual, Puzzle, Singleplayer, Atmosphe...   4.99  \n",
       "22529       Indie  [Indie, Casual, Puzzle, Singleplayer, Atmosphe...   4.99  \n",
       "\n",
       "[55612 rows x 7 columns]"
      ]
     },
     "execution_count": 35,
     "metadata": {},
     "output_type": "execute_result"
    }
   ],
   "source": [
    "# Utilizo la funcion explode en la columna \"genres\" para convertir los valores anidados en filas sepradas\n",
    "games = games.explode(column='genres')\n",
    "games"
   ]
  },
  {
   "cell_type": "code",
   "execution_count": 36,
   "metadata": {},
   "outputs": [
    {
     "data": {
      "text/html": [
       "<div>\n",
       "<style scoped>\n",
       "    .dataframe tbody tr th:only-of-type {\n",
       "        vertical-align: middle;\n",
       "    }\n",
       "\n",
       "    .dataframe tbody tr th {\n",
       "        vertical-align: top;\n",
       "    }\n",
       "\n",
       "    .dataframe thead th {\n",
       "        text-align: right;\n",
       "    }\n",
       "</style>\n",
       "<table border=\"1\" class=\"dataframe\">\n",
       "  <thead>\n",
       "    <tr style=\"text-align: right;\">\n",
       "      <th></th>\n",
       "      <th>id</th>\n",
       "      <th>title</th>\n",
       "      <th>developer</th>\n",
       "      <th>release_date</th>\n",
       "      <th>genres</th>\n",
       "      <th>price</th>\n",
       "    </tr>\n",
       "  </thead>\n",
       "  <tbody>\n",
       "    <tr>\n",
       "      <th>0</th>\n",
       "      <td>761140</td>\n",
       "      <td>Lost Summoner Kitty</td>\n",
       "      <td>Kotoshiro</td>\n",
       "      <td>2018-01-04</td>\n",
       "      <td>Action</td>\n",
       "      <td>4.99</td>\n",
       "    </tr>\n",
       "    <tr>\n",
       "      <th>1</th>\n",
       "      <td>761140</td>\n",
       "      <td>Lost Summoner Kitty</td>\n",
       "      <td>Kotoshiro</td>\n",
       "      <td>2018-01-04</td>\n",
       "      <td>Casual</td>\n",
       "      <td>4.99</td>\n",
       "    </tr>\n",
       "    <tr>\n",
       "      <th>2</th>\n",
       "      <td>761140</td>\n",
       "      <td>Lost Summoner Kitty</td>\n",
       "      <td>Kotoshiro</td>\n",
       "      <td>2018-01-04</td>\n",
       "      <td>Indie</td>\n",
       "      <td>4.99</td>\n",
       "    </tr>\n",
       "    <tr>\n",
       "      <th>3</th>\n",
       "      <td>761140</td>\n",
       "      <td>Lost Summoner Kitty</td>\n",
       "      <td>Kotoshiro</td>\n",
       "      <td>2018-01-04</td>\n",
       "      <td>Simulation</td>\n",
       "      <td>4.99</td>\n",
       "    </tr>\n",
       "    <tr>\n",
       "      <th>4</th>\n",
       "      <td>761140</td>\n",
       "      <td>Lost Summoner Kitty</td>\n",
       "      <td>Kotoshiro</td>\n",
       "      <td>2018-01-04</td>\n",
       "      <td>Strategy</td>\n",
       "      <td>4.99</td>\n",
       "    </tr>\n",
       "    <tr>\n",
       "      <th>...</th>\n",
       "      <td>...</td>\n",
       "      <td>...</td>\n",
       "      <td>...</td>\n",
       "      <td>...</td>\n",
       "      <td>...</td>\n",
       "      <td>...</td>\n",
       "    </tr>\n",
       "    <tr>\n",
       "      <th>55607</th>\n",
       "      <td>610660</td>\n",
       "      <td>Russian Roads</td>\n",
       "      <td>Laush Dmitriy Sergeevich</td>\n",
       "      <td>2018-01-04</td>\n",
       "      <td>Indie</td>\n",
       "      <td>1.99</td>\n",
       "    </tr>\n",
       "    <tr>\n",
       "      <th>55608</th>\n",
       "      <td>610660</td>\n",
       "      <td>Russian Roads</td>\n",
       "      <td>Laush Dmitriy Sergeevich</td>\n",
       "      <td>2018-01-04</td>\n",
       "      <td>Racing</td>\n",
       "      <td>1.99</td>\n",
       "    </tr>\n",
       "    <tr>\n",
       "      <th>55609</th>\n",
       "      <td>610660</td>\n",
       "      <td>Russian Roads</td>\n",
       "      <td>Laush Dmitriy Sergeevich</td>\n",
       "      <td>2018-01-04</td>\n",
       "      <td>Simulation</td>\n",
       "      <td>1.99</td>\n",
       "    </tr>\n",
       "    <tr>\n",
       "      <th>55610</th>\n",
       "      <td>658870</td>\n",
       "      <td>EXIT 2 - Directions</td>\n",
       "      <td>xropi,stev3ns</td>\n",
       "      <td>2017-09-02</td>\n",
       "      <td>Casual</td>\n",
       "      <td>4.99</td>\n",
       "    </tr>\n",
       "    <tr>\n",
       "      <th>55611</th>\n",
       "      <td>658870</td>\n",
       "      <td>EXIT 2 - Directions</td>\n",
       "      <td>xropi,stev3ns</td>\n",
       "      <td>2017-09-02</td>\n",
       "      <td>Indie</td>\n",
       "      <td>4.99</td>\n",
       "    </tr>\n",
       "  </tbody>\n",
       "</table>\n",
       "<p>55612 rows × 6 columns</p>\n",
       "</div>"
      ],
      "text/plain": [
       "           id                title                 developer release_date  \\\n",
       "0      761140  Lost Summoner Kitty                 Kotoshiro   2018-01-04   \n",
       "1      761140  Lost Summoner Kitty                 Kotoshiro   2018-01-04   \n",
       "2      761140  Lost Summoner Kitty                 Kotoshiro   2018-01-04   \n",
       "3      761140  Lost Summoner Kitty                 Kotoshiro   2018-01-04   \n",
       "4      761140  Lost Summoner Kitty                 Kotoshiro   2018-01-04   \n",
       "...       ...                  ...                       ...          ...   \n",
       "55607  610660        Russian Roads  Laush Dmitriy Sergeevich   2018-01-04   \n",
       "55608  610660        Russian Roads  Laush Dmitriy Sergeevich   2018-01-04   \n",
       "55609  610660        Russian Roads  Laush Dmitriy Sergeevich   2018-01-04   \n",
       "55610  658870  EXIT 2 - Directions             xropi,stev3ns   2017-09-02   \n",
       "55611  658870  EXIT 2 - Directions             xropi,stev3ns   2017-09-02   \n",
       "\n",
       "           genres  price  \n",
       "0          Action   4.99  \n",
       "1          Casual   4.99  \n",
       "2           Indie   4.99  \n",
       "3      Simulation   4.99  \n",
       "4        Strategy   4.99  \n",
       "...           ...    ...  \n",
       "55607       Indie   1.99  \n",
       "55608      Racing   1.99  \n",
       "55609  Simulation   1.99  \n",
       "55610      Casual   4.99  \n",
       "55611       Indie   4.99  \n",
       "\n",
       "[55612 rows x 6 columns]"
      ]
     },
     "execution_count": 36,
     "metadata": {},
     "output_type": "execute_result"
    }
   ],
   "source": [
    "# Ahora voy a restablecer el índice del Df resultante y descartare el índice anterior\n",
    "games = games.reset_index(drop=True)\n",
    "\n",
    "# Luego utilizo la funcion drop para sacar la columna \"tags\" ya que no la voy a utilizar para este analisis\n",
    "games = games.drop(['tags'], axis=1)\n",
    "games"
   ]
  },
  {
   "cell_type": "markdown",
   "metadata": {},
   "source": [
    "## Demos una primera vista al EDA con un programa donde obtendremos los 15 generos más jugados"
   ]
  },
  {
   "cell_type": "markdown",
   "metadata": {},
   "source": [
    "* Obtenemos los 15 generos más jugados"
   ]
  },
  {
   "cell_type": "code",
   "execution_count": 37,
   "metadata": {},
   "outputs": [
    {
     "data": {
      "text/plain": [
       "genres\n",
       "Indie           12693\n",
       "Action           9430\n",
       "Adventure        7021\n",
       "Casual           6283\n",
       "Strategy         5213\n",
       "Simulation       4724\n",
       "RPG              3809\n",
       "Free to Play     1458\n",
       "Early Access     1360\n",
       "Sports           1032\n",
       "Name: count, dtype: int64"
      ]
     },
     "execution_count": 37,
     "metadata": {},
     "output_type": "execute_result"
    }
   ],
   "source": [
    "top_genres = games['genres'].value_counts().nlargest(15)\n",
    "top_genres.head(10)"
   ]
  },
  {
   "cell_type": "markdown",
   "metadata": {},
   "source": [
    "* Creamos el grafico de barras"
   ]
  },
  {
   "cell_type": "code",
   "execution_count": 39,
   "metadata": {},
   "outputs": [
    {
     "data": {
      "image/png": "[encoded data removed]",
      "text/plain": [
       "<Figure size 1200x800 with 1 Axes>"
      ]
     },
     "metadata": {},
     "output_type": "display_data"
    }
   ],
   "source": [
    "plt.figure(figsize=(12, 8))\n",
    "sns.barplot(y=top_genres.index, x=top_genres.values)\n",
    "plt.xlabel('Cantidad')\n",
    "plt.ylabel('Genero')\n",
    "plt.title('15 generos más jugados')\n",
    "plt.show()"
   ]
  },
  {
   "cell_type": "markdown",
   "metadata": {},
   "source": [
    "## Horas Jugadas por Año y genero"
   ]
  },
  {
   "cell_type": "code",
   "execution_count": 27,
   "metadata": {},
   "outputs": [
    {
     "data": {
      "text/plain": [
       "price\n",
       "9.99     7602\n",
       "4.99     7584\n",
       "0.99     5343\n",
       "1.99     4845\n",
       "2.99     4745\n",
       "0.00     4174\n",
       "14.99    3278\n",
       "19.99    3024\n",
       "3.99     3002\n",
       "6.99     2147\n",
       "Name: count, dtype: int64"
      ]
     },
     "execution_count": 27,
     "metadata": {},
     "output_type": "execute_result"
    }
   ],
   "source": [
    "top_prices = games['price'].value_counts().nlargest(25)\n",
    "top_prices.head(10)"
   ]
  },
  {
   "cell_type": "code",
   "execution_count": 28,
   "metadata": {},
   "outputs": [
    {
     "data": {
      "image/png": "[encoded data removed]",
      "text/plain": [
       "<Figure size 1200x800 with 1 Axes>"
      ]
     },
     "metadata": {},
     "output_type": "display_data"
    }
   ],
   "source": [
    "plt.figure(figsize=(12, 8))\n",
    "sns.barplot(y=top_prices.values, x=top_prices.index)\n",
    "plt.ylabel('Cantidad de juegos')\n",
    "plt.xlabel('Precio')\n",
    "plt.title('Precio comun de 25 juegos')\n",
    "plt.show()"
   ]
  },
  {
   "cell_type": "code",
   "execution_count": 30,
   "metadata": {},
   "outputs": [
    {
     "data": {
      "text/plain": [
       "1"
      ]
     },
     "execution_count": 30,
     "metadata": {},
     "output_type": "execute_result"
    }
   ],
   "source": [
    "games.duplicated().sum()"
   ]
  },
  {
   "cell_type": "code",
   "execution_count": 31,
   "metadata": {},
   "outputs": [
    {
     "data": {
      "text/plain": [
       "array(['Lost Summoner Kitty', 'Ironbound', 'Real Pool 3D - Poolians', ...,\n",
       "       'LOGistICAL: South Africa', 'Russian Roads', 'EXIT 2 - Directions'],\n",
       "      dtype=object)"
      ]
     },
     "execution_count": 31,
     "metadata": {},
     "output_type": "execute_result"
    }
   ],
   "source": [
    "games['title']"
   ]
  },
  {
   "cell_type": "markdown",
   "metadata": {},
   "source": [
    "# Histograma"
   ]
  },
  {
   "cell_type": "code",
   "execution_count": 29,
   "metadata": {},
   "outputs": [
    {
     "data": {
      "text/plain": [
       "Index(['id', 'title', 'developer', 'release_date', 'genres', 'price'], dtype='object')"
      ]
     },
     "execution_count": 29,
     "metadata": {},
     "output_type": "execute_result"
    }
   ],
   "source": [
    "games.columns"
   ]
  },
  {
   "cell_type": "code",
   "execution_count": 43,
   "metadata": {},
   "outputs": [
    {
     "data": {
      "image/png": "[encoded data removed]",
      "text/plain": [
       "<Figure size 800x400 with 1 Axes>"
      ]
     },
     "metadata": {},
     "output_type": "display_data"
    }
   ],
   "source": [
    "sns.set_style(\"dark\")\n",
    "plt.figure(figsize=(8,4))\n",
    "\n",
    "# Crear el grafico\n",
    "sns.histplot(data=games, x='price', color='red', bins=100)\n",
    "\n",
    "# Agregar titulo y etiquetas\n",
    "plt.title('Distribucion de Precios de Juegos', fontsize=16, fontweight='bold')\n",
    "plt.xlabel('Precio', fontsize=14)\n",
    "plt.ylabel('')\n",
    "\n",
    "# Ajustr los margenes\n",
    "plt.tight_layout()\n",
    "\n",
    "# Limitar el rango del eje x (precio)\n",
    "plt.xlim(0, 80)  \n",
    "\n",
    "# Mostrar el grafico\n",
    "plt.show()"
   ]
  }
 ],
 "metadata": {
  "kernelspec": {
   "display_name": "Python 3",
   "language": "python",
   "name": "python3"
  },
  "language_info": {
   "codemirror_mode": {
    "name": "ipython",
    "version": 3
   },
   "file_extension": ".py",
   "mimetype": "text/x-python",
   "name": "python",
   "nbconvert_exporter": "python",
   "pygments_lexer": "ipython3",
   "version": "3.11.9"
  }
 },
 "nbformat": 4,
 "nbformat_minor": 2
}
