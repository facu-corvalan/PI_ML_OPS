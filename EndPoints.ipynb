{
 "cells": [
  {
   "cell_type": "code",
   "execution_count": 1,
   "metadata": {},
   "outputs": [],
   "source": [
    "import pandas as pd"
   ]
  },
  {
   "cell_type": "code",
   "execution_count": 2,
   "metadata": {},
   "outputs": [],
   "source": [
    "from fastapi import FastAPI, Query\n",
    "import pandas as pd\n",
    "from sklearn.feature_extraction.text import TfidfVectorizer\n",
    "from sklearn.metrics.pairwise import cosine_similarity"
   ]
  },
  {
   "cell_type": "code",
   "execution_count": 3,
   "metadata": {},
   "outputs": [],
   "source": [
    "# Cargo los archivos\n",
    "items = pd.read_parquet('Dataset/items_clean.parquet')\n",
    "games = pd.read_parquet('Dataset/games_clean.parquet')\n",
    "reviews = pd.read_parquet('Dataset/reviews_clean.parquet')"
   ]
  },
  {
   "cell_type": "code",
   "execution_count": 4,
   "metadata": {},
   "outputs": [],
   "source": [
    "async def developer(developer : str = Query(default='Valve')):\n",
    "    games = pd.read_parquet('./Datasets/developer.parquet')\n",
    "    # Filtramos por el desarrollador ingresado.\n",
    "    games = games[games['developer'] == developer]\n",
    "    # Creamos la columna año en base a la columna release_date.\n",
    "    games['Año'] = games['release_date'].games.year\n",
    "    # Agrupamos por año y contamos la cantidad de items.\n",
    "    games_year = games.groupby('Año').size().reset_index(name='Cantidad de Items')\n",
    "    # Agrupamos por año y sumamos la cantidad de items free.\n",
    "    games_free = games.groupby('Año')['free'].sum().reset_index(name='free')\n",
    "    # Hacemos un merge de ambos dataframes mediante la columna Año.\n",
    "    games = pd.merge(games_year, games_free, on='Año')\n",
    "    # Calculamos el porcentaje de contenido free.\n",
    "    games['Contenido Free'] = round(games['free'] / games['Cantidad de Items'] * 100, 2)\n",
    "    # Eliminamos la columna free.\n",
    "    games.drop(columns=['free'], inplace=True)\n",
    "    # Convertimos el dataframe a un diccionario.\n",
    "    games = games.to_dict('records')\n",
    "    # Devolvemos el resultado.\n",
    "    return games"
   ]
  },
  {
   "cell_type": "code",
   "execution_count": null,
   "metadata": {},
   "outputs": [],
   "source": []
  },
  {
   "cell_type": "markdown",
   "metadata": {},
   "source": [
    "1) endpoint:\n",
    "- def developer( desarrollador : str ): Cantidad de items y porcentaje de contenido Free por año según empresa desarrolladora. Ejemplo de retorno:\n",
    "- Año\tCantidad de Items\tContenido Free\n",
    "- 2023\t50\t27%\n",
    "- 2022\t45\t25%\n",
    "- xxxx\txx\txx%\n",
    "\n"
   ]
  },
  {
   "cell_type": "markdown",
   "metadata": {},
   "source": [
    "2) enpoint:\n",
    "- def userdata( User_id : str ): Debe devolver cantidad de dinero gastado por el usuario, el porcentaje de recomendación en base a reviews.recommend y cantidad de items.\n",
    "- Ejemplo de retorno: {\"Usuario X\" : us213ndjss09sdf, \"Dinero gastado\": 200 USD, \"% de recomendación\": 20%, \"cantidad de items\": 5}"
   ]
  },
  {
   "cell_type": "code",
   "execution_count": null,
   "metadata": {},
   "outputs": [],
   "source": []
  },
  {
   "cell_type": "markdown",
   "metadata": {},
   "source": [
    "3) enpoint:\n",
    "- def UserForGenre( genero : str ): Debe devolver el usuario que acumula más horas jugadas para el género dado y una lista de la acumulación de horas jugadas por año de lanzamiento.\n",
    "- Ejemplo de retorno: {\"Usuario con más horas jugadas para Género X\" : us213ndjss09sdf, \"Horas jugadas\":[{Año: 2013, Horas: 203}, {Año: 2012, Horas: 100}, {Año: 2011, Horas: 23}]}"
   ]
  },
  {
   "cell_type": "code",
   "execution_count": null,
   "metadata": {},
   "outputs": [],
   "source": [
    "def UserForGenre(genero :str) -> dict:\n",
    "    genre = genre.capitalize()\n",
    "    genero = games[games[genre] == 1]\n",
    "    max_player_user = genero.loc[genero['playtime_forever'].idxmax(), 'user_id']\n",
    "    year_playtime =genero.groupby('year')['playtime_forever'].sum().reset_index()\n",
    "    playtime_list = year_playtime.to_dict(orient='records')\n",
    "    result = {\n",
    "        \"Usuario con más horas jugadas para el Genero\" + genre: max_player_user,\n",
    "        \"Horas jugadas\": playtime_list }\n",
    "    return result\n",
    "\n",
    "genero = \"Action\"\n",
    "resultado = UserForGenre1(genero)\n",
    "print(resultado)\n"
   ]
  },
  {
   "cell_type": "code",
   "execution_count": null,
   "metadata": {},
   "outputs": [],
   "source": [
    "def UserForGenre1(genero: str) -> dict:\n",
    "    genre = genero.capitalize()\n",
    "    filtered_games = games[games[genre] == 1]  # Filtrar por el género específico\n",
    "    max_player_user = filtered_games.loc[filtered_games['playtime_forever'].idxmax(), 'user_id']  # Obtener usuario con más horas jugadas\n",
    "    year_playtime = filtered_games.groupby('year')['playtime_forever'].sum().reset_index()  # Sumar horas jugadas por año\n",
    "    playtime_list = year_playtime.to_dict(orient='records')  # Convertir a lista de diccionarios\n",
    "    result = {\n",
    "        f\"Usuario con más horas jugadas para el género {genre}\": max_player_user,\n",
    "        \"Horas jugadas por año\": playtime_list\n",
    "    }\n",
    "    return result\n",
    "\n",
    "# Llamada a la función para el género 'Indie'\n",
    "genero = \"Action\"\n",
    "resultado = UserForGenre1(genero)\n",
    "print(resultado)\n"
   ]
  },
  {
   "cell_type": "code",
   "execution_count": null,
   "metadata": {},
   "outputs": [],
   "source": [
    "genero = \"Action\"\n",
    "resultado = UserForGenre(genero)\n",
    "resultado"
   ]
  },
  {
   "cell_type": "markdown",
   "metadata": {},
   "source": [
    "4) enpoint:\n",
    "- def best_developer_year( año : int ): Devuelve el top 3 de desarrolladores con juegos MÁS recomendados por usuarios para el año dado. (reviews.recommend = True y comentarios positivos)\n",
    "- Ejemplo de retorno: [{\"Puesto 1\" : X}, {\"Puesto 2\" : Y},{\"Puesto 3\" : Z}]"
   ]
  },
  {
   "cell_type": "code",
   "execution_count": null,
   "metadata": {},
   "outputs": [
    {
     "name": "stdout",
     "output_type": "stream",
     "text": [
      "<class 'pandas.core.frame.DataFrame'>\n",
      "Index: 22530 entries, 88310 to 120443\n",
      "Data columns (total 7 columns):\n",
      " #   Column        Non-Null Count  Dtype  \n",
      "---  ------        --------------  -----  \n",
      " 0   publisher     22530 non-null  object \n",
      " 1   genres        22530 non-null  object \n",
      " 2   title         22530 non-null  object \n",
      " 3   price         22530 non-null  float32\n",
      " 4   id            22530 non-null  float64\n",
      " 5   developer     22530 non-null  object \n",
      " 6   release_year  22530 non-null  object \n",
      "dtypes: float32(1), float64(1), object(5)\n",
      "memory usage: 1.3+ MB\n"
     ]
    }
   ],
   "source": [
    "games.info()"
   ]
  },
  {
   "cell_type": "code",
   "execution_count": null,
   "metadata": {},
   "outputs": [],
   "source": [
    "def best_developer_year(año :int):\n",
    "    game = games[['developer', 'title', 'id', 'genres', 'release_year']]\n",
    "    game = game[game['release_year'] == año]\n",
    "    review = reviews[['item_id', 'positivo']]\n",
    "    reviews_fielter = game.merge(review, left_on='id', right_on='item_id', how= 'inner')\n",
    "    reviews_fielter = reviews_fielter[['developer', 'title','positivo']]\n",
    "    reviews_fielter = reviews_fielter.groupby(['developer', 'title']).agg({'positivo':'sum'}).reset_index()\n",
    "    reviews_fielter = reviews_fielter.sort_values(by='positivo', ascending= False)\n",
    "    \n",
    "    developer = list(reviews_fielter.iloc[:,0])\n",
    "    \n",
    "    return [\n",
    "        {'Puesto 1': {'Developer': developer[0]}},\n",
    "        {'Puesto 2': {'Developer': developer[1]}},\n",
    "        {'Puesto 3': {'Developer': developer[2]}}\n",
    "    ]\n",
    "    #[{'Puesto 1': ['Developer:':developer[0]]}, {'Puesto 2': ['Developer:':developer[1]]}, {'Puesto 3': ['Developer:':developer[2]]}]"
   ]
  },
  {
   "cell_type": "code",
   "execution_count": null,
   "metadata": {},
   "outputs": [],
   "source": [
    "games['id'] = games['id'].astype(str)\n",
    "reviews['item_id'] = reviews['item_id'].astype(str)\n"
   ]
  },
  {
   "cell_type": "code",
   "execution_count": null,
   "metadata": {},
   "outputs": [
    {
     "name": "stdout",
     "output_type": "stream",
     "text": [
      "No hay datos disponibles para el año proporcionado.\n"
     ]
    }
   ],
   "source": [
    "def best_developer_year(año: int):\n",
    "    game = games[['developer', 'title', 'id', 'genres', 'release_year']]\n",
    "    \n",
    "    # Convertir el año proporcionado a string para la comparación\n",
    "    año_str = str(año)\n",
    "    \n",
    "    # Filtrar juegos por release_year igual al año proporcionado\n",
    "    game = game[game['release_year'] == año_str]\n",
    "    \n",
    "    review = reviews[['item_id', 'positivo']]  # Asumiendo que `reviews` está definido globalmente\n",
    "    reviews_filter = game.merge(review, left_on='id', right_on='item_id', how='inner')\n",
    "    reviews_filter = reviews_filter[['developer', 'title', 'positivo']]\n",
    "    reviews_filter = reviews_filter.groupby(['developer', 'title']).agg({'positivo': 'sum'}).reset_index()\n",
    "    reviews_filter = reviews_filter.sort_values(by='positivo', ascending=False)\n",
    "    \n",
    "    if len(reviews_filter) == 0:\n",
    "        return \"No hay datos disponibles para el año proporcionado.\"\n",
    "\n",
    "    developers = list(reviews_filter.iloc[:, 0])\n",
    "\n",
    "    # Verificar que hay suficientes desarrolladores para los primeros puestos\n",
    "    if len(developers) < 3:\n",
    "        return \"No hay suficientes desarrolladores con reseñas positivas para generar los primeros puestos.\"\n",
    "\n",
    "    # Retornar los primeros tres desarrolladores\n",
    "    return [\n",
    "        {'Puesto 1': {'Developer': developers[0]}},\n",
    "        {'Puesto 2': {'Developer': developers[1]}},\n",
    "        {'Puesto 3': {'Developer': developers[2]}}\n",
    "    ]\n",
    "\n",
    "# Ejemplo de uso\n",
    "resultado = best_developer_year(2018)\n",
    "print(resultado)\n"
   ]
  },
  {
   "cell_type": "code",
   "execution_count": null,
   "metadata": {},
   "outputs": [
    {
     "name": "stdout",
     "output_type": "stream",
     "text": [
      "No hay datos disponibles para el año proporcionado.\n"
     ]
    }
   ],
   "source": [
    "resultado = best_developer_year(2018)\n",
    "print(resultado)"
   ]
  },
  {
   "cell_type": "markdown",
   "metadata": {},
   "source": [
    "5) enpoint:\n",
    "- def developer_reviews_analysis( desarrolladora : str ): Según el desarrollador, se devuelve un diccionario con el nombre del desarrollador como llave y una lista con la cantidad total de registros de reseñas de usuarios que se encuentren categorizados con un análisis de sentimiento como valor positivo o negativo.\n",
    "- Ejemplo de retorno: {'Valve' : [Negative = 182, Positive = 278]}"
   ]
  },
  {
   "cell_type": "code",
   "execution_count": null,
   "metadata": {},
   "outputs": [],
   "source": []
  }
 ],
 "metadata": {
  "kernelspec": {
   "display_name": "Python 3",
   "language": "python",
   "name": "python3"
  },
  "language_info": {
   "codemirror_mode": {
    "name": "ipython",
    "version": 3
   },
   "file_extension": ".py",
   "mimetype": "text/x-python",
   "name": "python",
   "nbconvert_exporter": "python",
   "pygments_lexer": "ipython3",
   "version": "3.11.9"
  }
 },
 "nbformat": 4,
 "nbformat_minor": 2
}
