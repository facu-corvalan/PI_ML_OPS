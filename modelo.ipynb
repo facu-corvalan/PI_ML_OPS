{
 "cells": [
  {
   "cell_type": "code",
   "execution_count": 2,
   "metadata": {},
   "outputs": [],
   "source": [
    "import pandas as pd\n",
    "import numpy as np\n",
    "import matplotlib.pyplot as plt\n",
    "import seaborn as sns\n",
    "from sklearn.feature_extraction.text import TfidfVectorizer\n",
    "from sklearn.metrics.pairwise import cosine_similarity\n",
    "import matplotlib.pyplot as plt"
   ]
  },
  {
   "cell_type": "code",
   "execution_count": 318,
   "metadata": {},
   "outputs": [],
   "source": [
    "data_review = pd.read_parquet(\"dataSet/user_review_clean.parquet\")"
   ]
  },
  {
   "cell_type": "code",
   "execution_count": 319,
   "metadata": {},
   "outputs": [],
   "source": [
    "data_item = pd.read_parquet(\"dataSet/user_items_clean.parquet\")"
   ]
  },
  {
   "cell_type": "code",
   "execution_count": 320,
   "metadata": {},
   "outputs": [],
   "source": [
    "data_review = data_review.sample(n=1000, random_state=40)"
   ]
  },
  {
   "cell_type": "code",
   "execution_count": 321,
   "metadata": {},
   "outputs": [],
   "source": [
    "data_item = data_item.sample(n=1000, random_state=40)"
   ]
  },
  {
   "cell_type": "code",
   "execution_count": 322,
   "metadata": {},
   "outputs": [
    {
     "data": {
      "text/plain": [
       "(1000, 4)"
      ]
     },
     "execution_count": 322,
     "metadata": {},
     "output_type": "execute_result"
    }
   ],
   "source": [
    "data_review.shape"
   ]
  },
  {
   "cell_type": "code",
   "execution_count": 323,
   "metadata": {},
   "outputs": [
    {
     "data": {
      "text/plain": [
       "(1000, 7)"
      ]
     },
     "execution_count": 323,
     "metadata": {},
     "output_type": "execute_result"
    }
   ],
   "source": [
    "data_item.shape"
   ]
  },
  {
   "cell_type": "code",
   "execution_count": 324,
   "metadata": {},
   "outputs": [
    {
     "data": {
      "text/html": [
       "<div>\n",
       "<style scoped>\n",
       "    .dataframe tbody tr th:only-of-type {\n",
       "        vertical-align: middle;\n",
       "    }\n",
       "\n",
       "    .dataframe tbody tr th {\n",
       "        vertical-align: top;\n",
       "    }\n",
       "\n",
       "    .dataframe thead th {\n",
       "        text-align: right;\n",
       "    }\n",
       "</style>\n",
       "<table border=\"1\" class=\"dataframe\">\n",
       "  <thead>\n",
       "    <tr style=\"text-align: right;\">\n",
       "      <th></th>\n",
       "      <th>item_id</th>\n",
       "      <th>item_name</th>\n",
       "      <th>playtime_forever</th>\n",
       "      <th>steam_id</th>\n",
       "      <th>items_count</th>\n",
       "      <th>user_id</th>\n",
       "      <th>user_url</th>\n",
       "    </tr>\n",
       "  </thead>\n",
       "  <tbody>\n",
       "    <tr>\n",
       "      <th>1905169</th>\n",
       "      <td>219150</td>\n",
       "      <td>Hotline Miami</td>\n",
       "      <td>212</td>\n",
       "      <td>76561198080157237</td>\n",
       "      <td>98</td>\n",
       "      <td>76561198080157237</td>\n",
       "      <td>http://steamcommunity.com/profiles/76561198080...</td>\n",
       "    </tr>\n",
       "    <tr>\n",
       "      <th>1235994</th>\n",
       "      <td>244630</td>\n",
       "      <td>NEOTOKYO°</td>\n",
       "      <td>0</td>\n",
       "      <td>76561197989723505</td>\n",
       "      <td>194</td>\n",
       "      <td>76561197989723505</td>\n",
       "      <td>http://steamcommunity.com/profiles/76561197989...</td>\n",
       "    </tr>\n",
       "    <tr>\n",
       "      <th>3145882</th>\n",
       "      <td>302610</td>\n",
       "      <td>Boson X</td>\n",
       "      <td>529</td>\n",
       "      <td>76561198049582412</td>\n",
       "      <td>73</td>\n",
       "      <td>pi_pie</td>\n",
       "      <td>http://steamcommunity.com/id/pi_pie</td>\n",
       "    </tr>\n",
       "    <tr>\n",
       "      <th>497888</th>\n",
       "      <td>220200</td>\n",
       "      <td>Kerbal Space Program</td>\n",
       "      <td>955</td>\n",
       "      <td>76561198068985504</td>\n",
       "      <td>47</td>\n",
       "      <td>76561198068985504</td>\n",
       "      <td>http://steamcommunity.com/profiles/76561198068...</td>\n",
       "    </tr>\n",
       "    <tr>\n",
       "      <th>2236541</th>\n",
       "      <td>24240</td>\n",
       "      <td>PAYDAY: The Heist</td>\n",
       "      <td>233</td>\n",
       "      <td>76561198087379866</td>\n",
       "      <td>31</td>\n",
       "      <td>76561198087379866</td>\n",
       "      <td>http://steamcommunity.com/profiles/76561198087...</td>\n",
       "    </tr>\n",
       "  </tbody>\n",
       "</table>\n",
       "</div>"
      ],
      "text/plain": [
       "        item_id             item_name  playtime_forever           steam_id  \\\n",
       "1905169  219150         Hotline Miami               212  76561198080157237   \n",
       "1235994  244630             NEOTOKYO°                 0  76561197989723505   \n",
       "3145882  302610               Boson X               529  76561198049582412   \n",
       "497888   220200  Kerbal Space Program               955  76561198068985504   \n",
       "2236541   24240     PAYDAY: The Heist               233  76561198087379866   \n",
       "\n",
       "         items_count            user_id  \\\n",
       "1905169           98  76561198080157237   \n",
       "1235994          194  76561197989723505   \n",
       "3145882           73             pi_pie   \n",
       "497888            47  76561198068985504   \n",
       "2236541           31  76561198087379866   \n",
       "\n",
       "                                                  user_url  \n",
       "1905169  http://steamcommunity.com/profiles/76561198080...  \n",
       "1235994  http://steamcommunity.com/profiles/76561197989...  \n",
       "3145882                http://steamcommunity.com/id/pi_pie  \n",
       "497888   http://steamcommunity.com/profiles/76561198068...  \n",
       "2236541  http://steamcommunity.com/profiles/76561198087...  "
      ]
     },
     "execution_count": 324,
     "metadata": {},
     "output_type": "execute_result"
    }
   ],
   "source": [
    "data_item.head()"
   ]
  },
  {
   "cell_type": "code",
   "execution_count": 325,
   "metadata": {},
   "outputs": [
    {
     "data": {
      "text/html": [
       "<div>\n",
       "<style scoped>\n",
       "    .dataframe tbody tr th:only-of-type {\n",
       "        vertical-align: middle;\n",
       "    }\n",
       "\n",
       "    .dataframe tbody tr th {\n",
       "        vertical-align: top;\n",
       "    }\n",
       "\n",
       "    .dataframe thead th {\n",
       "        text-align: right;\n",
       "    }\n",
       "</style>\n",
       "<table border=\"1\" class=\"dataframe\">\n",
       "  <thead>\n",
       "    <tr style=\"text-align: right;\">\n",
       "      <th></th>\n",
       "      <th>review</th>\n",
       "      <th>item_id</th>\n",
       "      <th>recommend</th>\n",
       "      <th>sentimentanalysis</th>\n",
       "    </tr>\n",
       "  </thead>\n",
       "  <tbody>\n",
       "    <tr>\n",
       "      <th>1042</th>\n",
       "      <td>played 5 mins and looking forward to more love...</td>\n",
       "      <td>50300</td>\n",
       "      <td>True</td>\n",
       "      <td>0.8303</td>\n",
       "    </tr>\n",
       "    <tr>\n",
       "      <th>34158</th>\n",
       "      <td>Sick of boring old FPS (like CoD) then pick th...</td>\n",
       "      <td>440</td>\n",
       "      <td>True</td>\n",
       "      <td>-0.4278</td>\n",
       "    </tr>\n",
       "    <tr>\n",
       "      <th>38951</th>\n",
       "      <td>This game is amazing it's got one of the best ...</td>\n",
       "      <td>203160</td>\n",
       "      <td>True</td>\n",
       "      <td>0.9631</td>\n",
       "    </tr>\n",
       "    <tr>\n",
       "      <th>4283</th>\n",
       "      <td>How to play:Step 1: Design the perfect version...</td>\n",
       "      <td>47890</td>\n",
       "      <td>True</td>\n",
       "      <td>0.8020</td>\n",
       "    </tr>\n",
       "    <tr>\n",
       "      <th>10311</th>\n",
       "      <td>It is good indeed, but most of the resident ev...</td>\n",
       "      <td>221040</td>\n",
       "      <td>True</td>\n",
       "      <td>-0.9437</td>\n",
       "    </tr>\n",
       "  </tbody>\n",
       "</table>\n",
       "</div>"
      ],
      "text/plain": [
       "                                                  review item_id  recommend  \\\n",
       "1042   played 5 mins and looking forward to more love...   50300       True   \n",
       "34158  Sick of boring old FPS (like CoD) then pick th...     440       True   \n",
       "38951  This game is amazing it's got one of the best ...  203160       True   \n",
       "4283   How to play:Step 1: Design the perfect version...   47890       True   \n",
       "10311  It is good indeed, but most of the resident ev...  221040       True   \n",
       "\n",
       "       sentimentanalysis  \n",
       "1042              0.8303  \n",
       "34158            -0.4278  \n",
       "38951             0.9631  \n",
       "4283              0.8020  \n",
       "10311            -0.9437  "
      ]
     },
     "execution_count": 325,
     "metadata": {},
     "output_type": "execute_result"
    }
   ],
   "source": [
    "data_review.head()"
   ]
  },
  {
   "cell_type": "code",
   "execution_count": 326,
   "metadata": {},
   "outputs": [],
   "source": [
    "data_item_tmp = data_item[['item_id', 'item_name', 'user_id']]"
   ]
  },
  {
   "cell_type": "code",
   "execution_count": 327,
   "metadata": {},
   "outputs": [
    {
     "data": {
      "text/plain": [
       "item_id      object\n",
       "item_name    object\n",
       "user_id      object\n",
       "dtype: object"
      ]
     },
     "execution_count": 327,
     "metadata": {},
     "output_type": "execute_result"
    }
   ],
   "source": [
    "data_item_tmp.dtypes"
   ]
  },
  {
   "cell_type": "code",
   "execution_count": 328,
   "metadata": {},
   "outputs": [],
   "source": [
    "data_review = pd.merge(data_review, data_item_tmp, on = 'item_id', how= 'inner', indicator=True)"
   ]
  },
  {
   "cell_type": "code",
   "execution_count": 329,
   "metadata": {},
   "outputs": [
    {
     "data": {
      "text/html": [
       "<div>\n",
       "<style scoped>\n",
       "    .dataframe tbody tr th:only-of-type {\n",
       "        vertical-align: middle;\n",
       "    }\n",
       "\n",
       "    .dataframe tbody tr th {\n",
       "        vertical-align: top;\n",
       "    }\n",
       "\n",
       "    .dataframe thead th {\n",
       "        text-align: right;\n",
       "    }\n",
       "</style>\n",
       "<table border=\"1\" class=\"dataframe\">\n",
       "  <thead>\n",
       "    <tr style=\"text-align: right;\">\n",
       "      <th></th>\n",
       "      <th>review</th>\n",
       "      <th>item_id</th>\n",
       "      <th>recommend</th>\n",
       "      <th>sentimentanalysis</th>\n",
       "      <th>item_name</th>\n",
       "      <th>user_id</th>\n",
       "      <th>_merge</th>\n",
       "    </tr>\n",
       "  </thead>\n",
       "  <tbody>\n",
       "    <tr>\n",
       "      <th>0</th>\n",
       "      <td>played 5 mins and looking forward to more love...</td>\n",
       "      <td>50300</td>\n",
       "      <td>True</td>\n",
       "      <td>0.8303</td>\n",
       "      <td>Spec Ops: The Line</td>\n",
       "      <td>76561198028552934</td>\n",
       "      <td>both</td>\n",
       "    </tr>\n",
       "    <tr>\n",
       "      <th>1</th>\n",
       "      <td>This game is amazing it's got one of the best ...</td>\n",
       "      <td>203160</td>\n",
       "      <td>True</td>\n",
       "      <td>0.9631</td>\n",
       "      <td>Tomb Raider</td>\n",
       "      <td>diet_cola</td>\n",
       "      <td>both</td>\n",
       "    </tr>\n",
       "    <tr>\n",
       "      <th>2</th>\n",
       "      <td>This game is amazing it's got one of the best ...</td>\n",
       "      <td>203160</td>\n",
       "      <td>True</td>\n",
       "      <td>0.9631</td>\n",
       "      <td>Tomb Raider</td>\n",
       "      <td>76561197965263006</td>\n",
       "      <td>both</td>\n",
       "    </tr>\n",
       "    <tr>\n",
       "      <th>3</th>\n",
       "      <td>This game is amazing it's got one of the best ...</td>\n",
       "      <td>203160</td>\n",
       "      <td>True</td>\n",
       "      <td>0.9631</td>\n",
       "      <td>Tomb Raider</td>\n",
       "      <td>botakboy</td>\n",
       "      <td>both</td>\n",
       "    </tr>\n",
       "    <tr>\n",
       "      <th>4</th>\n",
       "      <td>Great game</td>\n",
       "      <td>252490</td>\n",
       "      <td>True</td>\n",
       "      <td>0.6249</td>\n",
       "      <td>Rust</td>\n",
       "      <td>foolsfoolsfools</td>\n",
       "      <td>both</td>\n",
       "    </tr>\n",
       "  </tbody>\n",
       "</table>\n",
       "</div>"
      ],
      "text/plain": [
       "                                              review item_id  recommend  \\\n",
       "0  played 5 mins and looking forward to more love...   50300       True   \n",
       "1  This game is amazing it's got one of the best ...  203160       True   \n",
       "2  This game is amazing it's got one of the best ...  203160       True   \n",
       "3  This game is amazing it's got one of the best ...  203160       True   \n",
       "4                                         Great game  252490       True   \n",
       "\n",
       "   sentimentanalysis           item_name            user_id _merge  \n",
       "0             0.8303  Spec Ops: The Line  76561198028552934   both  \n",
       "1             0.9631         Tomb Raider          diet_cola   both  \n",
       "2             0.9631         Tomb Raider  76561197965263006   both  \n",
       "3             0.9631         Tomb Raider           botakboy   both  \n",
       "4             0.6249                Rust    foolsfoolsfools   both  "
      ]
     },
     "execution_count": 329,
     "metadata": {},
     "output_type": "execute_result"
    }
   ],
   "source": [
    "data_review.head(5)"
   ]
  },
  {
   "cell_type": "code",
   "execution_count": 330,
   "metadata": {},
   "outputs": [],
   "source": [
    "data_review.drop(['_merge'], inplace=True, axis=1)"
   ]
  },
  {
   "cell_type": "code",
   "execution_count": 331,
   "metadata": {},
   "outputs": [
    {
     "data": {
      "text/plain": [
       "review               0\n",
       "item_id              0\n",
       "recommend            0\n",
       "sentimentanalysis    0\n",
       "item_name            0\n",
       "user_id              0\n",
       "dtype: int64"
      ]
     },
     "execution_count": 331,
     "metadata": {},
     "output_type": "execute_result"
    }
   ],
   "source": [
    "data_review.isnull().sum()"
   ]
  },
  {
   "cell_type": "code",
   "execution_count": 332,
   "metadata": {},
   "outputs": [
    {
     "data": {
      "text/plain": [
       "0"
      ]
     },
     "execution_count": 332,
     "metadata": {},
     "output_type": "execute_result"
    }
   ],
   "source": [
    "data_review.duplicated().sum()"
   ]
  },
  {
   "cell_type": "code",
   "execution_count": 333,
   "metadata": {},
   "outputs": [],
   "source": [
    "data_review.drop_duplicates(inplace=True) "
   ]
  },
  {
   "cell_type": "code",
   "execution_count": 334,
   "metadata": {},
   "outputs": [],
   "source": [
    "data_review = data_review.sample(n=1000, random_state=38)"
   ]
  },
  {
   "cell_type": "code",
   "execution_count": 335,
   "metadata": {},
   "outputs": [],
   "source": [
    "#si el archivo base_modelo_clean.parquet NO EXISTE debe de omitirse este paso. Continuar en el vectorizer\n",
    "data_review = pd.read_parquet(\"./dataSet/base_modelo_clean.parquet\")"
   ]
  },
  {
   "cell_type": "code",
   "execution_count": 336,
   "metadata": {},
   "outputs": [
    {
     "data": {
      "text/html": [
       "<div>\n",
       "<style scoped>\n",
       "    .dataframe tbody tr th:only-of-type {\n",
       "        vertical-align: middle;\n",
       "    }\n",
       "\n",
       "    .dataframe tbody tr th {\n",
       "        vertical-align: top;\n",
       "    }\n",
       "\n",
       "    .dataframe thead th {\n",
       "        text-align: right;\n",
       "    }\n",
       "</style>\n",
       "<table border=\"1\" class=\"dataframe\">\n",
       "  <thead>\n",
       "    <tr style=\"text-align: right;\">\n",
       "      <th></th>\n",
       "      <th>review</th>\n",
       "      <th>item_id</th>\n",
       "      <th>recommend</th>\n",
       "      <th>sentimentanalysis</th>\n",
       "      <th>item_name</th>\n",
       "      <th>user_id</th>\n",
       "    </tr>\n",
       "  </thead>\n",
       "  <tbody>\n",
       "    <tr>\n",
       "      <th>0</th>\n",
       "      <td>Real Boss once you get the hang of it.</td>\n",
       "      <td>230410</td>\n",
       "      <td>True</td>\n",
       "      <td>0.0000</td>\n",
       "      <td>Warframe</td>\n",
       "      <td>me2118</td>\n",
       "    </tr>\n",
       "    <tr>\n",
       "      <th>1</th>\n",
       "      <td>this is the best game EVER</td>\n",
       "      <td>4000</td>\n",
       "      <td>True</td>\n",
       "      <td>0.6369</td>\n",
       "      <td>Garry's Mod</td>\n",
       "      <td>76561198053502339</td>\n",
       "    </tr>\n",
       "    <tr>\n",
       "      <th>2</th>\n",
       "      <td>OK. So let me explain. Borderlands 2 has you s...</td>\n",
       "      <td>49520</td>\n",
       "      <td>True</td>\n",
       "      <td>-0.6810</td>\n",
       "      <td>Borderlands 2</td>\n",
       "      <td>76561198077032945</td>\n",
       "    </tr>\n",
       "    <tr>\n",
       "      <th>3</th>\n",
       "      <td>this game is so much fun</td>\n",
       "      <td>4000</td>\n",
       "      <td>True</td>\n",
       "      <td>0.5542</td>\n",
       "      <td>Garry's Mod</td>\n",
       "      <td>TuttyGT</td>\n",
       "    </tr>\n",
       "    <tr>\n",
       "      <th>4</th>\n",
       "      <td>Not gonna lie runs like ♥♥♥ on the fastest</td>\n",
       "      <td>252490</td>\n",
       "      <td>False</td>\n",
       "      <td>0.3612</td>\n",
       "      <td>Rust</td>\n",
       "      <td>CuzySato</td>\n",
       "    </tr>\n",
       "  </tbody>\n",
       "</table>\n",
       "</div>"
      ],
      "text/plain": [
       "                                              review  item_id  recommend  \\\n",
       "0             Real Boss once you get the hang of it.   230410       True   \n",
       "1                         this is the best game EVER     4000       True   \n",
       "2  OK. So let me explain. Borderlands 2 has you s...    49520       True   \n",
       "3                           this game is so much fun     4000       True   \n",
       "4         Not gonna lie runs like ♥♥♥ on the fastest   252490      False   \n",
       "\n",
       "   sentimentanalysis      item_name            user_id  \n",
       "0             0.0000       Warframe             me2118  \n",
       "1             0.6369    Garry's Mod  76561198053502339  \n",
       "2            -0.6810  Borderlands 2  76561198077032945  \n",
       "3             0.5542    Garry's Mod            TuttyGT  \n",
       "4             0.3612           Rust           CuzySato  "
      ]
     },
     "execution_count": 336,
     "metadata": {},
     "output_type": "execute_result"
    }
   ],
   "source": [
    "data_review.head(5)"
   ]
  },
  {
   "cell_type": "code",
   "execution_count": 337,
   "metadata": {},
   "outputs": [
    {
     "name": "stdout",
     "output_type": "stream",
     "text": [
      "<class 'pandas.core.frame.DataFrame'>\n",
      "RangeIndex: 1000 entries, 0 to 999\n",
      "Data columns (total 6 columns):\n",
      " #   Column             Non-Null Count  Dtype  \n",
      "---  ------             --------------  -----  \n",
      " 0   review             1000 non-null   object \n",
      " 1   item_id            1000 non-null   int32  \n",
      " 2   recommend          1000 non-null   bool   \n",
      " 3   sentimentanalysis  1000 non-null   float64\n",
      " 4   item_name          1000 non-null   object \n",
      " 5   user_id            1000 non-null   object \n",
      "dtypes: bool(1), float64(1), int32(1), object(3)\n",
      "memory usage: 36.3+ KB\n"
     ]
    }
   ],
   "source": [
    "data_review.info()"
   ]
  },
  {
   "cell_type": "code",
   "execution_count": 338,
   "metadata": {},
   "outputs": [],
   "source": [
    "# Convertir 'item_id' de tipo 'object' a 'int'\n",
    "data_review['item_id'] = data_review['item_id'].astype(int)"
   ]
  },
  {
   "cell_type": "code",
   "execution_count": 339,
   "metadata": {},
   "outputs": [
    {
     "data": {
      "text/plain": [
       "(1000, 6)"
      ]
     },
     "execution_count": 339,
     "metadata": {},
     "output_type": "execute_result"
    }
   ],
   "source": [
    "data_review.shape"
   ]
  },
  {
   "cell_type": "code",
   "execution_count": 340,
   "metadata": {},
   "outputs": [],
   "source": [
    "# Primero, vamos a convertir la columna 'nombre' a una representación numérica usando TF-IDF\n",
    "vectorizer = TfidfVectorizer()\n",
    "tfidf_matrix = vectorizer.fit_transform(data_review['review'])\n",
    "\n",
    "# Luego, vamos a añadir las columnas numéricas a nuestra matriz de características\n",
    "features = np.column_stack([tfidf_matrix.toarray(), data_review['recommend'], data_review['sentimentanalysis']])\n"
   ]
  },
  {
   "cell_type": "code",
   "execution_count": 341,
   "metadata": {},
   "outputs": [
    {
     "data": {
      "text/plain": [
       "array([[ 0.    ,  0.    ,  0.    , ...,  0.    ,  1.    ,  0.    ],\n",
       "       [ 0.    ,  0.    ,  0.    , ...,  0.    ,  1.    ,  0.6369],\n",
       "       [ 0.    ,  0.    ,  0.    , ...,  0.    ,  1.    , -0.681 ],\n",
       "       ...,\n",
       "       [ 0.    ,  0.    ,  0.    , ...,  0.    ,  1.    ,  0.5106],\n",
       "       [ 0.    ,  0.    ,  0.    , ...,  0.    ,  1.    ,  0.9601],\n",
       "       [ 0.    ,  0.    ,  0.    , ...,  0.    ,  0.    ,  0.4075]])"
      ]
     },
     "execution_count": 341,
     "metadata": {},
     "output_type": "execute_result"
    }
   ],
   "source": [
    "features"
   ]
  },
  {
   "cell_type": "code",
   "execution_count": 342,
   "metadata": {},
   "outputs": [],
   "source": [
    "# Reindexamos el DataFrame\n",
    "data_review = data_review.reset_index(drop=True)\n",
    "\n"
   ]
  },
  {
   "cell_type": "code",
   "execution_count": 343,
   "metadata": {},
   "outputs": [],
   "source": [
    "# Ahora, calculamos la matriz de similitud de coseno\n",
    "similarity_matrix = cosine_similarity(features)\n",
    "\n"
   ]
  },
  {
   "cell_type": "code",
   "execution_count": 344,
   "metadata": {},
   "outputs": [
    {
     "name": "stdout",
     "output_type": "stream",
     "text": [
      "Los productos más similares al producto 1250 son:\n",
      "485                       Killing Floor\n",
      "336    Counter-Strike: Global Offensive\n",
      "501    Counter-Strike: Global Offensive\n",
      "409    Counter-Strike: Global Offensive\n",
      "445                       Left 4 Dead 2\n",
      "                     ...               \n",
      "440                         Garry's Mod\n",
      "658                            PAYDAY 2\n",
      "173                            PAYDAY 2\n",
      "718                   Heroes & Generals\n",
      "73                    Heroes & Generals\n",
      "Name: item_name, Length: 1000, dtype: object\n"
     ]
    }
   ],
   "source": [
    "# Para hacer recomendaciones, puedes buscar los productos más similares a un producto dado\n",
    "id_game = 1250  # El nombre del producto para el que quieres hacer recomendaciones\n",
    "producto = data_review[data_review['item_id'] == id_game]\n",
    "\n",
    "if not producto.empty:\n",
    "    product_index = producto.index[0]\n",
    "    product_similarities = similarity_matrix[product_index]\n",
    "    most_similar_products_indices = np.argsort(-product_similarities)\n",
    "    most_similar_products = data_review.loc[most_similar_products_indices, 'item_name']\n",
    "    print(\"Los productos más similares al producto\", id_game, \"son:\")\n",
    "    print(most_similar_products)\n",
    "else:\n",
    "    print(\"Producto no encontrado\")\n"
   ]
  },
  {
   "cell_type": "code",
   "execution_count": 345,
   "metadata": {},
   "outputs": [
    {
     "name": "stdout",
     "output_type": "stream",
     "text": [
      "Los productos más similares al producto 1250 son:\n",
      "806              Tomb Raider\n",
      "5                Tomb Raider\n",
      "520              Tomb Raider\n",
      "309    Saints Row: The Third\n",
      "305        BioShock Infinite\n",
      "               ...          \n",
      "853              Garry's Mod\n",
      "173                 PAYDAY 2\n",
      "658                 PAYDAY 2\n",
      "73         Heroes & Generals\n",
      "718        Heroes & Generals\n",
      "Name: item_name, Length: 1000, dtype: object\n"
     ]
    }
   ],
   "source": [
    "# Para hacer recomendaciones, puedes buscar los productos más similares a un producto dado\n",
    "id_user = 'diet_cola'  # El nombre del producto para el que quieres hacer recomendaciones\n",
    "producto = data_review[data_review['user_id'] == id_user]\n",
    "\n",
    "if not producto.empty:\n",
    "    product_index = producto.index[0]\n",
    "    product_similarities = similarity_matrix[product_index]\n",
    "    most_similar_products_indices = np.argsort(-product_similarities)\n",
    "    most_similar_products = data_review.loc[most_similar_products_indices, 'item_name']\n",
    "    print(\"Los productos más similares al producto\", id_game, \"son:\")\n",
    "    print(most_similar_products)\n",
    "else:\n",
    "    print(\"Producto no encontrado\")\n"
   ]
  },
  {
   "cell_type": "code",
   "execution_count": 352,
   "metadata": {},
   "outputs": [
    {
     "name": "stdout",
     "output_type": "stream",
     "text": [
      "<class 'pandas.core.frame.DataFrame'>\n",
      "RangeIndex: 1000 entries, 0 to 999\n",
      "Data columns (total 6 columns):\n",
      " #   Column             Non-Null Count  Dtype  \n",
      "---  ------             --------------  -----  \n",
      " 0   review             1000 non-null   object \n",
      " 1   item_id            1000 non-null   int32  \n",
      " 2   recommend          1000 non-null   bool   \n",
      " 3   sentimentanalysis  1000 non-null   float64\n",
      " 4   item_name          1000 non-null   object \n",
      " 5   user_id            1000 non-null   object \n",
      "dtypes: bool(1), float64(1), int32(1), object(3)\n",
      "memory usage: 36.3+ KB\n"
     ]
    }
   ],
   "source": [
    "data_review.info()"
   ]
  },
  {
   "cell_type": "code",
   "execution_count": 350,
   "metadata": {},
   "outputs": [
    {
     "name": "stdout",
     "output_type": "stream",
     "text": [
      "Se guardó el archivo ./dataSet/base_modelo_clean.parquet\n"
     ]
    }
   ],
   "source": [
    "modelo = './dataSet/base_modelo_clean.parquet'\n",
    "data_review.to_parquet(modelo, index=False)\n",
    "print(f'Se guardó el archivo {modelo}')"
   ]
  },
  {
   "cell_type": "code",
   "execution_count": 347,
   "metadata": {},
   "outputs": [
    {
     "data": {
      "text/plain": [
       "806              Tomb Raider\n",
       "5                Tomb Raider\n",
       "520              Tomb Raider\n",
       "309    Saints Row: The Third\n",
       "305        BioShock Infinite\n",
       "Name: item_name, dtype: object"
      ]
     },
     "execution_count": 347,
     "metadata": {},
     "output_type": "execute_result"
    }
   ],
   "source": [
    "most_similar_products[:5]"
   ]
  },
  {
   "cell_type": "code",
   "execution_count": 18,
   "metadata": {},
   "outputs": [
    {
     "data": {
      "text/plain": [
       "{'Juego Recomendado ': ['Borderlands 2',\n",
       "  'Borderlands 2',\n",
       "  'Borderlands 2',\n",
       "  'Borderlands 2',\n",
       "  'Borderlands 2']}"
      ]
     },
     "execution_count": 18,
     "metadata": {},
     "output_type": "execute_result"
    }
   ],
   "source": [
    "def recomendacion_juego(id_de_producto:int):\n",
    "    modelo = pd.read_parquet('base_modelo_clean.parquet')\n",
    "    #Primero, vamos a convertir la columna 'title' a una representación numérica usando TF-IDF (Frecuencia de Terminos - Freciencia Inversa de Terminos)\n",
    "\n",
    "    \n",
    "    id_de_producto = str(id_de_producto)\n",
    "    modelo['item_id'] = modelo['item_id'].astype(str)\n",
    "\n",
    "\n",
    "    vectorizer = TfidfVectorizer()\n",
    "    tfidf_matrix = vectorizer.fit_transform(modelo['item_id'])\n",
    "\n",
    "    #se buscan los que son similares al id del juego\n",
    "    features = np.column_stack([tfidf_matrix.toarray(), modelo['recommend'], modelo['sentimentanalysis']])\n",
    "\n",
    "    #Verificamos la existencia del Id del juego a establecer simulitud de juegos\n",
    "    result = modelo[modelo['item_id'] == id_de_producto]\n",
    "    nombre_del_juego=result.iloc[0]['item_name']\n",
    "    if result.empty:\n",
    "        return \"No hay datos para el datos para el juego seleccionado.\"\n",
    "    #Reindexamos el DataFrame\n",
    "    data_aplicativo = modelo.reset_index(drop=True)\n",
    "    \n",
    "    #Ahora, calculamos la matriz de similitud de coseno\n",
    "    similarity_matrix = cosine_similarity(features)\n",
    "\n",
    "    # Para hacer recomendaciones, puedes buscar los juegos más similares a un juego dado\n",
    "    juego = data_aplicativo[data_aplicativo['item_name'] == nombre_del_juego].index[0]\n",
    "    score = list(enumerate(similarity_matrix[juego]))\n",
    "    score= sorted(score, key=lambda x: x[1],reverse=True)\n",
    "    resultado = score[1:6]\n",
    "    total = modelo['item_name'].iloc[[i[0] for i in resultado]].tolist()\n",
    "    \n",
    "    return{'Juego Recomendado ': total}\n",
    "\n",
    "    \n",
    "recomendacion_juego(49520)"
   ]
  },
  {
   "cell_type": "code",
   "execution_count": 8,
   "metadata": {},
   "outputs": [
    {
     "name": "stdout",
     "output_type": "stream",
     "text": [
      "<class 'pandas.core.frame.DataFrame'>\n",
      "RangeIndex: 1000 entries, 0 to 999\n",
      "Data columns (total 6 columns):\n",
      " #   Column             Non-Null Count  Dtype  \n",
      "---  ------             --------------  -----  \n",
      " 0   review             1000 non-null   object \n",
      " 1   item_id            1000 non-null   int32  \n",
      " 2   recommend          1000 non-null   bool   \n",
      " 3   sentimentanalysis  1000 non-null   float64\n",
      " 4   item_name          1000 non-null   object \n",
      " 5   user_id            1000 non-null   object \n",
      "dtypes: bool(1), float64(1), int32(1), object(3)\n",
      "memory usage: 36.3+ KB\n"
     ]
    }
   ],
   "source": [
    "modelo = pd.read_parquet('base_modelo_clean.parquet')\n",
    "modelo.info()"
   ]
  },
  {
   "cell_type": "code",
   "execution_count": 14,
   "metadata": {},
   "outputs": [
    {
     "data": {
      "text/html": [
       "<div>\n",
       "<style scoped>\n",
       "    .dataframe tbody tr th:only-of-type {\n",
       "        vertical-align: middle;\n",
       "    }\n",
       "\n",
       "    .dataframe tbody tr th {\n",
       "        vertical-align: top;\n",
       "    }\n",
       "\n",
       "    .dataframe thead th {\n",
       "        text-align: right;\n",
       "    }\n",
       "</style>\n",
       "<table border=\"1\" class=\"dataframe\">\n",
       "  <thead>\n",
       "    <tr style=\"text-align: right;\">\n",
       "      <th></th>\n",
       "      <th>review</th>\n",
       "      <th>item_id</th>\n",
       "      <th>recommend</th>\n",
       "      <th>sentimentanalysis</th>\n",
       "      <th>item_name</th>\n",
       "      <th>user_id</th>\n",
       "    </tr>\n",
       "  </thead>\n",
       "  <tbody>\n",
       "    <tr>\n",
       "      <th>0</th>\n",
       "      <td>Real Boss once you get the hang of it.</td>\n",
       "      <td>230410</td>\n",
       "      <td>True</td>\n",
       "      <td>0.0000</td>\n",
       "      <td>Warframe</td>\n",
       "      <td>me2118</td>\n",
       "    </tr>\n",
       "    <tr>\n",
       "      <th>1</th>\n",
       "      <td>this is the best game EVER</td>\n",
       "      <td>4000</td>\n",
       "      <td>True</td>\n",
       "      <td>0.6369</td>\n",
       "      <td>Garry's Mod</td>\n",
       "      <td>76561198053502339</td>\n",
       "    </tr>\n",
       "    <tr>\n",
       "      <th>2</th>\n",
       "      <td>OK. So let me explain. Borderlands 2 has you s...</td>\n",
       "      <td>49520</td>\n",
       "      <td>True</td>\n",
       "      <td>-0.6810</td>\n",
       "      <td>Borderlands 2</td>\n",
       "      <td>76561198077032945</td>\n",
       "    </tr>\n",
       "    <tr>\n",
       "      <th>3</th>\n",
       "      <td>this game is so much fun</td>\n",
       "      <td>4000</td>\n",
       "      <td>True</td>\n",
       "      <td>0.5542</td>\n",
       "      <td>Garry's Mod</td>\n",
       "      <td>TuttyGT</td>\n",
       "    </tr>\n",
       "    <tr>\n",
       "      <th>4</th>\n",
       "      <td>Not gonna lie runs like ♥♥♥ on the fastest</td>\n",
       "      <td>252490</td>\n",
       "      <td>False</td>\n",
       "      <td>0.3612</td>\n",
       "      <td>Rust</td>\n",
       "      <td>CuzySato</td>\n",
       "    </tr>\n",
       "  </tbody>\n",
       "</table>\n",
       "</div>"
      ],
      "text/plain": [
       "                                              review  item_id  recommend  \\\n",
       "0             Real Boss once you get the hang of it.   230410       True   \n",
       "1                         this is the best game EVER     4000       True   \n",
       "2  OK. So let me explain. Borderlands 2 has you s...    49520       True   \n",
       "3                           this game is so much fun     4000       True   \n",
       "4         Not gonna lie runs like ♥♥♥ on the fastest   252490      False   \n",
       "\n",
       "   sentimentanalysis      item_name            user_id  \n",
       "0             0.0000       Warframe             me2118  \n",
       "1             0.6369    Garry's Mod  76561198053502339  \n",
       "2            -0.6810  Borderlands 2  76561198077032945  \n",
       "3             0.5542    Garry's Mod            TuttyGT  \n",
       "4             0.3612           Rust           CuzySato  "
      ]
     },
     "execution_count": 14,
     "metadata": {},
     "output_type": "execute_result"
    }
   ],
   "source": [
    "modelo.head(5)"
   ]
  }
 ],
 "metadata": {
  "kernelspec": {
   "display_name": "Python 3",
   "language": "python",
   "name": "python3"
  },
  "language_info": {
   "codemirror_mode": {
    "name": "ipython",
    "version": 3
   },
   "file_extension": ".py",
   "mimetype": "text/x-python",
   "name": "python",
   "nbconvert_exporter": "python",
   "pygments_lexer": "ipython3",
   "version": "3.11.9"
  }
 },
 "nbformat": 4,
 "nbformat_minor": 2
}
