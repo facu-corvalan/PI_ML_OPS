{
 "cells": [
  {
   "cell_type": "markdown",
   "metadata": {},
   "source": [
    "# Proceso de ETL del DataSet steam_games"
   ]
  },
  {
   "cell_type": "code",
   "execution_count": 105,
   "metadata": {},
   "outputs": [],
   "source": [
    "#Importo las librerias que voy a usar\n",
    "import pandas as pd\n",
    "import gzip\n",
    "import ast"
   ]
  },
  {
   "cell_type": "code",
   "execution_count": 106,
   "metadata": {},
   "outputs": [
    {
     "data": {
      "text/html": [
       "<div>\n",
       "<style scoped>\n",
       "    .dataframe tbody tr th:only-of-type {\n",
       "        vertical-align: middle;\n",
       "    }\n",
       "\n",
       "    .dataframe tbody tr th {\n",
       "        vertical-align: top;\n",
       "    }\n",
       "\n",
       "    .dataframe thead th {\n",
       "        text-align: right;\n",
       "    }\n",
       "</style>\n",
       "<table border=\"1\" class=\"dataframe\">\n",
       "  <thead>\n",
       "    <tr style=\"text-align: right;\">\n",
       "      <th></th>\n",
       "      <th>publisher</th>\n",
       "      <th>genres</th>\n",
       "      <th>app_name</th>\n",
       "      <th>title</th>\n",
       "      <th>url</th>\n",
       "      <th>release_date</th>\n",
       "      <th>tags</th>\n",
       "      <th>reviews_url</th>\n",
       "      <th>specs</th>\n",
       "      <th>price</th>\n",
       "      <th>early_access</th>\n",
       "      <th>id</th>\n",
       "      <th>developer</th>\n",
       "    </tr>\n",
       "  </thead>\n",
       "  <tbody>\n",
       "    <tr>\n",
       "      <th>0</th>\n",
       "      <td>None</td>\n",
       "      <td>None</td>\n",
       "      <td>None</td>\n",
       "      <td>None</td>\n",
       "      <td>None</td>\n",
       "      <td>None</td>\n",
       "      <td>None</td>\n",
       "      <td>None</td>\n",
       "      <td>None</td>\n",
       "      <td>None</td>\n",
       "      <td>NaN</td>\n",
       "      <td>NaN</td>\n",
       "      <td>None</td>\n",
       "    </tr>\n",
       "    <tr>\n",
       "      <th>1</th>\n",
       "      <td>None</td>\n",
       "      <td>None</td>\n",
       "      <td>None</td>\n",
       "      <td>None</td>\n",
       "      <td>None</td>\n",
       "      <td>None</td>\n",
       "      <td>None</td>\n",
       "      <td>None</td>\n",
       "      <td>None</td>\n",
       "      <td>None</td>\n",
       "      <td>NaN</td>\n",
       "      <td>NaN</td>\n",
       "      <td>None</td>\n",
       "    </tr>\n",
       "    <tr>\n",
       "      <th>2</th>\n",
       "      <td>None</td>\n",
       "      <td>None</td>\n",
       "      <td>None</td>\n",
       "      <td>None</td>\n",
       "      <td>None</td>\n",
       "      <td>None</td>\n",
       "      <td>None</td>\n",
       "      <td>None</td>\n",
       "      <td>None</td>\n",
       "      <td>None</td>\n",
       "      <td>NaN</td>\n",
       "      <td>NaN</td>\n",
       "      <td>None</td>\n",
       "    </tr>\n",
       "    <tr>\n",
       "      <th>3</th>\n",
       "      <td>None</td>\n",
       "      <td>None</td>\n",
       "      <td>None</td>\n",
       "      <td>None</td>\n",
       "      <td>None</td>\n",
       "      <td>None</td>\n",
       "      <td>None</td>\n",
       "      <td>None</td>\n",
       "      <td>None</td>\n",
       "      <td>None</td>\n",
       "      <td>NaN</td>\n",
       "      <td>NaN</td>\n",
       "      <td>None</td>\n",
       "    </tr>\n",
       "    <tr>\n",
       "      <th>4</th>\n",
       "      <td>None</td>\n",
       "      <td>None</td>\n",
       "      <td>None</td>\n",
       "      <td>None</td>\n",
       "      <td>None</td>\n",
       "      <td>None</td>\n",
       "      <td>None</td>\n",
       "      <td>None</td>\n",
       "      <td>None</td>\n",
       "      <td>None</td>\n",
       "      <td>NaN</td>\n",
       "      <td>NaN</td>\n",
       "      <td>None</td>\n",
       "    </tr>\n",
       "  </tbody>\n",
       "</table>\n",
       "</div>"
      ],
      "text/plain": [
       "  publisher genres app_name title   url release_date  tags reviews_url specs  \\\n",
       "0      None   None     None  None  None         None  None        None  None   \n",
       "1      None   None     None  None  None         None  None        None  None   \n",
       "2      None   None     None  None  None         None  None        None  None   \n",
       "3      None   None     None  None  None         None  None        None  None   \n",
       "4      None   None     None  None  None         None  None        None  None   \n",
       "\n",
       "  price  early_access  id developer  \n",
       "0  None           NaN NaN      None  \n",
       "1  None           NaN NaN      None  \n",
       "2  None           NaN NaN      None  \n",
       "3  None           NaN NaN      None  \n",
       "4  None           NaN NaN      None  "
      ]
     },
     "execution_count": 106,
     "metadata": {},
     "output_type": "execute_result"
    }
   ],
   "source": [
    "# Tengo que cargar el dataset que voy a utilizar\n",
    "games = pd.read_json(\"../Dataset/steam_games.json.gz\", compression=\"gzip\", lines=True)\n",
    "games.head(5)"
   ]
  },
  {
   "cell_type": "markdown",
   "metadata": {},
   "source": [
    "Se debera detectar la cantidad de valores nulos y se debera proceder a eliminarlos"
   ]
  },
  {
   "cell_type": "code",
   "execution_count": 107,
   "metadata": {},
   "outputs": [
    {
     "data": {
      "text/html": [
       "<div>\n",
       "<style scoped>\n",
       "    .dataframe tbody tr th:only-of-type {\n",
       "        vertical-align: middle;\n",
       "    }\n",
       "\n",
       "    .dataframe tbody tr th {\n",
       "        vertical-align: top;\n",
       "    }\n",
       "\n",
       "    .dataframe thead th {\n",
       "        text-align: right;\n",
       "    }\n",
       "</style>\n",
       "<table border=\"1\" class=\"dataframe\">\n",
       "  <thead>\n",
       "    <tr style=\"text-align: right;\">\n",
       "      <th></th>\n",
       "      <th>publisher</th>\n",
       "      <th>genres</th>\n",
       "      <th>app_name</th>\n",
       "      <th>title</th>\n",
       "      <th>url</th>\n",
       "      <th>release_date</th>\n",
       "      <th>tags</th>\n",
       "      <th>reviews_url</th>\n",
       "      <th>specs</th>\n",
       "      <th>price</th>\n",
       "      <th>early_access</th>\n",
       "      <th>id</th>\n",
       "      <th>developer</th>\n",
       "    </tr>\n",
       "  </thead>\n",
       "  <tbody>\n",
       "    <tr>\n",
       "      <th>88310</th>\n",
       "      <td>Kotoshiro</td>\n",
       "      <td>[Action, Casual, Indie, Simulation, Strategy]</td>\n",
       "      <td>Lost Summoner Kitty</td>\n",
       "      <td>Lost Summoner Kitty</td>\n",
       "      <td>http://store.steampowered.com/app/761140/Lost_...</td>\n",
       "      <td>2018-01-04</td>\n",
       "      <td>[Strategy, Action, Indie, Casual, Simulation]</td>\n",
       "      <td>http://steamcommunity.com/app/761140/reviews/?...</td>\n",
       "      <td>[Single-player]</td>\n",
       "      <td>4.99</td>\n",
       "      <td>0.0</td>\n",
       "      <td>761140.0</td>\n",
       "      <td>Kotoshiro</td>\n",
       "    </tr>\n",
       "    <tr>\n",
       "      <th>88311</th>\n",
       "      <td>Making Fun, Inc.</td>\n",
       "      <td>[Free to Play, Indie, RPG, Strategy]</td>\n",
       "      <td>Ironbound</td>\n",
       "      <td>Ironbound</td>\n",
       "      <td>http://store.steampowered.com/app/643980/Ironb...</td>\n",
       "      <td>2018-01-04</td>\n",
       "      <td>[Free to Play, Strategy, Indie, RPG, Card Game...</td>\n",
       "      <td>http://steamcommunity.com/app/643980/reviews/?...</td>\n",
       "      <td>[Single-player, Multi-player, Online Multi-Pla...</td>\n",
       "      <td>Free To Play</td>\n",
       "      <td>0.0</td>\n",
       "      <td>643980.0</td>\n",
       "      <td>Secret Level SRL</td>\n",
       "    </tr>\n",
       "    <tr>\n",
       "      <th>88312</th>\n",
       "      <td>Poolians.com</td>\n",
       "      <td>[Casual, Free to Play, Indie, Simulation, Sports]</td>\n",
       "      <td>Real Pool 3D - Poolians</td>\n",
       "      <td>Real Pool 3D - Poolians</td>\n",
       "      <td>http://store.steampowered.com/app/670290/Real_...</td>\n",
       "      <td>2017-07-24</td>\n",
       "      <td>[Free to Play, Simulation, Sports, Casual, Ind...</td>\n",
       "      <td>http://steamcommunity.com/app/670290/reviews/?...</td>\n",
       "      <td>[Single-player, Multi-player, Online Multi-Pla...</td>\n",
       "      <td>Free to Play</td>\n",
       "      <td>0.0</td>\n",
       "      <td>670290.0</td>\n",
       "      <td>Poolians.com</td>\n",
       "    </tr>\n",
       "  </tbody>\n",
       "</table>\n",
       "</div>"
      ],
      "text/plain": [
       "              publisher                                             genres  \\\n",
       "88310         Kotoshiro      [Action, Casual, Indie, Simulation, Strategy]   \n",
       "88311  Making Fun, Inc.               [Free to Play, Indie, RPG, Strategy]   \n",
       "88312      Poolians.com  [Casual, Free to Play, Indie, Simulation, Sports]   \n",
       "\n",
       "                      app_name                    title  \\\n",
       "88310      Lost Summoner Kitty      Lost Summoner Kitty   \n",
       "88311                Ironbound                Ironbound   \n",
       "88312  Real Pool 3D - Poolians  Real Pool 3D - Poolians   \n",
       "\n",
       "                                                     url release_date  \\\n",
       "88310  http://store.steampowered.com/app/761140/Lost_...   2018-01-04   \n",
       "88311  http://store.steampowered.com/app/643980/Ironb...   2018-01-04   \n",
       "88312  http://store.steampowered.com/app/670290/Real_...   2017-07-24   \n",
       "\n",
       "                                                    tags  \\\n",
       "88310      [Strategy, Action, Indie, Casual, Simulation]   \n",
       "88311  [Free to Play, Strategy, Indie, RPG, Card Game...   \n",
       "88312  [Free to Play, Simulation, Sports, Casual, Ind...   \n",
       "\n",
       "                                             reviews_url  \\\n",
       "88310  http://steamcommunity.com/app/761140/reviews/?...   \n",
       "88311  http://steamcommunity.com/app/643980/reviews/?...   \n",
       "88312  http://steamcommunity.com/app/670290/reviews/?...   \n",
       "\n",
       "                                                   specs         price  \\\n",
       "88310                                    [Single-player]          4.99   \n",
       "88311  [Single-player, Multi-player, Online Multi-Pla...  Free To Play   \n",
       "88312  [Single-player, Multi-player, Online Multi-Pla...  Free to Play   \n",
       "\n",
       "       early_access        id         developer  \n",
       "88310           0.0  761140.0         Kotoshiro  \n",
       "88311           0.0  643980.0  Secret Level SRL  \n",
       "88312           0.0  670290.0      Poolians.com  "
      ]
     },
     "execution_count": 107,
     "metadata": {},
     "output_type": "execute_result"
    }
   ],
   "source": [
    "# Con la siguiente funcion elimino las filas que solo tienen valores nulos\n",
    "games = games.dropna(how='all')\n",
    "# Y comprobamos si funciona\n",
    "games.head(3)"
   ]
  },
  {
   "cell_type": "code",
   "execution_count": 108,
   "metadata": {},
   "outputs": [
    {
     "name": "stdout",
     "output_type": "stream",
     "text": [
      "Hay 8052 valores nulos en publisher\n",
      "Hay 3283 valores nulos en genres\n",
      "Hay 2 valores nulos en app_name\n",
      "Hay 2050 valores nulos en title\n",
      "Hay 0 valores nulos en url\n",
      "Hay 2067 valores nulos en release_date\n",
      "Hay 163 valores nulos en tags\n",
      "Hay 2 valores nulos en reviews_url\n",
      "Hay 670 valores nulos en specs\n",
      "Hay 1377 valores nulos en price\n",
      "Hay 0 valores nulos en early_access\n",
      "Hay 2 valores nulos en id\n",
      "Hay 3299 valores nulos en developer\n"
     ]
    }
   ],
   "source": [
    "# Ahora identifico la cantidad de valores nulos que qudaron en el dataset\n",
    "for column in games.columns:\n",
    "    print(f'Hay {games[column].isna().sum()} valores nulos en {column}')"
   ]
  },
  {
   "cell_type": "code",
   "execution_count": 109,
   "metadata": {},
   "outputs": [
    {
     "name": "stdout",
     "output_type": "stream",
     "text": [
      "Hay 0 valores nulos en publisher\n",
      "Hay 0 valores nulos en genres\n",
      "Hay 0 valores nulos en app_name\n",
      "Hay 0 valores nulos en title\n",
      "Hay 0 valores nulos en url\n",
      "Hay 0 valores nulos en release_date\n",
      "Hay 0 valores nulos en tags\n",
      "Hay 0 valores nulos en reviews_url\n",
      "Hay 0 valores nulos en specs\n",
      "Hay 0 valores nulos en price\n",
      "Hay 0 valores nulos en early_access\n",
      "Hay 0 valores nulos en id\n",
      "Hay 0 valores nulos en developer\n"
     ]
    }
   ],
   "source": [
    "# Sabiendo la cantidad de nulos que quedaron, ahora procedo a eliminarlos \n",
    "games = games.dropna() \n",
    "#Ahora hago el checkeo \n",
    "for column in games.columns:\n",
    "    print(f'Hay {games[column].isna().sum()} valores nulos en {column}')"
   ]
  },
  {
   "cell_type": "markdown",
   "metadata": {},
   "source": [
    "Borro las columnas que no voy a utilizar"
   ]
  },
  {
   "cell_type": "code",
   "execution_count": 110,
   "metadata": {},
   "outputs": [],
   "source": [
    "games.drop(columns= ['app_name', 'publisher', 'url', 'reviews_url', 'early_access', 'specs'], inplace=True)"
   ]
  },
  {
   "cell_type": "code",
   "execution_count": 111,
   "metadata": {},
   "outputs": [
    {
     "name": "stdout",
     "output_type": "stream",
     "text": [
      "<class 'pandas.core.frame.DataFrame'>\n",
      "Index: 22530 entries, 88310 to 120443\n",
      "Data columns (total 7 columns):\n",
      " #   Column        Non-Null Count  Dtype  \n",
      "---  ------        --------------  -----  \n",
      " 0   genres        22530 non-null  object \n",
      " 1   title         22530 non-null  object \n",
      " 2   release_date  22530 non-null  object \n",
      " 3   tags          22530 non-null  object \n",
      " 4   price         22530 non-null  object \n",
      " 5   id            22530 non-null  float64\n",
      " 6   developer     22530 non-null  object \n",
      "dtypes: float64(1), object(6)\n",
      "memory usage: 1.4+ MB\n"
     ]
    }
   ],
   "source": [
    "games.info()"
   ]
  },
  {
   "cell_type": "code",
   "execution_count": 112,
   "metadata": {},
   "outputs": [
    {
     "data": {
      "text/html": [
       "<div>\n",
       "<style scoped>\n",
       "    .dataframe tbody tr th:only-of-type {\n",
       "        vertical-align: middle;\n",
       "    }\n",
       "\n",
       "    .dataframe tbody tr th {\n",
       "        vertical-align: top;\n",
       "    }\n",
       "\n",
       "    .dataframe thead th {\n",
       "        text-align: right;\n",
       "    }\n",
       "</style>\n",
       "<table border=\"1\" class=\"dataframe\">\n",
       "  <thead>\n",
       "    <tr style=\"text-align: right;\">\n",
       "      <th></th>\n",
       "      <th>genres</th>\n",
       "      <th>title</th>\n",
       "      <th>release_date</th>\n",
       "      <th>tags</th>\n",
       "      <th>price</th>\n",
       "      <th>id</th>\n",
       "      <th>developer</th>\n",
       "    </tr>\n",
       "  </thead>\n",
       "  <tbody>\n",
       "    <tr>\n",
       "      <th>88310</th>\n",
       "      <td>[Action, Casual, Indie, Simulation, Strategy]</td>\n",
       "      <td>Lost Summoner Kitty</td>\n",
       "      <td>2018-01-04</td>\n",
       "      <td>[Strategy, Action, Indie, Casual, Simulation]</td>\n",
       "      <td>4.99</td>\n",
       "      <td>761140.0</td>\n",
       "      <td>Kotoshiro</td>\n",
       "    </tr>\n",
       "    <tr>\n",
       "      <th>88311</th>\n",
       "      <td>[Free to Play, Indie, RPG, Strategy]</td>\n",
       "      <td>Ironbound</td>\n",
       "      <td>2018-01-04</td>\n",
       "      <td>[Free to Play, Strategy, Indie, RPG, Card Game...</td>\n",
       "      <td>Free To Play</td>\n",
       "      <td>643980.0</td>\n",
       "      <td>Secret Level SRL</td>\n",
       "    </tr>\n",
       "  </tbody>\n",
       "</table>\n",
       "</div>"
      ],
      "text/plain": [
       "                                              genres                title  \\\n",
       "88310  [Action, Casual, Indie, Simulation, Strategy]  Lost Summoner Kitty   \n",
       "88311           [Free to Play, Indie, RPG, Strategy]            Ironbound   \n",
       "\n",
       "      release_date                                               tags  \\\n",
       "88310   2018-01-04      [Strategy, Action, Indie, Casual, Simulation]   \n",
       "88311   2018-01-04  [Free to Play, Strategy, Indie, RPG, Card Game...   \n",
       "\n",
       "              price        id         developer  \n",
       "88310          4.99  761140.0         Kotoshiro  \n",
       "88311  Free To Play  643980.0  Secret Level SRL  "
      ]
     },
     "execution_count": 112,
     "metadata": {},
     "output_type": "execute_result"
    }
   ],
   "source": [
    "games.head(2)"
   ]
  },
  {
   "cell_type": "markdown",
   "metadata": {},
   "source": [
    "Modifico la columna price para convertir los precios en float"
   ]
  },
  {
   "cell_type": "code",
   "execution_count": 113,
   "metadata": {},
   "outputs": [
    {
     "data": {
      "text/plain": [
       "array([4.99, 'Free To Play', 'Free to Play', 0.99, 3.99, 18.99, 29.99,\n",
       "       10.99, 2.99, 1.5899999999999999, 14.99, 1.99, 59.99, 9.99, 6.99,\n",
       "       7.99, 39.99, 'Free', 19.99, 7.49, 8.99, 12.99, 5.99, 2.49, 15.99,\n",
       "       1.25, 24.99, 17.99, 61.99, 3.49, 11.99, 13.99, 'Free Demo',\n",
       "       'Play for Free!', 34.99, 1.49, 32.99, 99.99, 14.95, 69.99, 16.99,\n",
       "       79.99, 49.99, 13.98, 149.99, 771.71, 'Install Now', 21.99, 89.99,\n",
       "       'Play WARMACHINE: Tactics Demo', 0.98, 139.92, 4.29, 'Free Mod',\n",
       "       54.99, 64.99, 74.99, 0.89, 0.5, 'Play Now', 299.99, 1.29, 119.99,\n",
       "       44.99, 3.0, 15.0, 1.3900000000000001, 'Free HITMAN™ Holiday Pack',\n",
       "       2.0, 4.0, 1.9500000000000002, 1.5, 6.66, 26.99, 399.99, 31.99,\n",
       "       20.0, 40.0, 5.0, 3.33, 38.85, 71.7, 995.0, 5.49, 27.49, 3.39, 6.0,\n",
       "       19.95, 20.99, 499.99, 27.99, 199.99, 4.68, 131.4, 44.98, 202.76,\n",
       "       2.3, 0.9500000000000001, 36.99, 172.24, 249.99, 2.9699999999999998,\n",
       "       10.96, 2.66, 6.48, 10.0, 1.0, 11.15, 'Play the Demo', 49.0, 199.0,\n",
       "       99.0, 87.94, 0.49, 9.98, 9.95, 12.89, 6.49, 1.87, 41.99, 4.49,\n",
       "       289.99, 23.96, 5.65, 12.0, 129.99, 23.99, 13.37, 189.96, 59.95,\n",
       "       160.91, 'Third-party'], dtype=object)"
      ]
     },
     "execution_count": 113,
     "metadata": {},
     "output_type": "execute_result"
    }
   ],
   "source": [
    "# Identifico que datos hay dentro de la columna\n",
    "games['price'].unique()"
   ]
  },
  {
   "cell_type": "code",
   "execution_count": 114,
   "metadata": {},
   "outputs": [],
   "source": [
    "def price_to_float(price):\n",
    "    # Si el precio es un string, su valor será 0.\n",
    "    if type(price) == str:\n",
    "        return float(0)\n",
    "    # Si el precio no es un string, lo convertimos a float.\n",
    "    else:\n",
    "        return float(price)\n",
    "\n",
    "\n",
    "# Convertir los precios de los juegos a formato float usando la función 'price_to_float'\n",
    "games['price'] = games['price'].apply(price_to_float)"
   ]
  },
  {
   "cell_type": "code",
   "execution_count": 115,
   "metadata": {},
   "outputs": [
    {
     "name": "stdout",
     "output_type": "stream",
     "text": [
      "<class 'pandas.core.frame.DataFrame'>\n",
      "Index: 22530 entries, 88310 to 120443\n",
      "Data columns (total 7 columns):\n",
      " #   Column        Non-Null Count  Dtype  \n",
      "---  ------        --------------  -----  \n",
      " 0   genres        22530 non-null  object \n",
      " 1   title         22530 non-null  object \n",
      " 2   release_date  22530 non-null  object \n",
      " 3   tags          22530 non-null  object \n",
      " 4   price         22530 non-null  float64\n",
      " 5   id            22530 non-null  float64\n",
      " 6   developer     22530 non-null  object \n",
      "dtypes: float64(2), object(5)\n",
      "memory usage: 1.4+ MB\n"
     ]
    }
   ],
   "source": [
    "#pd.set_option('display.float_format', '{:.2f}'.format)\n",
    "games.info()"
   ]
  },
  {
   "cell_type": "code",
   "execution_count": 116,
   "metadata": {},
   "outputs": [
    {
     "data": {
      "text/html": [
       "<div>\n",
       "<style scoped>\n",
       "    .dataframe tbody tr th:only-of-type {\n",
       "        vertical-align: middle;\n",
       "    }\n",
       "\n",
       "    .dataframe tbody tr th {\n",
       "        vertical-align: top;\n",
       "    }\n",
       "\n",
       "    .dataframe thead th {\n",
       "        text-align: right;\n",
       "    }\n",
       "</style>\n",
       "<table border=\"1\" class=\"dataframe\">\n",
       "  <thead>\n",
       "    <tr style=\"text-align: right;\">\n",
       "      <th></th>\n",
       "      <th>genres</th>\n",
       "      <th>title</th>\n",
       "      <th>release_date</th>\n",
       "      <th>tags</th>\n",
       "      <th>price</th>\n",
       "      <th>id</th>\n",
       "      <th>developer</th>\n",
       "    </tr>\n",
       "  </thead>\n",
       "  <tbody>\n",
       "    <tr>\n",
       "      <th>88310</th>\n",
       "      <td>['Action', 'Casual', 'Indie', 'Simulation', 'S...</td>\n",
       "      <td>Lost Summoner Kitty</td>\n",
       "      <td>2018-01-04</td>\n",
       "      <td>['Strategy', 'Action', 'Indie', 'Casual', 'Sim...</td>\n",
       "      <td>4.99</td>\n",
       "      <td>761140.0</td>\n",
       "      <td>Kotoshiro</td>\n",
       "    </tr>\n",
       "    <tr>\n",
       "      <th>88311</th>\n",
       "      <td>['Free to Play', 'Indie', 'RPG', 'Strategy']</td>\n",
       "      <td>Ironbound</td>\n",
       "      <td>2018-01-04</td>\n",
       "      <td>['Free to Play', 'Strategy', 'Indie', 'RPG', '...</td>\n",
       "      <td>0.00</td>\n",
       "      <td>643980.0</td>\n",
       "      <td>Secret Level SRL</td>\n",
       "    </tr>\n",
       "    <tr>\n",
       "      <th>88312</th>\n",
       "      <td>['Casual', 'Free to Play', 'Indie', 'Simulatio...</td>\n",
       "      <td>Real Pool 3D - Poolians</td>\n",
       "      <td>2017-07-24</td>\n",
       "      <td>['Free to Play', 'Simulation', 'Sports', 'Casu...</td>\n",
       "      <td>0.00</td>\n",
       "      <td>670290.0</td>\n",
       "      <td>Poolians.com</td>\n",
       "    </tr>\n",
       "    <tr>\n",
       "      <th>88313</th>\n",
       "      <td>['Action', 'Adventure', 'Casual']</td>\n",
       "      <td>弹炸人2222</td>\n",
       "      <td>2017-12-07</td>\n",
       "      <td>['Action', 'Adventure', 'Casual']</td>\n",
       "      <td>0.99</td>\n",
       "      <td>767400.0</td>\n",
       "      <td>彼岸领域</td>\n",
       "    </tr>\n",
       "    <tr>\n",
       "      <th>88315</th>\n",
       "      <td>['Action', 'Adventure', 'Simulation']</td>\n",
       "      <td>Battle Royale Trainer</td>\n",
       "      <td>2018-01-04</td>\n",
       "      <td>['Action', 'Adventure', 'Simulation', 'FPS', '...</td>\n",
       "      <td>3.99</td>\n",
       "      <td>772540.0</td>\n",
       "      <td>Trickjump Games Ltd</td>\n",
       "    </tr>\n",
       "  </tbody>\n",
       "</table>\n",
       "</div>"
      ],
      "text/plain": [
       "                                                  genres  \\\n",
       "88310  ['Action', 'Casual', 'Indie', 'Simulation', 'S...   \n",
       "88311       ['Free to Play', 'Indie', 'RPG', 'Strategy']   \n",
       "88312  ['Casual', 'Free to Play', 'Indie', 'Simulatio...   \n",
       "88313                  ['Action', 'Adventure', 'Casual']   \n",
       "88315              ['Action', 'Adventure', 'Simulation']   \n",
       "\n",
       "                         title release_date  \\\n",
       "88310      Lost Summoner Kitty   2018-01-04   \n",
       "88311                Ironbound   2018-01-04   \n",
       "88312  Real Pool 3D - Poolians   2017-07-24   \n",
       "88313                  弹炸人2222   2017-12-07   \n",
       "88315    Battle Royale Trainer   2018-01-04   \n",
       "\n",
       "                                                    tags  price        id  \\\n",
       "88310  ['Strategy', 'Action', 'Indie', 'Casual', 'Sim...   4.99  761140.0   \n",
       "88311  ['Free to Play', 'Strategy', 'Indie', 'RPG', '...   0.00  643980.0   \n",
       "88312  ['Free to Play', 'Simulation', 'Sports', 'Casu...   0.00  670290.0   \n",
       "88313                  ['Action', 'Adventure', 'Casual']   0.99  767400.0   \n",
       "88315  ['Action', 'Adventure', 'Simulation', 'FPS', '...   3.99  772540.0   \n",
       "\n",
       "                 developer  \n",
       "88310            Kotoshiro  \n",
       "88311     Secret Level SRL  \n",
       "88312         Poolians.com  \n",
       "88313                 彼岸领域  \n",
       "88315  Trickjump Games Ltd  "
      ]
     },
     "execution_count": 116,
     "metadata": {},
     "output_type": "execute_result"
    }
   ],
   "source": [
    "#Convierto todas las columnas de tipo 'object' a 'string' \n",
    "for column in games.select_dtypes(include=['object']).columns:\n",
    "    games[column] = games[column].astype(str)\n",
    "\n",
    "\n",
    "#Este codigo no fue utilizado a la hora de hacer el eda o el modelo de recomendacion\n",
    "\n",
    "# Revisamos los cambios \n",
    "games.head(5)"
   ]
  },
  {
   "cell_type": "code",
   "execution_count": 117,
   "metadata": {},
   "outputs": [],
   "source": [
    "#Convierto la columna release_date a datetime\n",
    "games['release_date'] = pd.to_datetime(games['release_date'], errors='coerce')"
   ]
  },
  {
   "cell_type": "code",
   "execution_count": 118,
   "metadata": {},
   "outputs": [],
   "source": [
    "#Convierto id en un string para utilizarlo para unir las tablas\n",
    "games['id'] = games['id'].astype(str).str.split('.').str[0]"
   ]
  },
  {
   "cell_type": "code",
   "execution_count": 119,
   "metadata": {},
   "outputs": [
    {
     "name": "stdout",
     "output_type": "stream",
     "text": [
      "<class 'pandas.core.frame.DataFrame'>\n",
      "Index: 22530 entries, 88310 to 120443\n",
      "Data columns (total 7 columns):\n",
      " #   Column        Non-Null Count  Dtype         \n",
      "---  ------        --------------  -----         \n",
      " 0   genres        22530 non-null  object        \n",
      " 1   title         22530 non-null  object        \n",
      " 2   release_date  22496 non-null  datetime64[ns]\n",
      " 3   tags          22530 non-null  object        \n",
      " 4   price         22530 non-null  float64       \n",
      " 5   id            22530 non-null  object        \n",
      " 6   developer     22530 non-null  object        \n",
      "dtypes: datetime64[ns](1), float64(1), object(5)\n",
      "memory usage: 1.4+ MB\n"
     ]
    }
   ],
   "source": [
    "games.info()"
   ]
  },
  {
   "cell_type": "markdown",
   "metadata": {},
   "source": [
    "Reducir el archivo para que la carga del render no se me complique "
   ]
  },
  {
   "cell_type": "code",
   "execution_count": 120,
   "metadata": {},
   "outputs": [
    {
     "data": {
      "text/plain": [
       "(22530, 7)"
      ]
     },
     "execution_count": 120,
     "metadata": {},
     "output_type": "execute_result"
    }
   ],
   "source": [
    "games.shape"
   ]
  },
  {
   "cell_type": "code",
   "execution_count": 121,
   "metadata": {},
   "outputs": [
    {
     "data": {
      "text/html": [
       "<div>\n",
       "<style scoped>\n",
       "    .dataframe tbody tr th:only-of-type {\n",
       "        vertical-align: middle;\n",
       "    }\n",
       "\n",
       "    .dataframe tbody tr th {\n",
       "        vertical-align: top;\n",
       "    }\n",
       "\n",
       "    .dataframe thead th {\n",
       "        text-align: right;\n",
       "    }\n",
       "</style>\n",
       "<table border=\"1\" class=\"dataframe\">\n",
       "  <thead>\n",
       "    <tr style=\"text-align: right;\">\n",
       "      <th></th>\n",
       "      <th>id</th>\n",
       "      <th>title</th>\n",
       "      <th>developer</th>\n",
       "      <th>release_date</th>\n",
       "      <th>genres</th>\n",
       "      <th>tags</th>\n",
       "      <th>price</th>\n",
       "    </tr>\n",
       "  </thead>\n",
       "  <tbody>\n",
       "    <tr>\n",
       "      <th>88310</th>\n",
       "      <td>761140</td>\n",
       "      <td>Lost Summoner Kitty</td>\n",
       "      <td>Kotoshiro</td>\n",
       "      <td>2018-01-04</td>\n",
       "      <td>['Action', 'Casual', 'Indie', 'Simulation', 'S...</td>\n",
       "      <td>['Strategy', 'Action', 'Indie', 'Casual', 'Sim...</td>\n",
       "      <td>4.99</td>\n",
       "    </tr>\n",
       "    <tr>\n",
       "      <th>88311</th>\n",
       "      <td>643980</td>\n",
       "      <td>Ironbound</td>\n",
       "      <td>Secret Level SRL</td>\n",
       "      <td>2018-01-04</td>\n",
       "      <td>['Free to Play', 'Indie', 'RPG', 'Strategy']</td>\n",
       "      <td>['Free to Play', 'Strategy', 'Indie', 'RPG', '...</td>\n",
       "      <td>0.00</td>\n",
       "    </tr>\n",
       "    <tr>\n",
       "      <th>88312</th>\n",
       "      <td>670290</td>\n",
       "      <td>Real Pool 3D - Poolians</td>\n",
       "      <td>Poolians.com</td>\n",
       "      <td>2017-07-24</td>\n",
       "      <td>['Casual', 'Free to Play', 'Indie', 'Simulatio...</td>\n",
       "      <td>['Free to Play', 'Simulation', 'Sports', 'Casu...</td>\n",
       "      <td>0.00</td>\n",
       "    </tr>\n",
       "    <tr>\n",
       "      <th>88313</th>\n",
       "      <td>767400</td>\n",
       "      <td>弹炸人2222</td>\n",
       "      <td>彼岸领域</td>\n",
       "      <td>2017-12-07</td>\n",
       "      <td>['Action', 'Adventure', 'Casual']</td>\n",
       "      <td>['Action', 'Adventure', 'Casual']</td>\n",
       "      <td>0.99</td>\n",
       "    </tr>\n",
       "    <tr>\n",
       "      <th>88315</th>\n",
       "      <td>772540</td>\n",
       "      <td>Battle Royale Trainer</td>\n",
       "      <td>Trickjump Games Ltd</td>\n",
       "      <td>2018-01-04</td>\n",
       "      <td>['Action', 'Adventure', 'Simulation']</td>\n",
       "      <td>['Action', 'Adventure', 'Simulation', 'FPS', '...</td>\n",
       "      <td>3.99</td>\n",
       "    </tr>\n",
       "  </tbody>\n",
       "</table>\n",
       "</div>"
      ],
      "text/plain": [
       "           id                    title            developer release_date  \\\n",
       "88310  761140      Lost Summoner Kitty            Kotoshiro   2018-01-04   \n",
       "88311  643980                Ironbound     Secret Level SRL   2018-01-04   \n",
       "88312  670290  Real Pool 3D - Poolians         Poolians.com   2017-07-24   \n",
       "88313  767400                  弹炸人2222                 彼岸领域   2017-12-07   \n",
       "88315  772540    Battle Royale Trainer  Trickjump Games Ltd   2018-01-04   \n",
       "\n",
       "                                                  genres  \\\n",
       "88310  ['Action', 'Casual', 'Indie', 'Simulation', 'S...   \n",
       "88311       ['Free to Play', 'Indie', 'RPG', 'Strategy']   \n",
       "88312  ['Casual', 'Free to Play', 'Indie', 'Simulatio...   \n",
       "88313                  ['Action', 'Adventure', 'Casual']   \n",
       "88315              ['Action', 'Adventure', 'Simulation']   \n",
       "\n",
       "                                                    tags  price  \n",
       "88310  ['Strategy', 'Action', 'Indie', 'Casual', 'Sim...   4.99  \n",
       "88311  ['Free to Play', 'Strategy', 'Indie', 'RPG', '...   0.00  \n",
       "88312  ['Free to Play', 'Simulation', 'Sports', 'Casu...   0.00  \n",
       "88313                  ['Action', 'Adventure', 'Casual']   0.99  \n",
       "88315  ['Action', 'Adventure', 'Simulation', 'FPS', '...   3.99  "
      ]
     },
     "execution_count": 121,
     "metadata": {},
     "output_type": "execute_result"
    }
   ],
   "source": [
    "# Genero un nuevo oreden para las columnas y luego procedo a convertir las columnas de generos y tags a strings\n",
    "new_order = ['id', 'title', 'developer', 'release_date', 'genres', 'tags', 'price']\n",
    "\n",
    "games = games[new_order]\n",
    "games.head(5)"
   ]
  },
  {
   "cell_type": "code",
   "execution_count": 274,
   "metadata": {},
   "outputs": [],
   "source": [
    "# Exportamos el dataset con un nuevo formato de archivo, que en este caso vendria a ser parquet con una compresion de tipo snappy\n",
    "games.to_parquet('../Dataset/games_clean.parquet', compression='snappy', index=False)"
   ]
  },
  {
   "cell_type": "markdown",
   "metadata": {},
   "source": [
    "-------------------------------------------------------------------------------------------------------------------------"
   ]
  },
  {
   "cell_type": "markdown",
   "metadata": {},
   "source": [
    "# ETL para el sistema de recomendacion de juegos"
   ]
  },
  {
   "cell_type": "markdown",
   "metadata": {},
   "source": [
    "### Para el Sistema de Recoendacion de juegos\n",
    "Debere trabajar con algunas columnas del DataSet como:\n",
    "* id\n",
    "* title\n",
    "* release_date\n",
    "* genres\n",
    "## Entonces las columnas que no usare las eliminare"
   ]
  },
  {
   "cell_type": "code",
   "execution_count": 64,
   "metadata": {},
   "outputs": [
    {
     "data": {
      "text/plain": [
       "Index(['id', 'title', 'developer', 'release_date', 'genres', 'tags', 'price'], dtype='object')"
      ]
     },
     "execution_count": 64,
     "metadata": {},
     "output_type": "execute_result"
    }
   ],
   "source": [
    "games.columns"
   ]
  },
  {
   "cell_type": "markdown",
   "metadata": {},
   "source": [
    "Vamos a trabajar con la columna \"genres\""
   ]
  },
  {
   "cell_type": "code",
   "execution_count": 65,
   "metadata": {},
   "outputs": [
    {
     "data": {
      "text/plain": [
       "88310         [Action, Casual, Indie, Simulation, Strategy]\n",
       "88311                  [Free to Play, Indie, RPG, Strategy]\n",
       "88312     [Casual, Free to Play, Indie, Simulation, Sports]\n",
       "88313                           [Action, Adventure, Casual]\n",
       "88315                       [Action, Adventure, Simulation]\n",
       "                                ...                        \n",
       "120439                   [Action, Adventure, Casual, Indie]\n",
       "120440                [Casual, Indie, Simulation, Strategy]\n",
       "120441                            [Casual, Indie, Strategy]\n",
       "120442                          [Indie, Racing, Simulation]\n",
       "120443                                      [Casual, Indie]\n",
       "Name: genres, Length: 22530, dtype: object"
      ]
     },
     "execution_count": 65,
     "metadata": {},
     "output_type": "execute_result"
    }
   ],
   "source": [
    "# Observamos la composicion y vemos que es una lista\n",
    "games['genres']"
   ]
  },
  {
   "cell_type": "code",
   "execution_count": 104,
   "metadata": {},
   "outputs": [],
   "source": [
    "games.to_parquet('../Dataset/games_sistem.parquet', compression='snappy', index=False)"
   ]
  }
 ],
 "metadata": {
  "kernelspec": {
   "display_name": "Python 3",
   "language": "python",
   "name": "python3"
  },
  "language_info": {
   "codemirror_mode": {
    "name": "ipython",
    "version": 3
   },
   "file_extension": ".py",
   "mimetype": "text/x-python",
   "name": "python",
   "nbconvert_exporter": "python",
   "pygments_lexer": "ipython3",
   "version": "3.11.9"
  }
 },
 "nbformat": 4,
 "nbformat_minor": 2
}
