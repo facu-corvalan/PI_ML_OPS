{
 "cells": [
  {
   "cell_type": "markdown",
   "metadata": {},
   "source": [
    "## Steam Games"
   ]
  },
  {
   "cell_type": "code",
   "execution_count": 25,
   "metadata": {},
   "outputs": [],
   "source": [
    "import pandas as pd\n",
    "import json\n",
    "import gzip\n",
    "import ast"
   ]
  },
  {
   "cell_type": "markdown",
   "metadata": {},
   "source": [
    "#### Procedemos a cargar el dataset"
   ]
  },
  {
   "cell_type": "code",
   "execution_count": 26,
   "metadata": {},
   "outputs": [
    {
     "data": {
      "text/html": [
       "<div>\n",
       "<style scoped>\n",
       "    .dataframe tbody tr th:only-of-type {\n",
       "        vertical-align: middle;\n",
       "    }\n",
       "\n",
       "    .dataframe tbody tr th {\n",
       "        vertical-align: top;\n",
       "    }\n",
       "\n",
       "    .dataframe thead th {\n",
       "        text-align: right;\n",
       "    }\n",
       "</style>\n",
       "<table border=\"1\" class=\"dataframe\">\n",
       "  <thead>\n",
       "    <tr style=\"text-align: right;\">\n",
       "      <th></th>\n",
       "      <th>publisher</th>\n",
       "      <th>genres</th>\n",
       "      <th>app_name</th>\n",
       "      <th>title</th>\n",
       "      <th>url</th>\n",
       "      <th>release_date</th>\n",
       "      <th>tags</th>\n",
       "      <th>reviews_url</th>\n",
       "      <th>specs</th>\n",
       "      <th>price</th>\n",
       "      <th>early_access</th>\n",
       "      <th>id</th>\n",
       "      <th>developer</th>\n",
       "    </tr>\n",
       "  </thead>\n",
       "  <tbody>\n",
       "    <tr>\n",
       "      <th>0</th>\n",
       "      <td>None</td>\n",
       "      <td>None</td>\n",
       "      <td>None</td>\n",
       "      <td>None</td>\n",
       "      <td>None</td>\n",
       "      <td>None</td>\n",
       "      <td>None</td>\n",
       "      <td>None</td>\n",
       "      <td>None</td>\n",
       "      <td>None</td>\n",
       "      <td>NaN</td>\n",
       "      <td>NaN</td>\n",
       "      <td>None</td>\n",
       "    </tr>\n",
       "    <tr>\n",
       "      <th>1</th>\n",
       "      <td>None</td>\n",
       "      <td>None</td>\n",
       "      <td>None</td>\n",
       "      <td>None</td>\n",
       "      <td>None</td>\n",
       "      <td>None</td>\n",
       "      <td>None</td>\n",
       "      <td>None</td>\n",
       "      <td>None</td>\n",
       "      <td>None</td>\n",
       "      <td>NaN</td>\n",
       "      <td>NaN</td>\n",
       "      <td>None</td>\n",
       "    </tr>\n",
       "    <tr>\n",
       "      <th>2</th>\n",
       "      <td>None</td>\n",
       "      <td>None</td>\n",
       "      <td>None</td>\n",
       "      <td>None</td>\n",
       "      <td>None</td>\n",
       "      <td>None</td>\n",
       "      <td>None</td>\n",
       "      <td>None</td>\n",
       "      <td>None</td>\n",
       "      <td>None</td>\n",
       "      <td>NaN</td>\n",
       "      <td>NaN</td>\n",
       "      <td>None</td>\n",
       "    </tr>\n",
       "    <tr>\n",
       "      <th>3</th>\n",
       "      <td>None</td>\n",
       "      <td>None</td>\n",
       "      <td>None</td>\n",
       "      <td>None</td>\n",
       "      <td>None</td>\n",
       "      <td>None</td>\n",
       "      <td>None</td>\n",
       "      <td>None</td>\n",
       "      <td>None</td>\n",
       "      <td>None</td>\n",
       "      <td>NaN</td>\n",
       "      <td>NaN</td>\n",
       "      <td>None</td>\n",
       "    </tr>\n",
       "    <tr>\n",
       "      <th>4</th>\n",
       "      <td>None</td>\n",
       "      <td>None</td>\n",
       "      <td>None</td>\n",
       "      <td>None</td>\n",
       "      <td>None</td>\n",
       "      <td>None</td>\n",
       "      <td>None</td>\n",
       "      <td>None</td>\n",
       "      <td>None</td>\n",
       "      <td>None</td>\n",
       "      <td>NaN</td>\n",
       "      <td>NaN</td>\n",
       "      <td>None</td>\n",
       "    </tr>\n",
       "  </tbody>\n",
       "</table>\n",
       "</div>"
      ],
      "text/plain": [
       "  publisher genres app_name title   url release_date  tags reviews_url specs  \\\n",
       "0      None   None     None  None  None         None  None        None  None   \n",
       "1      None   None     None  None  None         None  None        None  None   \n",
       "2      None   None     None  None  None         None  None        None  None   \n",
       "3      None   None     None  None  None         None  None        None  None   \n",
       "4      None   None     None  None  None         None  None        None  None   \n",
       "\n",
       "  price  early_access  id developer  \n",
       "0  None           NaN NaN      None  \n",
       "1  None           NaN NaN      None  \n",
       "2  None           NaN NaN      None  \n",
       "3  None           NaN NaN      None  \n",
       "4  None           NaN NaN      None  "
      ]
     },
     "execution_count": 26,
     "metadata": {},
     "output_type": "execute_result"
    }
   ],
   "source": [
    "games = pd.read_json(\"../Dataset/steam_games.json.gz\", compression=\"gzip\", lines=True)\n",
    "games.head(5)"
   ]
  },
  {
   "cell_type": "markdown",
   "metadata": {},
   "source": [
    "### Se debera detectar la cantidad de valores nulos y se debera proceder a eliminarlos"
   ]
  },
  {
   "cell_type": "code",
   "execution_count": 27,
   "metadata": {},
   "outputs": [
    {
     "data": {
      "text/plain": [
       "id\n",
       "True     88312\n",
       "False    32133\n",
       "Name: count, dtype: int64"
      ]
     },
     "execution_count": 27,
     "metadata": {},
     "output_type": "execute_result"
    }
   ],
   "source": [
    "# Identificaremos los valores nulos\n",
    "games.id.isna().value_counts()"
   ]
  },
  {
   "cell_type": "markdown",
   "metadata": {},
   "source": [
    "### Procedemos a eliminar los valores nulos"
   ]
  },
  {
   "cell_type": "code",
   "execution_count": 28,
   "metadata": {},
   "outputs": [],
   "source": [
    "clean_games = games.dropna(how='all')"
   ]
  },
  {
   "cell_type": "code",
   "execution_count": 29,
   "metadata": {},
   "outputs": [
    {
     "name": "stdout",
     "output_type": "stream",
     "text": [
      "Hay 8052 valores nulos en publisher\n",
      "Hay 3283 valores nulos en genres\n",
      "Hay 2 valores nulos en app_name\n",
      "Hay 2050 valores nulos en title\n",
      "Hay 0 valores nulos en url\n",
      "Hay 2067 valores nulos en release_date\n",
      "Hay 163 valores nulos en tags\n",
      "Hay 2 valores nulos en reviews_url\n",
      "Hay 670 valores nulos en specs\n",
      "Hay 1377 valores nulos en price\n",
      "Hay 0 valores nulos en early_access\n",
      "Hay 2 valores nulos en id\n",
      "Hay 3299 valores nulos en developer\n"
     ]
    }
   ],
   "source": [
    "# Sabremos cuantos valores nulos existen en cada columna\n",
    "for column in clean_games.columns:\n",
    "    print(f'Hay {clean_games[column].isna().sum()} valores nulos en {column}')"
   ]
  },
  {
   "cell_type": "code",
   "execution_count": 30,
   "metadata": {},
   "outputs": [
    {
     "data": {
      "text/html": [
       "<div>\n",
       "<style scoped>\n",
       "    .dataframe tbody tr th:only-of-type {\n",
       "        vertical-align: middle;\n",
       "    }\n",
       "\n",
       "    .dataframe tbody tr th {\n",
       "        vertical-align: top;\n",
       "    }\n",
       "\n",
       "    .dataframe thead th {\n",
       "        text-align: right;\n",
       "    }\n",
       "</style>\n",
       "<table border=\"1\" class=\"dataframe\">\n",
       "  <thead>\n",
       "    <tr style=\"text-align: right;\">\n",
       "      <th></th>\n",
       "      <th>publisher</th>\n",
       "      <th>genres</th>\n",
       "      <th>app_name</th>\n",
       "      <th>title</th>\n",
       "      <th>url</th>\n",
       "      <th>release_date</th>\n",
       "      <th>tags</th>\n",
       "      <th>reviews_url</th>\n",
       "      <th>specs</th>\n",
       "      <th>price</th>\n",
       "      <th>early_access</th>\n",
       "      <th>id</th>\n",
       "      <th>developer</th>\n",
       "    </tr>\n",
       "  </thead>\n",
       "  <tbody>\n",
       "    <tr>\n",
       "      <th>88310</th>\n",
       "      <td>Kotoshiro</td>\n",
       "      <td>[Action, Casual, Indie, Simulation, Strategy]</td>\n",
       "      <td>Lost Summoner Kitty</td>\n",
       "      <td>Lost Summoner Kitty</td>\n",
       "      <td>http://store.steampowered.com/app/761140/Lost_...</td>\n",
       "      <td>2018-01-04</td>\n",
       "      <td>[Strategy, Action, Indie, Casual, Simulation]</td>\n",
       "      <td>http://steamcommunity.com/app/761140/reviews/?...</td>\n",
       "      <td>[Single-player]</td>\n",
       "      <td>4.99</td>\n",
       "      <td>0.0</td>\n",
       "      <td>761140.0</td>\n",
       "      <td>Kotoshiro</td>\n",
       "    </tr>\n",
       "    <tr>\n",
       "      <th>88311</th>\n",
       "      <td>Making Fun, Inc.</td>\n",
       "      <td>[Free to Play, Indie, RPG, Strategy]</td>\n",
       "      <td>Ironbound</td>\n",
       "      <td>Ironbound</td>\n",
       "      <td>http://store.steampowered.com/app/643980/Ironb...</td>\n",
       "      <td>2018-01-04</td>\n",
       "      <td>[Free to Play, Strategy, Indie, RPG, Card Game...</td>\n",
       "      <td>http://steamcommunity.com/app/643980/reviews/?...</td>\n",
       "      <td>[Single-player, Multi-player, Online Multi-Pla...</td>\n",
       "      <td>Free To Play</td>\n",
       "      <td>0.0</td>\n",
       "      <td>643980.0</td>\n",
       "      <td>Secret Level SRL</td>\n",
       "    </tr>\n",
       "    <tr>\n",
       "      <th>88312</th>\n",
       "      <td>Poolians.com</td>\n",
       "      <td>[Casual, Free to Play, Indie, Simulation, Sports]</td>\n",
       "      <td>Real Pool 3D - Poolians</td>\n",
       "      <td>Real Pool 3D - Poolians</td>\n",
       "      <td>http://store.steampowered.com/app/670290/Real_...</td>\n",
       "      <td>2017-07-24</td>\n",
       "      <td>[Free to Play, Simulation, Sports, Casual, Ind...</td>\n",
       "      <td>http://steamcommunity.com/app/670290/reviews/?...</td>\n",
       "      <td>[Single-player, Multi-player, Online Multi-Pla...</td>\n",
       "      <td>Free to Play</td>\n",
       "      <td>0.0</td>\n",
       "      <td>670290.0</td>\n",
       "      <td>Poolians.com</td>\n",
       "    </tr>\n",
       "  </tbody>\n",
       "</table>\n",
       "</div>"
      ],
      "text/plain": [
       "              publisher                                             genres  \\\n",
       "88310         Kotoshiro      [Action, Casual, Indie, Simulation, Strategy]   \n",
       "88311  Making Fun, Inc.               [Free to Play, Indie, RPG, Strategy]   \n",
       "88312      Poolians.com  [Casual, Free to Play, Indie, Simulation, Sports]   \n",
       "\n",
       "                      app_name                    title  \\\n",
       "88310      Lost Summoner Kitty      Lost Summoner Kitty   \n",
       "88311                Ironbound                Ironbound   \n",
       "88312  Real Pool 3D - Poolians  Real Pool 3D - Poolians   \n",
       "\n",
       "                                                     url release_date  \\\n",
       "88310  http://store.steampowered.com/app/761140/Lost_...   2018-01-04   \n",
       "88311  http://store.steampowered.com/app/643980/Ironb...   2018-01-04   \n",
       "88312  http://store.steampowered.com/app/670290/Real_...   2017-07-24   \n",
       "\n",
       "                                                    tags  \\\n",
       "88310      [Strategy, Action, Indie, Casual, Simulation]   \n",
       "88311  [Free to Play, Strategy, Indie, RPG, Card Game...   \n",
       "88312  [Free to Play, Simulation, Sports, Casual, Ind...   \n",
       "\n",
       "                                             reviews_url  \\\n",
       "88310  http://steamcommunity.com/app/761140/reviews/?...   \n",
       "88311  http://steamcommunity.com/app/643980/reviews/?...   \n",
       "88312  http://steamcommunity.com/app/670290/reviews/?...   \n",
       "\n",
       "                                                   specs         price  \\\n",
       "88310                                    [Single-player]          4.99   \n",
       "88311  [Single-player, Multi-player, Online Multi-Pla...  Free To Play   \n",
       "88312  [Single-player, Multi-player, Online Multi-Pla...  Free to Play   \n",
       "\n",
       "       early_access        id         developer  \n",
       "88310           0.0  761140.0         Kotoshiro  \n",
       "88311           0.0  643980.0  Secret Level SRL  \n",
       "88312           0.0  670290.0      Poolians.com  "
      ]
     },
     "execution_count": 30,
     "metadata": {},
     "output_type": "execute_result"
    }
   ],
   "source": [
    "clean_games.head(3)"
   ]
  },
  {
   "cell_type": "markdown",
   "metadata": {},
   "source": [
    "### Tratamiento de datos"
   ]
  },
  {
   "cell_type": "code",
   "execution_count": 31,
   "metadata": {},
   "outputs": [
    {
     "name": "stdout",
     "output_type": "stream",
     "text": [
      "Hay 8052 valores nulos en publisher\n",
      "Hay 3283 valores nulos en genres\n",
      "Hay 2 valores nulos en app_name\n",
      "Hay 2050 valores nulos en title\n",
      "Hay 0 valores nulos en url\n",
      "Hay 2067 valores nulos en release_date\n",
      "Hay 163 valores nulos en tags\n",
      "Hay 2 valores nulos en reviews_url\n",
      "Hay 670 valores nulos en specs\n",
      "Hay 1377 valores nulos en price\n",
      "Hay 0 valores nulos en early_access\n",
      "Hay 2 valores nulos en id\n",
      "Hay 3299 valores nulos en developer\n"
     ]
    }
   ],
   "source": [
    "# Controlaremos las columnas y revisaremos la cantidad de valores nulos\n",
    "for column in clean_games.columns:\n",
    "    print(f'Hay {clean_games[column].isna().sum()} valores nulos en {column}')"
   ]
  },
  {
   "cell_type": "markdown",
   "metadata": {},
   "source": [
    "* Con este analisis me di cuenta que \n",
    "* title tiene más nulos que app_name\n",
    "* Tambien me tengo que sacar los nulos de relase_date\n",
    "* Modificar price y eliminar los nulos"
   ]
  },
  {
   "cell_type": "code",
   "execution_count": 32,
   "metadata": {},
   "outputs": [],
   "source": [
    "games = clean_games"
   ]
  },
  {
   "cell_type": "markdown",
   "metadata": {},
   "source": [
    "### Elimino las columnas que no voy a usar y elimino campos vacios "
   ]
  },
  {
   "cell_type": "code",
   "execution_count": 33,
   "metadata": {},
   "outputs": [],
   "source": [
    "games.drop(columns= ['title', 'url', 'tags', 'reviews_url', 'specs', 'early_access', ], inplace=True)"
   ]
  },
  {
   "cell_type": "code",
   "execution_count": 34,
   "metadata": {},
   "outputs": [],
   "source": [
    "# Eliminaremos los valores nulos en la clumna llamada id\n",
    "games.dropna(inplace=True)"
   ]
  },
  {
   "cell_type": "code",
   "execution_count": 35,
   "metadata": {},
   "outputs": [
    {
     "name": "stdout",
     "output_type": "stream",
     "text": [
      "Hay 0 valores nulos en publisher\n",
      "Hay 0 valores nulos en genres\n",
      "Hay 0 valores nulos en app_name\n",
      "Hay 0 valores nulos en release_date\n",
      "Hay 0 valores nulos en price\n",
      "Hay 0 valores nulos en id\n",
      "Hay 0 valores nulos en developer\n"
     ]
    }
   ],
   "source": [
    "for column in games.columns:\n",
    "    print(f'Hay {games[column].isna().sum()} valores nulos en {column}')"
   ]
  },
  {
   "cell_type": "markdown",
   "metadata": {},
   "source": [
    "Ahora modifico price\n"
   ]
  },
  {
   "cell_type": "code",
   "execution_count": 24,
   "metadata": {},
   "outputs": [
    {
     "data": {
      "text/plain": [
       "array([4.99, 'Free To Play', 'Free to Play', 0.99, 3.99, 18.99, 29.99,\n",
       "       10.99, 2.99, 1.5899999999999999, 14.99, 1.99, 59.99, 9.99, 6.99,\n",
       "       7.99, 39.99, 'Free', 19.99, 7.49, 8.99, 12.99, 5.99, 2.49, 15.99,\n",
       "       1.25, 24.99, 17.99, 61.99, 3.49, 11.99, 13.99, 'Free Demo',\n",
       "       'Play for Free!', 34.99, 1.49, 32.99, 99.99, 14.95, 69.99, 16.99,\n",
       "       79.99, 49.99, 13.98, 29.96, 149.99, 771.71, 'Install Now', 21.99,\n",
       "       89.99, 'Play WARMACHINE: Tactics Demo', 0.98, 139.92, 4.29,\n",
       "       'Free Mod', 54.99, 64.99, 74.99, 0.89, 0.5, 'Play Now', 299.99,\n",
       "       1.29, 119.99, 44.99, 3.0, 15.0, 49.0, 10.93, 1.3900000000000001,\n",
       "       'Free HITMAN™ Holiday Pack', 2.0, 4.0, 1.9500000000000002, 1.5,\n",
       "       199.0, 189.0, 6.66, 129.99, 179.0, 26.99, 399.99, 31.99, 399.0,\n",
       "       20.0, 40.0, 5.0, 3.33, 320.0, 38.85, 71.7, 995.0, 5.49, 27.49,\n",
       "       3.39, 6.0, 19.95, 20.99, 499.99, 27.99, 199.99, 4.68, 131.4, 44.98,\n",
       "       202.76, 2.3, 0.9500000000000001, 36.99, 172.24, 249.99,\n",
       "       2.9699999999999998, 10.96, 2.66, 6.48, 10.0, 1.0, 11.15,\n",
       "       'Play the Demo', 99.0, 87.94, 0.49, 9.98, 9.95, 12.89, 6.49, 1.87,\n",
       "       41.99, 4.49, 289.99, 'Free to Try', 23.96, 5.65, 12.0, 23.99,\n",
       "       13.37, 189.96, 124.99, 59.95, 160.91, 'Free to Use', 'Third-party'],\n",
       "      dtype=object)"
      ]
     },
     "execution_count": 24,
     "metadata": {},
     "output_type": "execute_result"
    }
   ],
   "source": [
    "games['price'].unique()"
   ]
  },
  {
   "cell_type": "code",
   "execution_count": 59,
   "metadata": {},
   "outputs": [
    {
     "name": "stdout",
     "output_type": "stream",
     "text": [
      "<class 'pandas.core.frame.DataFrame'>\n",
      "Index: 32135 entries, 88310 to 120444\n",
      "Data columns (total 7 columns):\n",
      " #   Column        Non-Null Count  Dtype  \n",
      "---  ------        --------------  -----  \n",
      " 0   publisher     24083 non-null  object \n",
      " 1   genres        28852 non-null  object \n",
      " 2   title         30085 non-null  object \n",
      " 3   release_date  30068 non-null  object \n",
      " 4   price         30758 non-null  object \n",
      " 5   id            32133 non-null  float64\n",
      " 6   developer     28836 non-null  object \n",
      "dtypes: float64(1), object(6)\n",
      "memory usage: 2.0+ MB\n"
     ]
    }
   ],
   "source": [
    "games.info()"
   ]
  },
  {
   "cell_type": "markdown",
   "metadata": {},
   "source": [
    "### Creamos dummys para genres"
   ]
  },
  {
   "cell_type": "code",
   "execution_count": 60,
   "metadata": {},
   "outputs": [],
   "source": [
    "# Desanidar\n",
    "games['genres'] = games['genres'].fillna('[]') #Relleno los valores faltantes con una lista vacia\n",
    "games['genres'] = games['genres'].apply(lambda x: ', '.join(x)) #Convertir la lista de generos separada por comas"
   ]
  },
  {
   "cell_type": "code",
   "execution_count": 61,
   "metadata": {},
   "outputs": [
    {
     "data": {
      "text/html": [
       "<div>\n",
       "<style scoped>\n",
       "    .dataframe tbody tr th:only-of-type {\n",
       "        vertical-align: middle;\n",
       "    }\n",
       "\n",
       "    .dataframe tbody tr th {\n",
       "        vertical-align: top;\n",
       "    }\n",
       "\n",
       "    .dataframe thead th {\n",
       "        text-align: right;\n",
       "    }\n",
       "</style>\n",
       "<table border=\"1\" class=\"dataframe\">\n",
       "  <thead>\n",
       "    <tr style=\"text-align: right;\">\n",
       "      <th></th>\n",
       "      <th>publisher</th>\n",
       "      <th>genres</th>\n",
       "      <th>title</th>\n",
       "      <th>release_date</th>\n",
       "      <th>price</th>\n",
       "      <th>id</th>\n",
       "      <th>developer</th>\n",
       "    </tr>\n",
       "  </thead>\n",
       "  <tbody>\n",
       "    <tr>\n",
       "      <th>88310</th>\n",
       "      <td>Kotoshiro</td>\n",
       "      <td>Action, Casual, Indie, Simulation, Strategy</td>\n",
       "      <td>Lost Summoner Kitty</td>\n",
       "      <td>2018-01-04</td>\n",
       "      <td>4.99</td>\n",
       "      <td>761140.0</td>\n",
       "      <td>Kotoshiro</td>\n",
       "    </tr>\n",
       "    <tr>\n",
       "      <th>88311</th>\n",
       "      <td>Making Fun, Inc.</td>\n",
       "      <td>Free to Play, Indie, RPG, Strategy</td>\n",
       "      <td>Ironbound</td>\n",
       "      <td>2018-01-04</td>\n",
       "      <td>Free To Play</td>\n",
       "      <td>643980.0</td>\n",
       "      <td>Secret Level SRL</td>\n",
       "    </tr>\n",
       "    <tr>\n",
       "      <th>88312</th>\n",
       "      <td>Poolians.com</td>\n",
       "      <td>Casual, Free to Play, Indie, Simulation, Sports</td>\n",
       "      <td>Real Pool 3D - Poolians</td>\n",
       "      <td>2017-07-24</td>\n",
       "      <td>Free to Play</td>\n",
       "      <td>670290.0</td>\n",
       "      <td>Poolians.com</td>\n",
       "    </tr>\n",
       "    <tr>\n",
       "      <th>88313</th>\n",
       "      <td>彼岸领域</td>\n",
       "      <td>Action, Adventure, Casual</td>\n",
       "      <td>弹炸人2222</td>\n",
       "      <td>2017-12-07</td>\n",
       "      <td>0.99</td>\n",
       "      <td>767400.0</td>\n",
       "      <td>彼岸领域</td>\n",
       "    </tr>\n",
       "    <tr>\n",
       "      <th>88314</th>\n",
       "      <td>None</td>\n",
       "      <td>[, ]</td>\n",
       "      <td>None</td>\n",
       "      <td>None</td>\n",
       "      <td>2.99</td>\n",
       "      <td>773570.0</td>\n",
       "      <td>None</td>\n",
       "    </tr>\n",
       "  </tbody>\n",
       "</table>\n",
       "</div>"
      ],
      "text/plain": [
       "              publisher                                           genres  \\\n",
       "88310         Kotoshiro      Action, Casual, Indie, Simulation, Strategy   \n",
       "88311  Making Fun, Inc.               Free to Play, Indie, RPG, Strategy   \n",
       "88312      Poolians.com  Casual, Free to Play, Indie, Simulation, Sports   \n",
       "88313              彼岸领域                        Action, Adventure, Casual   \n",
       "88314              None                                             [, ]   \n",
       "\n",
       "                         title release_date         price        id  \\\n",
       "88310      Lost Summoner Kitty   2018-01-04          4.99  761140.0   \n",
       "88311                Ironbound   2018-01-04  Free To Play  643980.0   \n",
       "88312  Real Pool 3D - Poolians   2017-07-24  Free to Play  670290.0   \n",
       "88313                  弹炸人2222   2017-12-07          0.99  767400.0   \n",
       "88314                     None         None          2.99  773570.0   \n",
       "\n",
       "              developer  \n",
       "88310         Kotoshiro  \n",
       "88311  Secret Level SRL  \n",
       "88312      Poolians.com  \n",
       "88313              彼岸领域  \n",
       "88314              None  "
      ]
     },
     "execution_count": 61,
     "metadata": {},
     "output_type": "execute_result"
    }
   ],
   "source": [
    "games.head(5)"
   ]
  },
  {
   "cell_type": "markdown",
   "metadata": {},
   "source": [
    "Creamos variables para los generos"
   ]
  },
  {
   "cell_type": "code",
   "execution_count": 62,
   "metadata": {},
   "outputs": [],
   "source": [
    "dummy_genres = games['genres'].str.get_dummies(', ')"
   ]
  },
  {
   "cell_type": "markdown",
   "metadata": {},
   "source": [
    "Concateno las variables con el Dataframe original"
   ]
  },
  {
   "cell_type": "code",
   "execution_count": 63,
   "metadata": {},
   "outputs": [],
   "source": [
    "games_with_dymmys = pd.concat([games, dummy_genres], axis=1)"
   ]
  },
  {
   "cell_type": "code",
   "execution_count": 64,
   "metadata": {},
   "outputs": [
    {
     "name": "stdout",
     "output_type": "stream",
     "text": [
      "<class 'pandas.core.frame.DataFrame'>\n",
      "Index: 32135 entries, 88310 to 120444\n",
      "Data columns (total 31 columns):\n",
      " #   Column                     Non-Null Count  Dtype  \n",
      "---  ------                     --------------  -----  \n",
      " 0   publisher                  24083 non-null  object \n",
      " 1   genres                     32135 non-null  object \n",
      " 2   title                      30085 non-null  object \n",
      " 3   release_date               30068 non-null  object \n",
      " 4   price                      30758 non-null  object \n",
      " 5   id                         32133 non-null  float64\n",
      " 6   developer                  28836 non-null  object \n",
      " 7   Accounting                 32135 non-null  int64  \n",
      " 8   Action                     32135 non-null  int64  \n",
      " 9   Adventure                  32135 non-null  int64  \n",
      " 10  Animation &amp; Modeling   32135 non-null  int64  \n",
      " 11  Audio Production           32135 non-null  int64  \n",
      " 12  Casual                     32135 non-null  int64  \n",
      " 13  Design &amp; Illustration  32135 non-null  int64  \n",
      " 14  Early Access               32135 non-null  int64  \n",
      " 15  Education                  32135 non-null  int64  \n",
      " 16  Free to Play               32135 non-null  int64  \n",
      " 17  Indie                      32135 non-null  int64  \n",
      " 18  Massively Multiplayer      32135 non-null  int64  \n",
      " 19  Photo Editing              32135 non-null  int64  \n",
      " 20  RPG                        32135 non-null  int64  \n",
      " 21  Racing                     32135 non-null  int64  \n",
      " 22  Simulation                 32135 non-null  int64  \n",
      " 23  Software Training          32135 non-null  int64  \n",
      " 24  Sports                     32135 non-null  int64  \n",
      " 25  Strategy                   32135 non-null  int64  \n",
      " 26  Utilities                  32135 non-null  int64  \n",
      " 27  Video Production           32135 non-null  int64  \n",
      " 28  Web Publishing             32135 non-null  int64  \n",
      " 29  [                          32135 non-null  int64  \n",
      " 30  ]                          32135 non-null  int64  \n",
      "dtypes: float64(1), int64(24), object(6)\n",
      "memory usage: 7.8+ MB\n"
     ]
    }
   ],
   "source": [
    "games_with_dymmys.info()"
   ]
  },
  {
   "cell_type": "markdown",
   "metadata": {},
   "source": [
    "De la columna release_date extraigo solo el año"
   ]
  },
  {
   "cell_type": "code",
   "execution_count": 65,
   "metadata": {},
   "outputs": [],
   "source": [
    "games = games_with_dymmys"
   ]
  },
  {
   "cell_type": "code",
   "execution_count": 66,
   "metadata": {},
   "outputs": [],
   "source": [
    "# Reemplazar los valores no validos por NaN\n",
    "games['release_date'] = pd.to_datetime(games['release_date'], errors='coerce')\n",
    "\n",
    "# Filtrar el DataFrame para obtener los registros validos\n",
    "games_filtered = games.dropna(subset=['release_date'])\n",
    "\n",
    "# Convierto la columna \"release_date\" a tipo datatime\n",
    "games_filtered.loc[:, 'release_date'] = pd.to_datetime(games_filtered['release_date'])\n"
   ]
  },
  {
   "cell_type": "code",
   "execution_count": 67,
   "metadata": {},
   "outputs": [],
   "source": [
    "# Relleno los valores faltantes con mode\n",
    "column_mode = ['release_date']\n",
    "for col in column_mode:\n",
    "    games[col] = games[col].fillna(games[col].mode()[0])"
   ]
  },
  {
   "cell_type": "code",
   "execution_count": 68,
   "metadata": {},
   "outputs": [],
   "source": [
    "# Modelar y eliminacion de la columna 'release_date' \n",
    "games['year'] = games['release_date'].dt.year.astype('Int64')\n",
    "games.drop('release_date', axis=1, inplace=True)"
   ]
  },
  {
   "cell_type": "code",
   "execution_count": 69,
   "metadata": {},
   "outputs": [
    {
     "name": "stdout",
     "output_type": "stream",
     "text": [
      "Hay 8052 valores nulos en publisher\n",
      "Hay 0 valores nulos en genres\n",
      "Hay 2050 valores nulos en title\n",
      "Hay 1377 valores nulos en price\n",
      "Hay 2 valores nulos en id\n",
      "Hay 3299 valores nulos en developer\n",
      "Hay 0 valores nulos en Accounting\n",
      "Hay 0 valores nulos en Action\n",
      "Hay 0 valores nulos en Adventure\n",
      "Hay 0 valores nulos en Animation &amp; Modeling\n",
      "Hay 0 valores nulos en Audio Production\n",
      "Hay 0 valores nulos en Casual\n",
      "Hay 0 valores nulos en Design &amp; Illustration\n",
      "Hay 0 valores nulos en Early Access\n",
      "Hay 0 valores nulos en Education\n",
      "Hay 0 valores nulos en Free to Play\n",
      "Hay 0 valores nulos en Indie\n",
      "Hay 0 valores nulos en Massively Multiplayer\n",
      "Hay 0 valores nulos en Photo Editing\n",
      "Hay 0 valores nulos en RPG\n",
      "Hay 0 valores nulos en Racing\n",
      "Hay 0 valores nulos en Simulation\n",
      "Hay 0 valores nulos en Software Training\n",
      "Hay 0 valores nulos en Sports\n",
      "Hay 0 valores nulos en Strategy\n",
      "Hay 0 valores nulos en Utilities\n",
      "Hay 0 valores nulos en Video Production\n",
      "Hay 0 valores nulos en Web Publishing\n",
      "Hay 0 valores nulos en [\n",
      "Hay 0 valores nulos en ]\n",
      "Hay 0 valores nulos en year\n"
     ]
    }
   ],
   "source": [
    "for column in games.columns:\n",
    "    print(f'Hay {games[column].isna().sum()} valores nulos en {column}')"
   ]
  },
  {
   "cell_type": "markdown",
   "metadata": {},
   "source": [
    "Importamos a Parquet"
   ]
  },
  {
   "cell_type": "code",
   "execution_count": 70,
   "metadata": {},
   "outputs": [],
   "source": [
    "# Convertir todas las columnas de tipo 'object' a 'string'\n",
    "for column in games.select_dtypes(include=['object']).columns:\n",
    "    games[column] = games[column].astype(str)"
   ]
  },
  {
   "cell_type": "code",
   "execution_count": 71,
   "metadata": {},
   "outputs": [],
   "source": [
    "games.to_parquet('../Dataset/games_clean.parquet')\n",
    "# 120444"
   ]
  }
 ],
 "metadata": {
  "kernelspec": {
   "display_name": "Python 3",
   "language": "python",
   "name": "python3"
  },
  "language_info": {
   "codemirror_mode": {
    "name": "ipython",
    "version": 3
   },
   "file_extension": ".py",
   "mimetype": "text/x-python",
   "name": "python",
   "nbconvert_exporter": "python",
   "pygments_lexer": "ipython3",
   "version": "3.11.9"
  }
 },
 "nbformat": 4,
 "nbformat_minor": 2
}
