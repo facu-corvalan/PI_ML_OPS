{
 "cells": [
  {
   "cell_type": "markdown",
   "metadata": {},
   "source": [
    "## Steam Games"
   ]
  },
  {
   "cell_type": "code",
   "execution_count": 17,
   "metadata": {},
   "outputs": [],
   "source": [
    "import pandas as pd\n",
    "import json\n",
    "import gzip\n",
    "import ast"
   ]
  },
  {
   "cell_type": "markdown",
   "metadata": {},
   "source": [
    "#### Procedemos a cargar el dataset"
   ]
  },
  {
   "cell_type": "code",
   "execution_count": 18,
   "metadata": {},
   "outputs": [
    {
     "data": {
      "text/html": [
       "<div>\n",
       "<style scoped>\n",
       "    .dataframe tbody tr th:only-of-type {\n",
       "        vertical-align: middle;\n",
       "    }\n",
       "\n",
       "    .dataframe tbody tr th {\n",
       "        vertical-align: top;\n",
       "    }\n",
       "\n",
       "    .dataframe thead th {\n",
       "        text-align: right;\n",
       "    }\n",
       "</style>\n",
       "<table border=\"1\" class=\"dataframe\">\n",
       "  <thead>\n",
       "    <tr style=\"text-align: right;\">\n",
       "      <th></th>\n",
       "      <th>publisher</th>\n",
       "      <th>genres</th>\n",
       "      <th>app_name</th>\n",
       "      <th>title</th>\n",
       "      <th>url</th>\n",
       "      <th>release_date</th>\n",
       "      <th>tags</th>\n",
       "      <th>reviews_url</th>\n",
       "      <th>specs</th>\n",
       "      <th>price</th>\n",
       "      <th>early_access</th>\n",
       "      <th>id</th>\n",
       "      <th>developer</th>\n",
       "    </tr>\n",
       "  </thead>\n",
       "  <tbody>\n",
       "    <tr>\n",
       "      <th>0</th>\n",
       "      <td>None</td>\n",
       "      <td>None</td>\n",
       "      <td>None</td>\n",
       "      <td>None</td>\n",
       "      <td>None</td>\n",
       "      <td>None</td>\n",
       "      <td>None</td>\n",
       "      <td>None</td>\n",
       "      <td>None</td>\n",
       "      <td>None</td>\n",
       "      <td>NaN</td>\n",
       "      <td>NaN</td>\n",
       "      <td>None</td>\n",
       "    </tr>\n",
       "    <tr>\n",
       "      <th>1</th>\n",
       "      <td>None</td>\n",
       "      <td>None</td>\n",
       "      <td>None</td>\n",
       "      <td>None</td>\n",
       "      <td>None</td>\n",
       "      <td>None</td>\n",
       "      <td>None</td>\n",
       "      <td>None</td>\n",
       "      <td>None</td>\n",
       "      <td>None</td>\n",
       "      <td>NaN</td>\n",
       "      <td>NaN</td>\n",
       "      <td>None</td>\n",
       "    </tr>\n",
       "    <tr>\n",
       "      <th>2</th>\n",
       "      <td>None</td>\n",
       "      <td>None</td>\n",
       "      <td>None</td>\n",
       "      <td>None</td>\n",
       "      <td>None</td>\n",
       "      <td>None</td>\n",
       "      <td>None</td>\n",
       "      <td>None</td>\n",
       "      <td>None</td>\n",
       "      <td>None</td>\n",
       "      <td>NaN</td>\n",
       "      <td>NaN</td>\n",
       "      <td>None</td>\n",
       "    </tr>\n",
       "    <tr>\n",
       "      <th>3</th>\n",
       "      <td>None</td>\n",
       "      <td>None</td>\n",
       "      <td>None</td>\n",
       "      <td>None</td>\n",
       "      <td>None</td>\n",
       "      <td>None</td>\n",
       "      <td>None</td>\n",
       "      <td>None</td>\n",
       "      <td>None</td>\n",
       "      <td>None</td>\n",
       "      <td>NaN</td>\n",
       "      <td>NaN</td>\n",
       "      <td>None</td>\n",
       "    </tr>\n",
       "    <tr>\n",
       "      <th>4</th>\n",
       "      <td>None</td>\n",
       "      <td>None</td>\n",
       "      <td>None</td>\n",
       "      <td>None</td>\n",
       "      <td>None</td>\n",
       "      <td>None</td>\n",
       "      <td>None</td>\n",
       "      <td>None</td>\n",
       "      <td>None</td>\n",
       "      <td>None</td>\n",
       "      <td>NaN</td>\n",
       "      <td>NaN</td>\n",
       "      <td>None</td>\n",
       "    </tr>\n",
       "  </tbody>\n",
       "</table>\n",
       "</div>"
      ],
      "text/plain": [
       "  publisher genres app_name title   url release_date  tags reviews_url specs  \\\n",
       "0      None   None     None  None  None         None  None        None  None   \n",
       "1      None   None     None  None  None         None  None        None  None   \n",
       "2      None   None     None  None  None         None  None        None  None   \n",
       "3      None   None     None  None  None         None  None        None  None   \n",
       "4      None   None     None  None  None         None  None        None  None   \n",
       "\n",
       "  price  early_access  id developer  \n",
       "0  None           NaN NaN      None  \n",
       "1  None           NaN NaN      None  \n",
       "2  None           NaN NaN      None  \n",
       "3  None           NaN NaN      None  \n",
       "4  None           NaN NaN      None  "
      ]
     },
     "execution_count": 18,
     "metadata": {},
     "output_type": "execute_result"
    }
   ],
   "source": [
    "games = pd.read_json(\"../Dataset/steam_games.json.gz\", compression=\"gzip\", lines=True)\n",
    "games.head(5)"
   ]
  },
  {
   "cell_type": "markdown",
   "metadata": {},
   "source": [
    "### Se debera detectar la cantidad de valores nulos y se debera proceder a eliminarlos"
   ]
  },
  {
   "cell_type": "code",
   "execution_count": 19,
   "metadata": {},
   "outputs": [
    {
     "data": {
      "text/plain": [
       "id\n",
       "True     88312\n",
       "False    32133\n",
       "Name: count, dtype: int64"
      ]
     },
     "execution_count": 19,
     "metadata": {},
     "output_type": "execute_result"
    }
   ],
   "source": [
    "# Identificaremos los valores nulos\n",
    "games.id.isna().value_counts()"
   ]
  },
  {
   "cell_type": "code",
   "execution_count": 20,
   "metadata": {},
   "outputs": [
    {
     "name": "stdout",
     "output_type": "stream",
     "text": [
      "Hay 96362 valores nulos en publisher\n",
      "Hay 91593 valores nulos en genres\n",
      "Hay 88312 valores nulos en app_name\n",
      "Hay 90360 valores nulos en title\n",
      "Hay 88310 valores nulos en url\n",
      "Hay 90377 valores nulos en release_date\n",
      "Hay 88473 valores nulos en tags\n",
      "Hay 88312 valores nulos en reviews_url\n",
      "Hay 88980 valores nulos en specs\n",
      "Hay 89687 valores nulos en price\n",
      "Hay 88310 valores nulos en early_access\n",
      "Hay 88312 valores nulos en id\n",
      "Hay 91609 valores nulos en developer\n"
     ]
    }
   ],
   "source": [
    "# Sabremos cuantos valores nulos existen en cada columna\n",
    "for column in games.columns:\n",
    "    print(f'Hay {games[column].isna().sum()} valores nulos en {column}')"
   ]
  },
  {
   "cell_type": "markdown",
   "metadata": {},
   "source": [
    "### Procedemos a eliminar los valores nulos"
   ]
  },
  {
   "cell_type": "code",
   "execution_count": 21,
   "metadata": {},
   "outputs": [],
   "source": [
    "clean_games = games.dropna(how='all')"
   ]
  },
  {
   "cell_type": "code",
   "execution_count": 22,
   "metadata": {},
   "outputs": [
    {
     "data": {
      "text/html": [
       "<div>\n",
       "<style scoped>\n",
       "    .dataframe tbody tr th:only-of-type {\n",
       "        vertical-align: middle;\n",
       "    }\n",
       "\n",
       "    .dataframe tbody tr th {\n",
       "        vertical-align: top;\n",
       "    }\n",
       "\n",
       "    .dataframe thead th {\n",
       "        text-align: right;\n",
       "    }\n",
       "</style>\n",
       "<table border=\"1\" class=\"dataframe\">\n",
       "  <thead>\n",
       "    <tr style=\"text-align: right;\">\n",
       "      <th></th>\n",
       "      <th>publisher</th>\n",
       "      <th>genres</th>\n",
       "      <th>app_name</th>\n",
       "      <th>title</th>\n",
       "      <th>url</th>\n",
       "      <th>release_date</th>\n",
       "      <th>tags</th>\n",
       "      <th>reviews_url</th>\n",
       "      <th>specs</th>\n",
       "      <th>price</th>\n",
       "      <th>early_access</th>\n",
       "      <th>id</th>\n",
       "      <th>developer</th>\n",
       "    </tr>\n",
       "  </thead>\n",
       "  <tbody>\n",
       "    <tr>\n",
       "      <th>88310</th>\n",
       "      <td>Kotoshiro</td>\n",
       "      <td>[Action, Casual, Indie, Simulation, Strategy]</td>\n",
       "      <td>Lost Summoner Kitty</td>\n",
       "      <td>Lost Summoner Kitty</td>\n",
       "      <td>http://store.steampowered.com/app/761140/Lost_...</td>\n",
       "      <td>2018-01-04</td>\n",
       "      <td>[Strategy, Action, Indie, Casual, Simulation]</td>\n",
       "      <td>http://steamcommunity.com/app/761140/reviews/?...</td>\n",
       "      <td>[Single-player]</td>\n",
       "      <td>4.99</td>\n",
       "      <td>0.0</td>\n",
       "      <td>761140.0</td>\n",
       "      <td>Kotoshiro</td>\n",
       "    </tr>\n",
       "    <tr>\n",
       "      <th>88311</th>\n",
       "      <td>Making Fun, Inc.</td>\n",
       "      <td>[Free to Play, Indie, RPG, Strategy]</td>\n",
       "      <td>Ironbound</td>\n",
       "      <td>Ironbound</td>\n",
       "      <td>http://store.steampowered.com/app/643980/Ironb...</td>\n",
       "      <td>2018-01-04</td>\n",
       "      <td>[Free to Play, Strategy, Indie, RPG, Card Game...</td>\n",
       "      <td>http://steamcommunity.com/app/643980/reviews/?...</td>\n",
       "      <td>[Single-player, Multi-player, Online Multi-Pla...</td>\n",
       "      <td>Free To Play</td>\n",
       "      <td>0.0</td>\n",
       "      <td>643980.0</td>\n",
       "      <td>Secret Level SRL</td>\n",
       "    </tr>\n",
       "    <tr>\n",
       "      <th>88312</th>\n",
       "      <td>Poolians.com</td>\n",
       "      <td>[Casual, Free to Play, Indie, Simulation, Sports]</td>\n",
       "      <td>Real Pool 3D - Poolians</td>\n",
       "      <td>Real Pool 3D - Poolians</td>\n",
       "      <td>http://store.steampowered.com/app/670290/Real_...</td>\n",
       "      <td>2017-07-24</td>\n",
       "      <td>[Free to Play, Simulation, Sports, Casual, Ind...</td>\n",
       "      <td>http://steamcommunity.com/app/670290/reviews/?...</td>\n",
       "      <td>[Single-player, Multi-player, Online Multi-Pla...</td>\n",
       "      <td>Free to Play</td>\n",
       "      <td>0.0</td>\n",
       "      <td>670290.0</td>\n",
       "      <td>Poolians.com</td>\n",
       "    </tr>\n",
       "  </tbody>\n",
       "</table>\n",
       "</div>"
      ],
      "text/plain": [
       "              publisher                                             genres  \\\n",
       "88310         Kotoshiro      [Action, Casual, Indie, Simulation, Strategy]   \n",
       "88311  Making Fun, Inc.               [Free to Play, Indie, RPG, Strategy]   \n",
       "88312      Poolians.com  [Casual, Free to Play, Indie, Simulation, Sports]   \n",
       "\n",
       "                      app_name                    title  \\\n",
       "88310      Lost Summoner Kitty      Lost Summoner Kitty   \n",
       "88311                Ironbound                Ironbound   \n",
       "88312  Real Pool 3D - Poolians  Real Pool 3D - Poolians   \n",
       "\n",
       "                                                     url release_date  \\\n",
       "88310  http://store.steampowered.com/app/761140/Lost_...   2018-01-04   \n",
       "88311  http://store.steampowered.com/app/643980/Ironb...   2018-01-04   \n",
       "88312  http://store.steampowered.com/app/670290/Real_...   2017-07-24   \n",
       "\n",
       "                                                    tags  \\\n",
       "88310      [Strategy, Action, Indie, Casual, Simulation]   \n",
       "88311  [Free to Play, Strategy, Indie, RPG, Card Game...   \n",
       "88312  [Free to Play, Simulation, Sports, Casual, Ind...   \n",
       "\n",
       "                                             reviews_url  \\\n",
       "88310  http://steamcommunity.com/app/761140/reviews/?...   \n",
       "88311  http://steamcommunity.com/app/643980/reviews/?...   \n",
       "88312  http://steamcommunity.com/app/670290/reviews/?...   \n",
       "\n",
       "                                                   specs         price  \\\n",
       "88310                                    [Single-player]          4.99   \n",
       "88311  [Single-player, Multi-player, Online Multi-Pla...  Free To Play   \n",
       "88312  [Single-player, Multi-player, Online Multi-Pla...  Free to Play   \n",
       "\n",
       "       early_access        id         developer  \n",
       "88310           0.0  761140.0         Kotoshiro  \n",
       "88311           0.0  643980.0  Secret Level SRL  \n",
       "88312           0.0  670290.0      Poolians.com  "
      ]
     },
     "execution_count": 22,
     "metadata": {},
     "output_type": "execute_result"
    }
   ],
   "source": [
    "clean_games.head(3)"
   ]
  },
  {
   "cell_type": "markdown",
   "metadata": {},
   "source": [
    "### Tratamiento de datos"
   ]
  },
  {
   "cell_type": "code",
   "execution_count": 23,
   "metadata": {},
   "outputs": [
    {
     "name": "stdout",
     "output_type": "stream",
     "text": [
      "Hay 8052 valores nulos en publisher\n",
      "Hay 3283 valores nulos en genres\n",
      "Hay 2 valores nulos en app_name\n",
      "Hay 2050 valores nulos en title\n",
      "Hay 0 valores nulos en url\n",
      "Hay 2067 valores nulos en release_date\n",
      "Hay 163 valores nulos en tags\n",
      "Hay 2 valores nulos en reviews_url\n",
      "Hay 670 valores nulos en specs\n",
      "Hay 1377 valores nulos en price\n",
      "Hay 0 valores nulos en early_access\n",
      "Hay 2 valores nulos en id\n",
      "Hay 3299 valores nulos en developer\n"
     ]
    }
   ],
   "source": [
    "# Controlaremos las columnas y revisaremos la cantidad de valores nulos\n",
    "for column in clean_games.columns:\n",
    "    print(f'Hay {clean_games[column].isna().sum()} valores nulos en {column}')"
   ]
  },
  {
   "cell_type": "markdown",
   "metadata": {},
   "source": [
    "### Elimino las columnas que no voy a usar"
   ]
  },
  {
   "cell_type": "code",
   "execution_count": 24,
   "metadata": {},
   "outputs": [],
   "source": [
    "games.drop(columns= ['app_name', 'url', 'tags', 'reviews_url', 'specs', 'early_access', ], inplace=True)"
   ]
  },
  {
   "cell_type": "code",
   "execution_count": 10,
   "metadata": {},
   "outputs": [],
   "source": [
    "# Eliminaremos los valores nulos en la clumna llamada id\n",
    "# games = games.dropna(subset=\"id\", axis=0)"
   ]
  },
  {
   "cell_type": "code",
   "execution_count": 25,
   "metadata": {},
   "outputs": [
    {
     "name": "stdout",
     "output_type": "stream",
     "text": [
      "<class 'pandas.core.frame.DataFrame'>\n",
      "Index: 120445 entries, 0 to 120444\n",
      "Data columns (total 7 columns):\n",
      " #   Column        Non-Null Count  Dtype  \n",
      "---  ------        --------------  -----  \n",
      " 0   publisher     24083 non-null  object \n",
      " 1   genres        28852 non-null  object \n",
      " 2   title         30085 non-null  object \n",
      " 3   release_date  30068 non-null  object \n",
      " 4   price         30758 non-null  object \n",
      " 5   id            32133 non-null  float64\n",
      " 6   developer     28836 non-null  object \n",
      "dtypes: float64(1), object(6)\n",
      "memory usage: 7.4+ MB\n"
     ]
    }
   ],
   "source": [
    "games.info()"
   ]
  },
  {
   "cell_type": "markdown",
   "metadata": {},
   "source": [
    "### Creamos dummys para genres"
   ]
  },
  {
   "cell_type": "code",
   "execution_count": 26,
   "metadata": {},
   "outputs": [],
   "source": [
    "games['genres'] = games['genres'].fillna('[]') #Relleno los valores faltantes con una lista vacia\n",
    "games['genres'] = games['genres'].apply(lambda x: ', '.join(x)) #Convertir la lista de generos separada por comas"
   ]
  },
  {
   "cell_type": "markdown",
   "metadata": {},
   "source": [
    "Creamos variables para los generos"
   ]
  },
  {
   "cell_type": "code",
   "execution_count": 27,
   "metadata": {},
   "outputs": [],
   "source": [
    "dummy_genres = games['genres'].str.get_dummies(', ')"
   ]
  },
  {
   "cell_type": "markdown",
   "metadata": {},
   "source": [
    "Concateno las variables con el Dataframe original"
   ]
  },
  {
   "cell_type": "code",
   "execution_count": 28,
   "metadata": {},
   "outputs": [],
   "source": [
    "games_with_dymmys = pd.concat([games, dummy_genres], axis=1)"
   ]
  },
  {
   "cell_type": "code",
   "execution_count": 29,
   "metadata": {},
   "outputs": [
    {
     "name": "stdout",
     "output_type": "stream",
     "text": [
      "<class 'pandas.core.frame.DataFrame'>\n",
      "Index: 120445 entries, 0 to 120444\n",
      "Data columns (total 31 columns):\n",
      " #   Column                     Non-Null Count   Dtype  \n",
      "---  ------                     --------------   -----  \n",
      " 0   publisher                  24083 non-null   object \n",
      " 1   genres                     120445 non-null  object \n",
      " 2   title                      30085 non-null   object \n",
      " 3   release_date               30068 non-null   object \n",
      " 4   price                      30758 non-null   object \n",
      " 5   id                         32133 non-null   float64\n",
      " 6   developer                  28836 non-null   object \n",
      " 7   Accounting                 120445 non-null  int64  \n",
      " 8   Action                     120445 non-null  int64  \n",
      " 9   Adventure                  120445 non-null  int64  \n",
      " 10  Animation &amp; Modeling   120445 non-null  int64  \n",
      " 11  Audio Production           120445 non-null  int64  \n",
      " 12  Casual                     120445 non-null  int64  \n",
      " 13  Design &amp; Illustration  120445 non-null  int64  \n",
      " 14  Early Access               120445 non-null  int64  \n",
      " 15  Education                  120445 non-null  int64  \n",
      " 16  Free to Play               120445 non-null  int64  \n",
      " 17  Indie                      120445 non-null  int64  \n",
      " 18  Massively Multiplayer      120445 non-null  int64  \n",
      " 19  Photo Editing              120445 non-null  int64  \n",
      " 20  RPG                        120445 non-null  int64  \n",
      " 21  Racing                     120445 non-null  int64  \n",
      " 22  Simulation                 120445 non-null  int64  \n",
      " 23  Software Training          120445 non-null  int64  \n",
      " 24  Sports                     120445 non-null  int64  \n",
      " 25  Strategy                   120445 non-null  int64  \n",
      " 26  Utilities                  120445 non-null  int64  \n",
      " 27  Video Production           120445 non-null  int64  \n",
      " 28  Web Publishing             120445 non-null  int64  \n",
      " 29  [                          120445 non-null  int64  \n",
      " 30  ]                          120445 non-null  int64  \n",
      "dtypes: float64(1), int64(24), object(6)\n",
      "memory usage: 29.4+ MB\n"
     ]
    }
   ],
   "source": [
    "games_with_dymmys.info()"
   ]
  },
  {
   "cell_type": "markdown",
   "metadata": {},
   "source": [
    "De la columna release_date extraigo solo el año"
   ]
  },
  {
   "cell_type": "code",
   "execution_count": 30,
   "metadata": {},
   "outputs": [],
   "source": [
    "games = games_with_dymmys"
   ]
  },
  {
   "cell_type": "code",
   "execution_count": 31,
   "metadata": {},
   "outputs": [],
   "source": [
    "# Reemplazar los valores no validos por NaN\n",
    "games['release_date'] = pd.to_datetime(games['release_date'], errors='coerce')\n",
    "\n",
    "# Filtrar el DataFrame para obtener los registros validos\n",
    "games_filtered = games.dropna(subset=['release_date'])\n",
    "\n",
    "# Convierto la columna \"release_date\" a tipo datatime\n",
    "games_filtered.loc[:, 'release_date'] = pd.to_datetime(games_filtered['release_date'])\n"
   ]
  },
  {
   "cell_type": "code",
   "execution_count": 33,
   "metadata": {},
   "outputs": [],
   "source": [
    "# Relleno los valores faltantes con mode\n",
    "column_mode = ['release_date']\n",
    "for col in column_mode:\n",
    "    games[col] = games[col].fillna(games[col].mode()[0])"
   ]
  },
  {
   "cell_type": "code",
   "execution_count": 37,
   "metadata": {},
   "outputs": [],
   "source": [
    "# Modelar y eliminacion de la columna 'release_date' \n",
    "games['year'] = games['release_date'].dt.year.astype('Int64')\n",
    "games.drop('release_date', axis=1, inplace=True)"
   ]
  },
  {
   "cell_type": "code",
   "execution_count": 38,
   "metadata": {},
   "outputs": [
    {
     "name": "stdout",
     "output_type": "stream",
     "text": [
      "Hay 96362 valores nulos en publisher\n",
      "Hay 0 valores nulos en genres\n",
      "Hay 90360 valores nulos en title\n",
      "Hay 89687 valores nulos en price\n",
      "Hay 88312 valores nulos en id\n",
      "Hay 91609 valores nulos en developer\n",
      "Hay 0 valores nulos en Accounting\n",
      "Hay 0 valores nulos en Action\n",
      "Hay 0 valores nulos en Adventure\n",
      "Hay 0 valores nulos en Animation &amp; Modeling\n",
      "Hay 0 valores nulos en Audio Production\n",
      "Hay 0 valores nulos en Casual\n",
      "Hay 0 valores nulos en Design &amp; Illustration\n",
      "Hay 0 valores nulos en Early Access\n",
      "Hay 0 valores nulos en Education\n",
      "Hay 0 valores nulos en Free to Play\n",
      "Hay 0 valores nulos en Indie\n",
      "Hay 0 valores nulos en Massively Multiplayer\n",
      "Hay 0 valores nulos en Photo Editing\n",
      "Hay 0 valores nulos en RPG\n",
      "Hay 0 valores nulos en Racing\n",
      "Hay 0 valores nulos en Simulation\n",
      "Hay 0 valores nulos en Software Training\n",
      "Hay 0 valores nulos en Sports\n",
      "Hay 0 valores nulos en Strategy\n",
      "Hay 0 valores nulos en Utilities\n",
      "Hay 0 valores nulos en Video Production\n",
      "Hay 0 valores nulos en Web Publishing\n",
      "Hay 0 valores nulos en [\n",
      "Hay 0 valores nulos en ]\n",
      "Hay 0 valores nulos en year\n"
     ]
    }
   ],
   "source": [
    "for column in games.columns:\n",
    "    print(f'Hay {games[column].isna().sum()} valores nulos en {column}')"
   ]
  },
  {
   "cell_type": "markdown",
   "metadata": {},
   "source": [
    "Importamos a ¿Parquet?"
   ]
  },
  {
   "cell_type": "code",
   "execution_count": 40,
   "metadata": {},
   "outputs": [],
   "source": [
    "games.to_csv('steam_games_clean.csv')\n",
    "# 120444"
   ]
  }
 ],
 "metadata": {
  "kernelspec": {
   "display_name": "Python 3",
   "language": "python",
   "name": "python3"
  },
  "language_info": {
   "codemirror_mode": {
    "name": "ipython",
    "version": 3
   },
   "file_extension": ".py",
   "mimetype": "text/x-python",
   "name": "python",
   "nbconvert_exporter": "python",
   "pygments_lexer": "ipython3",
   "version": "3.11.9"
  }
 },
 "nbformat": 4,
 "nbformat_minor": 2
}
