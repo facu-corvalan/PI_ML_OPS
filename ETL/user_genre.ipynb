{
 "cells": [
  {
   "cell_type": "markdown",
   "metadata": {},
   "source": [
    "3) enpoint:\n",
    "- def UserForGenre( genero : str ): Debe devolver el usuario que acumula más horas jugadas para el género dado y una lista de la acumulación de horas jugadas por año de lanzamiento.\n",
    "- Ejemplo de retorno: {\"Usuario con más horas jugadas para Género X\" : us213ndjss09sdf, \"Horas jugadas\":[{Año: 2013, Horas: 203}, {Año: 2012, Horas: 100}, {Año: 2011, Horas: 23}]}"
   ]
  },
  {
   "cell_type": "code",
   "execution_count": 25,
   "metadata": {},
   "outputs": [],
   "source": [
    "import pandas as pd\n",
    "\n",
    "# Leo el archivo que voy a utilizar para este endpoint\n",
    "games = pd.read_parquet('../Dataset/games_clean.parquet')\n",
    "items = pd.read_parquet('../Dataset/items_clean.parquet')"
   ]
  },
  {
   "cell_type": "code",
   "execution_count": 26,
   "metadata": {},
   "outputs": [
    {
     "data": {
      "text/html": [
       "<div>\n",
       "<style scoped>\n",
       "    .dataframe tbody tr th:only-of-type {\n",
       "        vertical-align: middle;\n",
       "    }\n",
       "\n",
       "    .dataframe tbody tr th {\n",
       "        vertical-align: top;\n",
       "    }\n",
       "\n",
       "    .dataframe thead th {\n",
       "        text-align: right;\n",
       "    }\n",
       "</style>\n",
       "<table border=\"1\" class=\"dataframe\">\n",
       "  <thead>\n",
       "    <tr style=\"text-align: right;\">\n",
       "      <th></th>\n",
       "      <th>id</th>\n",
       "      <th>title</th>\n",
       "      <th>developer</th>\n",
       "      <th>release_date</th>\n",
       "      <th>genres</th>\n",
       "      <th>tags</th>\n",
       "      <th>price</th>\n",
       "    </tr>\n",
       "  </thead>\n",
       "  <tbody>\n",
       "    <tr>\n",
       "      <th>0</th>\n",
       "      <td>761140</td>\n",
       "      <td>Lost Summoner Kitty</td>\n",
       "      <td>Kotoshiro</td>\n",
       "      <td>2018-01-04</td>\n",
       "      <td>[Action, Casual, Indie, Simulation, Strategy]</td>\n",
       "      <td>[Strategy, Action, Indie, Casual, Simulation]</td>\n",
       "      <td>4.99</td>\n",
       "    </tr>\n",
       "    <tr>\n",
       "      <th>1</th>\n",
       "      <td>643980</td>\n",
       "      <td>Ironbound</td>\n",
       "      <td>Secret Level SRL</td>\n",
       "      <td>2018-01-04</td>\n",
       "      <td>[Free to Play, Indie, RPG, Strategy]</td>\n",
       "      <td>[Free to Play, Strategy, Indie, RPG, Card Game...</td>\n",
       "      <td>0.00</td>\n",
       "    </tr>\n",
       "    <tr>\n",
       "      <th>2</th>\n",
       "      <td>670290</td>\n",
       "      <td>Real Pool 3D - Poolians</td>\n",
       "      <td>Poolians.com</td>\n",
       "      <td>2017-07-24</td>\n",
       "      <td>[Casual, Free to Play, Indie, Simulation, Sports]</td>\n",
       "      <td>[Free to Play, Simulation, Sports, Casual, Ind...</td>\n",
       "      <td>0.00</td>\n",
       "    </tr>\n",
       "    <tr>\n",
       "      <th>3</th>\n",
       "      <td>767400</td>\n",
       "      <td>弹炸人2222</td>\n",
       "      <td>彼岸领域</td>\n",
       "      <td>2017-12-07</td>\n",
       "      <td>[Action, Adventure, Casual]</td>\n",
       "      <td>[Action, Adventure, Casual]</td>\n",
       "      <td>0.99</td>\n",
       "    </tr>\n",
       "    <tr>\n",
       "      <th>4</th>\n",
       "      <td>772540</td>\n",
       "      <td>Battle Royale Trainer</td>\n",
       "      <td>Trickjump Games Ltd</td>\n",
       "      <td>2018-01-04</td>\n",
       "      <td>[Action, Adventure, Simulation]</td>\n",
       "      <td>[Action, Adventure, Simulation, FPS, Shooter, ...</td>\n",
       "      <td>3.99</td>\n",
       "    </tr>\n",
       "  </tbody>\n",
       "</table>\n",
       "</div>"
      ],
      "text/plain": [
       "       id                    title            developer release_date  \\\n",
       "0  761140      Lost Summoner Kitty            Kotoshiro   2018-01-04   \n",
       "1  643980                Ironbound     Secret Level SRL   2018-01-04   \n",
       "2  670290  Real Pool 3D - Poolians         Poolians.com   2017-07-24   \n",
       "3  767400                  弹炸人2222                 彼岸领域   2017-12-07   \n",
       "4  772540    Battle Royale Trainer  Trickjump Games Ltd   2018-01-04   \n",
       "\n",
       "                                              genres  \\\n",
       "0      [Action, Casual, Indie, Simulation, Strategy]   \n",
       "1               [Free to Play, Indie, RPG, Strategy]   \n",
       "2  [Casual, Free to Play, Indie, Simulation, Sports]   \n",
       "3                        [Action, Adventure, Casual]   \n",
       "4                    [Action, Adventure, Simulation]   \n",
       "\n",
       "                                                tags  price  \n",
       "0      [Strategy, Action, Indie, Casual, Simulation]   4.99  \n",
       "1  [Free to Play, Strategy, Indie, RPG, Card Game...   0.00  \n",
       "2  [Free to Play, Simulation, Sports, Casual, Ind...   0.00  \n",
       "3                        [Action, Adventure, Casual]   0.99  \n",
       "4  [Action, Adventure, Simulation, FPS, Shooter, ...   3.99  "
      ]
     },
     "execution_count": 26,
     "metadata": {},
     "output_type": "execute_result"
    }
   ],
   "source": [
    "games.head(5)"
   ]
  },
  {
   "cell_type": "code",
   "execution_count": 27,
   "metadata": {},
   "outputs": [
    {
     "data": {
      "text/html": [
       "<div>\n",
       "<style scoped>\n",
       "    .dataframe tbody tr th:only-of-type {\n",
       "        vertical-align: middle;\n",
       "    }\n",
       "\n",
       "    .dataframe tbody tr th {\n",
       "        vertical-align: top;\n",
       "    }\n",
       "\n",
       "    .dataframe thead th {\n",
       "        text-align: right;\n",
       "    }\n",
       "</style>\n",
       "<table border=\"1\" class=\"dataframe\">\n",
       "  <thead>\n",
       "    <tr style=\"text-align: right;\">\n",
       "      <th></th>\n",
       "      <th>user_id</th>\n",
       "      <th>items_count</th>\n",
       "      <th>steam_id</th>\n",
       "      <th>playtime_forever</th>\n",
       "      <th>id</th>\n",
       "      <th>item_name</th>\n",
       "    </tr>\n",
       "  </thead>\n",
       "  <tbody>\n",
       "    <tr>\n",
       "      <th>0</th>\n",
       "      <td>76561197970982479</td>\n",
       "      <td>277</td>\n",
       "      <td>76561197970982479</td>\n",
       "      <td>6</td>\n",
       "      <td>10</td>\n",
       "      <td>Counter-Strike</td>\n",
       "    </tr>\n",
       "    <tr>\n",
       "      <th>1</th>\n",
       "      <td>js41637</td>\n",
       "      <td>888</td>\n",
       "      <td>76561198035864385</td>\n",
       "      <td>0</td>\n",
       "      <td>10</td>\n",
       "      <td>Counter-Strike</td>\n",
       "    </tr>\n",
       "    <tr>\n",
       "      <th>2</th>\n",
       "      <td>evcentric</td>\n",
       "      <td>137</td>\n",
       "      <td>76561198007712555</td>\n",
       "      <td>923</td>\n",
       "      <td>1200</td>\n",
       "      <td>Red Orchestra: Ostfront 41-45</td>\n",
       "    </tr>\n",
       "    <tr>\n",
       "      <th>3</th>\n",
       "      <td>Riot-Punch</td>\n",
       "      <td>328</td>\n",
       "      <td>76561197963445855</td>\n",
       "      <td>0</td>\n",
       "      <td>10</td>\n",
       "      <td>Counter-Strike</td>\n",
       "    </tr>\n",
       "    <tr>\n",
       "      <th>4</th>\n",
       "      <td>doctr</td>\n",
       "      <td>541</td>\n",
       "      <td>76561198002099482</td>\n",
       "      <td>1131</td>\n",
       "      <td>300</td>\n",
       "      <td>Day of Defeat: Source</td>\n",
       "    </tr>\n",
       "  </tbody>\n",
       "</table>\n",
       "</div>"
      ],
      "text/plain": [
       "             user_id  items_count           steam_id  playtime_forever    id  \\\n",
       "0  76561197970982479          277  76561197970982479                 6    10   \n",
       "1            js41637          888  76561198035864385                 0    10   \n",
       "2          evcentric          137  76561198007712555               923  1200   \n",
       "3         Riot-Punch          328  76561197963445855                 0    10   \n",
       "4              doctr          541  76561198002099482              1131   300   \n",
       "\n",
       "                       item_name  \n",
       "0                 Counter-Strike  \n",
       "1                 Counter-Strike  \n",
       "2  Red Orchestra: Ostfront 41-45  \n",
       "3                 Counter-Strike  \n",
       "4          Day of Defeat: Source  "
      ]
     },
     "execution_count": 27,
     "metadata": {},
     "output_type": "execute_result"
    }
   ],
   "source": [
    "items.head(5)"
   ]
  },
  {
   "cell_type": "code",
   "execution_count": 28,
   "metadata": {},
   "outputs": [],
   "source": [
    "#Creamos dos dataframes donde contengan las columnas que vamos a utilizar \n",
    "games = games[['genres', 'id','release_date']]\n",
    "items = items[['user_id','playtime_forever', 'id']]"
   ]
  },
  {
   "cell_type": "code",
   "execution_count": 29,
   "metadata": {},
   "outputs": [
    {
     "data": {
      "text/html": [
       "<div>\n",
       "<style scoped>\n",
       "    .dataframe tbody tr th:only-of-type {\n",
       "        vertical-align: middle;\n",
       "    }\n",
       "\n",
       "    .dataframe tbody tr th {\n",
       "        vertical-align: top;\n",
       "    }\n",
       "\n",
       "    .dataframe thead th {\n",
       "        text-align: right;\n",
       "    }\n",
       "</style>\n",
       "<table border=\"1\" class=\"dataframe\">\n",
       "  <thead>\n",
       "    <tr style=\"text-align: right;\">\n",
       "      <th></th>\n",
       "      <th>genres</th>\n",
       "      <th>id</th>\n",
       "      <th>release_date</th>\n",
       "    </tr>\n",
       "  </thead>\n",
       "  <tbody>\n",
       "    <tr>\n",
       "      <th>0</th>\n",
       "      <td>[Action, Casual, Indie, Simulation, Strategy]</td>\n",
       "      <td>761140</td>\n",
       "      <td>2018-01-04</td>\n",
       "    </tr>\n",
       "    <tr>\n",
       "      <th>1</th>\n",
       "      <td>[Free to Play, Indie, RPG, Strategy]</td>\n",
       "      <td>643980</td>\n",
       "      <td>2018-01-04</td>\n",
       "    </tr>\n",
       "    <tr>\n",
       "      <th>2</th>\n",
       "      <td>[Casual, Free to Play, Indie, Simulation, Sports]</td>\n",
       "      <td>670290</td>\n",
       "      <td>2017-07-24</td>\n",
       "    </tr>\n",
       "    <tr>\n",
       "      <th>3</th>\n",
       "      <td>[Action, Adventure, Casual]</td>\n",
       "      <td>767400</td>\n",
       "      <td>2017-12-07</td>\n",
       "    </tr>\n",
       "    <tr>\n",
       "      <th>4</th>\n",
       "      <td>[Action, Adventure, Simulation]</td>\n",
       "      <td>772540</td>\n",
       "      <td>2018-01-04</td>\n",
       "    </tr>\n",
       "  </tbody>\n",
       "</table>\n",
       "</div>"
      ],
      "text/plain": [
       "                                              genres      id release_date\n",
       "0      [Action, Casual, Indie, Simulation, Strategy]  761140   2018-01-04\n",
       "1               [Free to Play, Indie, RPG, Strategy]  643980   2018-01-04\n",
       "2  [Casual, Free to Play, Indie, Simulation, Sports]  670290   2017-07-24\n",
       "3                        [Action, Adventure, Casual]  767400   2017-12-07\n",
       "4                    [Action, Adventure, Simulation]  772540   2018-01-04"
      ]
     },
     "execution_count": 29,
     "metadata": {},
     "output_type": "execute_result"
    }
   ],
   "source": [
    "games.head(5)"
   ]
  },
  {
   "cell_type": "code",
   "execution_count": 30,
   "metadata": {},
   "outputs": [
    {
     "data": {
      "text/html": [
       "<div>\n",
       "<style scoped>\n",
       "    .dataframe tbody tr th:only-of-type {\n",
       "        vertical-align: middle;\n",
       "    }\n",
       "\n",
       "    .dataframe tbody tr th {\n",
       "        vertical-align: top;\n",
       "    }\n",
       "\n",
       "    .dataframe thead th {\n",
       "        text-align: right;\n",
       "    }\n",
       "</style>\n",
       "<table border=\"1\" class=\"dataframe\">\n",
       "  <thead>\n",
       "    <tr style=\"text-align: right;\">\n",
       "      <th></th>\n",
       "      <th>user_id</th>\n",
       "      <th>playtime_forever</th>\n",
       "      <th>id</th>\n",
       "    </tr>\n",
       "  </thead>\n",
       "  <tbody>\n",
       "    <tr>\n",
       "      <th>0</th>\n",
       "      <td>76561197970982479</td>\n",
       "      <td>6</td>\n",
       "      <td>10</td>\n",
       "    </tr>\n",
       "    <tr>\n",
       "      <th>1</th>\n",
       "      <td>js41637</td>\n",
       "      <td>0</td>\n",
       "      <td>10</td>\n",
       "    </tr>\n",
       "    <tr>\n",
       "      <th>2</th>\n",
       "      <td>evcentric</td>\n",
       "      <td>923</td>\n",
       "      <td>1200</td>\n",
       "    </tr>\n",
       "    <tr>\n",
       "      <th>3</th>\n",
       "      <td>Riot-Punch</td>\n",
       "      <td>0</td>\n",
       "      <td>10</td>\n",
       "    </tr>\n",
       "    <tr>\n",
       "      <th>4</th>\n",
       "      <td>doctr</td>\n",
       "      <td>1131</td>\n",
       "      <td>300</td>\n",
       "    </tr>\n",
       "  </tbody>\n",
       "</table>\n",
       "</div>"
      ],
      "text/plain": [
       "             user_id  playtime_forever    id\n",
       "0  76561197970982479                 6    10\n",
       "1            js41637                 0    10\n",
       "2          evcentric               923  1200\n",
       "3         Riot-Punch                 0    10\n",
       "4              doctr              1131   300"
      ]
     },
     "execution_count": 30,
     "metadata": {},
     "output_type": "execute_result"
    }
   ],
   "source": [
    "items.head()"
   ]
  },
  {
   "cell_type": "code",
   "execution_count": 7,
   "metadata": {},
   "outputs": [],
   "source": [
    "#Combertimos el archivo a parquet\n",
    "games.to_parquet('../Dataset/user_genre_games.parquet', compression='snappy', index=False)\n",
    "items.to_parquet('../Dataset/user_genre_items.parquet', compression='snappy', index=False)"
   ]
  },
  {
   "cell_type": "markdown",
   "metadata": {},
   "source": [
    "-------------------------------------------------------------------------------------------------------------------------"
   ]
  },
  {
   "cell_type": "code",
   "execution_count": 31,
   "metadata": {},
   "outputs": [
    {
     "name": "stdout",
     "output_type": "stream",
     "text": [
      "Número de IDs que aparecen en ambas columnas: 477\n"
     ]
    }
   ],
   "source": [
    "#Generamos dos variables para que sea más facil de analizar\n",
    "ids_df1 = set(games['id'])\n",
    "ids_df2 = set(items['id'])\n",
    "\n",
    "# Encontrar intersección de IDs\n",
    "common_ids = ids_df1.intersection(ids_df2)\n",
    "\n",
    "# Contar el número de IDs comunes\n",
    "count_common_ids = len(common_ids)\n",
    "\n",
    "print(f\"Número de IDs que aparecen en ambas columnas: {count_common_ids}\")"
   ]
  },
  {
   "cell_type": "markdown",
   "metadata": {},
   "source": [
    "Probando el endpoint"
   ]
  },
  {
   "cell_type": "code",
   "execution_count": 33,
   "metadata": {},
   "outputs": [
    {
     "data": {
      "text/plain": [
       "{'Usuario con más horas jugadas para Género Action': 'crustyoldkiller',\n",
       " 'Horas jugadas': [{'Año': 2004, 'Horas jugadas': 388621}]}"
      ]
     },
     "execution_count": 33,
     "metadata": {},
     "output_type": "execute_result"
    }
   ],
   "source": [
    "def UserForGenre(genre: str):\n",
    "    \"\"\"\n",
    "    Action\n",
    "    Endpoint 3\n",
    "\n",
    "    - def UserForGenre( genero : str ): Debe devolver el usuario que acumula más horas jugadas para el género dado \n",
    "      y una lista de la acumulación de horas jugadas por año de lanzamiento.\n",
    "\n",
    "    - Ejemplo de retorno: \n",
    "    {\"Usuario con más horas jugadas para Género X\" : us213ndjss09sdf, \"Horas jugadas\":[{Año: 2013, Horas: 203}, {Año: 2012, Horas: 100}\n",
    "    , {Año: 2011, Horas: 23}]}\n",
    "    \"\"\"\n",
    "    #games = pd.read_parquet('Dataset/user_genre_games.parquet')\n",
    "    #items = pd.read_parquet('Dataset/user_genre_items.parquet')\n",
    "    global games, items\n",
    "\n",
    "    # Filtrando los juegos por el género dado\n",
    "    games_genre = games[games['genres'].str.contains(genre, case=False, na=False)]\n",
    "    \n",
    "    # Combinando los DataFrames games e items\n",
    "    filter_games = games_genre.merge(items, on='id', how='inner')\n",
    "    \n",
    "    # Añadiendo la columna del año de lanzamiento\n",
    "    filter_games['release_year'] = filter_games['release_date'].dt.year\n",
    "    \n",
    "    # Agrupando por user_id y release_year para sumar el tiempo de juego\n",
    "    user_year = filter_games.groupby(['user_id', 'release_year']).agg({'playtime_forever': 'sum'}).reset_index()\n",
    "    \n",
    "    # Encontrando el usuario con más horas jugadas\n",
    "    total_playtime_per_user = user_year.groupby('user_id')['playtime_forever'].sum()\n",
    "    max_user = total_playtime_per_user.idxmax()\n",
    "    \n",
    "    # Filtrando las horas jugadas por año para el usuario con más horas\n",
    "    user_playtime_by_year = user_year[user_year['user_id'] == max_user][['release_year', 'playtime_forever']]\n",
    "    \n",
    "    # Renombrando las columnas para cumplir con el formato requerido\n",
    "    user_playtime_by_year.rename(columns={'release_year': 'Año', 'playtime_forever': 'Horas jugadas'}, inplace=True)\n",
    "    \n",
    "    # Imprimiendo los datos para depuración\n",
    "\n",
    "    # Convirtiendo el resultado a un formato de lista de diccionarios\n",
    "    year_playtime = user_playtime_by_year.to_dict('records')\n",
    "    \n",
    "    # Devolviendo el resultado en el formato especificado\n",
    "    return {\"Usuario con más horas jugadas para Género \" + genre: max_user, \"Horas jugadas\": year_playtime}\n",
    "\n",
    "prueba = UserForGenre('Action')\n",
    "prueba\n"
   ]
  }
 ],
 "metadata": {
  "kernelspec": {
   "display_name": "Python 3",
   "language": "python",
   "name": "python3"
  },
  "language_info": {
   "codemirror_mode": {
    "name": "ipython",
    "version": 3
   },
   "file_extension": ".py",
   "mimetype": "text/x-python",
   "name": "python",
   "nbconvert_exporter": "python",
   "pygments_lexer": "ipython3",
   "version": "3.11.9"
  }
 },
 "nbformat": 4,
 "nbformat_minor": 2
}
