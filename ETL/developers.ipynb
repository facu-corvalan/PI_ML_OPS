{
 "cells": [
  {
   "cell_type": "markdown",
   "metadata": {},
   "source": [
    "## Enpoint 1:\n",
    "- def developer( desarrollador : str ): Cantidad de items y porcentaje de contenido Free por año según empresa desarrolladora. Ejemplo de retorno:\n",
    "- Año\tCantidad de Items\tContenido Free\n",
    "- 2023\t50\t27%\n",
    "- 2022\t45\t25%\n",
    "- xxxx\txx\txx%"
   ]
  },
  {
   "cell_type": "code",
   "execution_count": 1,
   "metadata": {},
   "outputs": [],
   "source": [
    "import pandas as pd\n",
    "\n",
    "# Leo el archivo que voy a utilizar para este endpoint\n",
    "games = pd.read_parquet('../Dataset/games_clean.parquet')\n"
   ]
  },
  {
   "cell_type": "code",
   "execution_count": 2,
   "metadata": {},
   "outputs": [
    {
     "data": {
      "text/html": [
       "<div>\n",
       "<style scoped>\n",
       "    .dataframe tbody tr th:only-of-type {\n",
       "        vertical-align: middle;\n",
       "    }\n",
       "\n",
       "    .dataframe tbody tr th {\n",
       "        vertical-align: top;\n",
       "    }\n",
       "\n",
       "    .dataframe thead th {\n",
       "        text-align: right;\n",
       "    }\n",
       "</style>\n",
       "<table border=\"1\" class=\"dataframe\">\n",
       "  <thead>\n",
       "    <tr style=\"text-align: right;\">\n",
       "      <th></th>\n",
       "      <th>id</th>\n",
       "      <th>title</th>\n",
       "      <th>developer</th>\n",
       "      <th>release_date</th>\n",
       "      <th>genres</th>\n",
       "      <th>tags</th>\n",
       "      <th>price</th>\n",
       "    </tr>\n",
       "  </thead>\n",
       "  <tbody>\n",
       "    <tr>\n",
       "      <th>0</th>\n",
       "      <td>761140</td>\n",
       "      <td>Lost Summoner Kitty</td>\n",
       "      <td>Kotoshiro</td>\n",
       "      <td>2018-01-04</td>\n",
       "      <td>Action, Casual, Indie, Simulation, Strategy</td>\n",
       "      <td>Strategy, Action, Indie, Casual, Simulation</td>\n",
       "      <td>4.99</td>\n",
       "    </tr>\n",
       "    <tr>\n",
       "      <th>1</th>\n",
       "      <td>643980</td>\n",
       "      <td>Ironbound</td>\n",
       "      <td>Secret Level SRL</td>\n",
       "      <td>2018-01-04</td>\n",
       "      <td>Free to Play, Indie, RPG, Strategy</td>\n",
       "      <td>Free to Play, Strategy, Indie, RPG, Card Game,...</td>\n",
       "      <td>0.00</td>\n",
       "    </tr>\n",
       "    <tr>\n",
       "      <th>2</th>\n",
       "      <td>670290</td>\n",
       "      <td>Real Pool 3D - Poolians</td>\n",
       "      <td>Poolians.com</td>\n",
       "      <td>2017-07-24</td>\n",
       "      <td>Casual, Free to Play, Indie, Simulation, Sports</td>\n",
       "      <td>Free to Play, Simulation, Sports, Casual, Indi...</td>\n",
       "      <td>0.00</td>\n",
       "    </tr>\n",
       "    <tr>\n",
       "      <th>3</th>\n",
       "      <td>767400</td>\n",
       "      <td>弹炸人2222</td>\n",
       "      <td>彼岸领域</td>\n",
       "      <td>2017-12-07</td>\n",
       "      <td>Action, Adventure, Casual</td>\n",
       "      <td>Action, Adventure, Casual</td>\n",
       "      <td>0.99</td>\n",
       "    </tr>\n",
       "    <tr>\n",
       "      <th>4</th>\n",
       "      <td>772540</td>\n",
       "      <td>Battle Royale Trainer</td>\n",
       "      <td>Trickjump Games Ltd</td>\n",
       "      <td>2018-01-04</td>\n",
       "      <td>Action, Adventure, Simulation</td>\n",
       "      <td>Action, Adventure, Simulation, FPS, Shooter, T...</td>\n",
       "      <td>3.99</td>\n",
       "    </tr>\n",
       "    <tr>\n",
       "      <th>5</th>\n",
       "      <td>774277</td>\n",
       "      <td>SNOW - All Access Pro Pass</td>\n",
       "      <td>Poppermost Productions</td>\n",
       "      <td>2018-01-04</td>\n",
       "      <td>Free to Play, Indie, Simulation, Sports</td>\n",
       "      <td>Free to Play, Indie, Simulation, Sports</td>\n",
       "      <td>18.99</td>\n",
       "    </tr>\n",
       "    <tr>\n",
       "      <th>6</th>\n",
       "      <td>774278</td>\n",
       "      <td>SNOW - All Access Legend Pass</td>\n",
       "      <td>Poppermost Productions</td>\n",
       "      <td>2018-01-04</td>\n",
       "      <td>Free to Play, Indie, Simulation, Sports</td>\n",
       "      <td>Free to Play, Indie, Simulation, Sports</td>\n",
       "      <td>29.99</td>\n",
       "    </tr>\n",
       "    <tr>\n",
       "      <th>7</th>\n",
       "      <td>770380</td>\n",
       "      <td>Army of Tentacles: (Not) A Cthulhu Dating Sim:...</td>\n",
       "      <td>Stegalosaurus Game Development</td>\n",
       "      <td>2018-01-04</td>\n",
       "      <td>Action, Adventure, Casual, Indie, RPG</td>\n",
       "      <td>Action, Adventure, RPG, Indie, Casual</td>\n",
       "      <td>10.99</td>\n",
       "    </tr>\n",
       "    <tr>\n",
       "      <th>8</th>\n",
       "      <td>768880</td>\n",
       "      <td>Beach Rules</td>\n",
       "      <td>Copperpick Studio</td>\n",
       "      <td>2018-01-04</td>\n",
       "      <td>Casual, Indie</td>\n",
       "      <td>Casual, Indie, Pixel Graphics, Cute, 2D</td>\n",
       "      <td>3.99</td>\n",
       "    </tr>\n",
       "    <tr>\n",
       "      <th>9</th>\n",
       "      <td>765320</td>\n",
       "      <td>Planetarium 2 - Zen Odyssey</td>\n",
       "      <td>Ghulam Jewel</td>\n",
       "      <td>2018-01-03</td>\n",
       "      <td>Casual, Indie, Simulation</td>\n",
       "      <td>Indie, Casual, Simulation</td>\n",
       "      <td>2.99</td>\n",
       "    </tr>\n",
       "  </tbody>\n",
       "</table>\n",
       "</div>"
      ],
      "text/plain": [
       "       id                                              title  \\\n",
       "0  761140                                Lost Summoner Kitty   \n",
       "1  643980                                          Ironbound   \n",
       "2  670290                            Real Pool 3D - Poolians   \n",
       "3  767400                                            弹炸人2222   \n",
       "4  772540                              Battle Royale Trainer   \n",
       "5  774277                         SNOW - All Access Pro Pass   \n",
       "6  774278                      SNOW - All Access Legend Pass   \n",
       "7  770380  Army of Tentacles: (Not) A Cthulhu Dating Sim:...   \n",
       "8  768880                                        Beach Rules   \n",
       "9  765320                        Planetarium 2 - Zen Odyssey   \n",
       "\n",
       "                        developer release_date  \\\n",
       "0                       Kotoshiro   2018-01-04   \n",
       "1                Secret Level SRL   2018-01-04   \n",
       "2                    Poolians.com   2017-07-24   \n",
       "3                            彼岸领域   2017-12-07   \n",
       "4             Trickjump Games Ltd   2018-01-04   \n",
       "5          Poppermost Productions   2018-01-04   \n",
       "6          Poppermost Productions   2018-01-04   \n",
       "7  Stegalosaurus Game Development   2018-01-04   \n",
       "8               Copperpick Studio   2018-01-04   \n",
       "9                    Ghulam Jewel   2018-01-03   \n",
       "\n",
       "                                            genres  \\\n",
       "0      Action, Casual, Indie, Simulation, Strategy   \n",
       "1               Free to Play, Indie, RPG, Strategy   \n",
       "2  Casual, Free to Play, Indie, Simulation, Sports   \n",
       "3                        Action, Adventure, Casual   \n",
       "4                    Action, Adventure, Simulation   \n",
       "5          Free to Play, Indie, Simulation, Sports   \n",
       "6          Free to Play, Indie, Simulation, Sports   \n",
       "7            Action, Adventure, Casual, Indie, RPG   \n",
       "8                                    Casual, Indie   \n",
       "9                        Casual, Indie, Simulation   \n",
       "\n",
       "                                                tags  price  \n",
       "0        Strategy, Action, Indie, Casual, Simulation   4.99  \n",
       "1  Free to Play, Strategy, Indie, RPG, Card Game,...   0.00  \n",
       "2  Free to Play, Simulation, Sports, Casual, Indi...   0.00  \n",
       "3                          Action, Adventure, Casual   0.99  \n",
       "4  Action, Adventure, Simulation, FPS, Shooter, T...   3.99  \n",
       "5            Free to Play, Indie, Simulation, Sports  18.99  \n",
       "6            Free to Play, Indie, Simulation, Sports  29.99  \n",
       "7              Action, Adventure, RPG, Indie, Casual  10.99  \n",
       "8            Casual, Indie, Pixel Graphics, Cute, 2D   3.99  \n",
       "9                          Indie, Casual, Simulation   2.99  "
      ]
     },
     "execution_count": 2,
     "metadata": {},
     "output_type": "execute_result"
    }
   ],
   "source": [
    "games.head(10)"
   ]
  },
  {
   "cell_type": "code",
   "execution_count": 3,
   "metadata": {},
   "outputs": [
    {
     "data": {
      "text/html": [
       "<div>\n",
       "<style scoped>\n",
       "    .dataframe tbody tr th:only-of-type {\n",
       "        vertical-align: middle;\n",
       "    }\n",
       "\n",
       "    .dataframe tbody tr th {\n",
       "        vertical-align: top;\n",
       "    }\n",
       "\n",
       "    .dataframe thead th {\n",
       "        text-align: right;\n",
       "    }\n",
       "</style>\n",
       "<table border=\"1\" class=\"dataframe\">\n",
       "  <thead>\n",
       "    <tr style=\"text-align: right;\">\n",
       "      <th></th>\n",
       "      <th>developer</th>\n",
       "      <th>release_date</th>\n",
       "      <th>price</th>\n",
       "    </tr>\n",
       "  </thead>\n",
       "  <tbody>\n",
       "    <tr>\n",
       "      <th>0</th>\n",
       "      <td>Kotoshiro</td>\n",
       "      <td>2018-01-04</td>\n",
       "      <td>4.99</td>\n",
       "    </tr>\n",
       "    <tr>\n",
       "      <th>1</th>\n",
       "      <td>Secret Level SRL</td>\n",
       "      <td>2018-01-04</td>\n",
       "      <td>0.00</td>\n",
       "    </tr>\n",
       "    <tr>\n",
       "      <th>2</th>\n",
       "      <td>Poolians.com</td>\n",
       "      <td>2017-07-24</td>\n",
       "      <td>0.00</td>\n",
       "    </tr>\n",
       "    <tr>\n",
       "      <th>3</th>\n",
       "      <td>彼岸领域</td>\n",
       "      <td>2017-12-07</td>\n",
       "      <td>0.99</td>\n",
       "    </tr>\n",
       "    <tr>\n",
       "      <th>4</th>\n",
       "      <td>Trickjump Games Ltd</td>\n",
       "      <td>2018-01-04</td>\n",
       "      <td>3.99</td>\n",
       "    </tr>\n",
       "  </tbody>\n",
       "</table>\n",
       "</div>"
      ],
      "text/plain": [
       "             developer release_date  price\n",
       "0            Kotoshiro   2018-01-04   4.99\n",
       "1     Secret Level SRL   2018-01-04   0.00\n",
       "2         Poolians.com   2017-07-24   0.00\n",
       "3                 彼岸领域   2017-12-07   0.99\n",
       "4  Trickjump Games Ltd   2018-01-04   3.99"
      ]
     },
     "execution_count": 3,
     "metadata": {},
     "output_type": "execute_result"
    }
   ],
   "source": [
    "games = games[['developer', 'release_date', 'price']]\n",
    "games.head(5)"
   ]
  },
  {
   "cell_type": "code",
   "execution_count": 4,
   "metadata": {},
   "outputs": [
    {
     "data": {
      "text/html": [
       "<div>\n",
       "<style scoped>\n",
       "    .dataframe tbody tr th:only-of-type {\n",
       "        vertical-align: middle;\n",
       "    }\n",
       "\n",
       "    .dataframe tbody tr th {\n",
       "        vertical-align: top;\n",
       "    }\n",
       "\n",
       "    .dataframe thead th {\n",
       "        text-align: right;\n",
       "    }\n",
       "</style>\n",
       "<table border=\"1\" class=\"dataframe\">\n",
       "  <thead>\n",
       "    <tr style=\"text-align: right;\">\n",
       "      <th></th>\n",
       "      <th>developer</th>\n",
       "      <th>release_date</th>\n",
       "      <th>free</th>\n",
       "    </tr>\n",
       "  </thead>\n",
       "  <tbody>\n",
       "    <tr>\n",
       "      <th>0</th>\n",
       "      <td>Kotoshiro</td>\n",
       "      <td>2018-01-04</td>\n",
       "      <td>0</td>\n",
       "    </tr>\n",
       "    <tr>\n",
       "      <th>1</th>\n",
       "      <td>Secret Level SRL</td>\n",
       "      <td>2018-01-04</td>\n",
       "      <td>1</td>\n",
       "    </tr>\n",
       "    <tr>\n",
       "      <th>2</th>\n",
       "      <td>Poolians.com</td>\n",
       "      <td>2017-07-24</td>\n",
       "      <td>1</td>\n",
       "    </tr>\n",
       "    <tr>\n",
       "      <th>3</th>\n",
       "      <td>彼岸领域</td>\n",
       "      <td>2017-12-07</td>\n",
       "      <td>0</td>\n",
       "    </tr>\n",
       "    <tr>\n",
       "      <th>4</th>\n",
       "      <td>Trickjump Games Ltd</td>\n",
       "      <td>2018-01-04</td>\n",
       "      <td>0</td>\n",
       "    </tr>\n",
       "  </tbody>\n",
       "</table>\n",
       "</div>"
      ],
      "text/plain": [
       "             developer release_date  free\n",
       "0            Kotoshiro   2018-01-04     0\n",
       "1     Secret Level SRL   2018-01-04     1\n",
       "2         Poolians.com   2017-07-24     1\n",
       "3                 彼岸领域   2017-12-07     0\n",
       "4  Trickjump Games Ltd   2018-01-04     0"
      ]
     },
     "execution_count": 4,
     "metadata": {},
     "output_type": "execute_result"
    }
   ],
   "source": [
    "#Creamos una columna de contenido free representado por 1 y no free por 0\n",
    "games['free'] = games['price'].apply(lambda x: 1 if x == 0 else 0)\n",
    "\n",
    "#Despues elimino la columna \"price\"\n",
    "games.drop('price', axis=1, inplace=True)\n",
    "\n",
    "# Revisamos los cambios\n",
    "games.head(5)"
   ]
  },
  {
   "cell_type": "code",
   "execution_count": null,
   "metadata": {},
   "outputs": [],
   "source": [
    "#Exporto el archivo\n",
    "games.to_parquet('../Dataset/developer.parquet', compression='snappy', index=False)"
   ]
  },
  {
   "cell_type": "markdown",
   "metadata": {},
   "source": [
    "-------------------------------------------------------------------------------------------------------------------------"
   ]
  },
  {
   "cell_type": "markdown",
   "metadata": {},
   "source": [
    "### Probando endpoint"
   ]
  },
  {
   "cell_type": "code",
   "execution_count": 11,
   "metadata": {},
   "outputs": [
    {
     "data": {
      "text/plain": [
       "[{'Año': 2000, 'Cantidad de Items': 1, 'Contenido Free': 0.0},\n",
       " {'Año': 2007, 'Cantidad de Items': 1, 'Contenido Free': 0.0},\n",
       " {'Año': 2009, 'Cantidad de Items': 1, 'Contenido Free': 0.0},\n",
       " {'Año': 2010, 'Cantidad de Items': 3, 'Contenido Free': 0.0},\n",
       " {'Año': 2011, 'Cantidad de Items': 3, 'Contenido Free': 0.0},\n",
       " {'Año': 2012, 'Cantidad de Items': 4, 'Contenido Free': 0.0},\n",
       " {'Año': 2013, 'Cantidad de Items': 4, 'Contenido Free': 0.0},\n",
       " {'Año': 2014, 'Cantidad de Items': 4, 'Contenido Free': 0.0},\n",
       " {'Año': 2015, 'Cantidad de Items': 1, 'Contenido Free': 0.0},\n",
       " {'Año': 2016, 'Cantidad de Items': 1, 'Contenido Free': 0.0},\n",
       " {'Año': 2017, 'Cantidad de Items': 6, 'Contenido Free': 0.0}]"
      ]
     },
     "execution_count": 11,
     "metadata": {},
     "output_type": "execute_result"
    }
   ],
   "source": [
    "def developer(developer : str):\n",
    "    \"\"\"\n",
    "    End point 1\n",
    "    - def developer( desarrollador : str ): Cantidad de items y porcentaje de contenido Free\n",
    "      por año según empresa desarrolladora. Ejemplo de retorno:\n",
    "\n",
    "    - Año\tCantidad de Items\tContenido Free\n",
    "    - 2023\t      50\t              27%\n",
    "    - 2022\t      45\t              25%\n",
    "    - xxxx\t      xx\t              xx%\n",
    "    Bohemia Interactive\n",
    "\n",
    "    \"\"\"\n",
    "    #games = pd.read_parquet('Dataset/developer.parquet')\n",
    "    global games\n",
    "    # Filtramos por el desarrollador ingresado\n",
    "    games = games[games['developer'] == developer]\n",
    "\n",
    "    # Agrupamos por año y contamos la cantidad de items\n",
    "    games['Año'] = games['release_date'].dt.year\n",
    "    games_year = games.groupby('Año').size().reset_index(name='Cantidad de Items')\n",
    "\n",
    "    # Agrupamos por año y sumamos la cantidad de items free\n",
    "    games_free = games.groupby('Año')['free'].sum().reset_index(name='free')\n",
    "\n",
    "    # Hacemos un merge de ambos dataframes mediante la columna Año\n",
    "    games = pd.merge(games_year, games_free, on='Año')\n",
    "\n",
    "    # Calculamos el porcentaje de contenido free\n",
    "    games['Contenido Free'] = round(games['free'] / games['Cantidad de Items'] * 100, 2)\n",
    "\n",
    "    # Eliminamos la columna free\n",
    "    games.drop(columns=['free'], inplace=True)\n",
    "\n",
    "    # Convertimos el dataframe a un diccionario\n",
    "    games = games.to_dict('records')\n",
    "    \n",
    "    return games\n",
    "\n",
    "prueba = developer('Bohemia Interactive')\n",
    "prueba"
   ]
  },
  {
   "cell_type": "markdown",
   "metadata": {},
   "source": [
    "-------------------------------------------------------------------------------------------------------------------------"
   ]
  },
  {
   "cell_type": "markdown",
   "metadata": {},
   "source": [
    "## Enpoint 4:\n",
    "- def best_developer_year( año : int ): Devuelve el top 3 de desarrolladores con juegos MÁS recomendados por usuarios para el año dado. (reviews.recommend = True y comentarios positivos)\n",
    "- Ejemplo de retorno: [{\"Puesto 1\" : X}, {\"Puesto 2\" : Y},{\"Puesto 3\" : Z}]"
   ]
  },
  {
   "cell_type": "code",
   "execution_count": 3,
   "metadata": {},
   "outputs": [],
   "source": [
    "import pandas as pd\n",
    "games = pd.read_parquet('../Dataset/games_clean.parquet')\n",
    "reviews = pd.read_parquet('../Dataset/reviews_clean.parquet')"
   ]
  },
  {
   "cell_type": "code",
   "execution_count": 4,
   "metadata": {},
   "outputs": [
    {
     "data": {
      "text/plain": [
       "Index(['id', 'title', 'developer', 'release_date', 'genres', 'tags', 'price'], dtype='object')"
      ]
     },
     "execution_count": 4,
     "metadata": {},
     "output_type": "execute_result"
    }
   ],
   "source": [
    "games.columns"
   ]
  },
  {
   "cell_type": "code",
   "execution_count": 5,
   "metadata": {},
   "outputs": [
    {
     "data": {
      "text/plain": [
       "Index(['item_id', 'negativo', 'neutral', 'positivo'], dtype='object')"
      ]
     },
     "execution_count": 5,
     "metadata": {},
     "output_type": "execute_result"
    }
   ],
   "source": [
    "reviews.columns"
   ]
  },
  {
   "cell_type": "code",
   "execution_count": 6,
   "metadata": {},
   "outputs": [],
   "source": [
    "#Creamos dos dataframes donde contengan las columnas que vamos a utilizar \n",
    "games = games[['developer', 'title', 'id', 'genres', 'release_date']]\n",
    "reviews = reviews[['item_id', 'positivo']]"
   ]
  },
  {
   "cell_type": "code",
   "execution_count": 19,
   "metadata": {},
   "outputs": [
    {
     "data": {
      "text/html": [
       "<div>\n",
       "<style scoped>\n",
       "    .dataframe tbody tr th:only-of-type {\n",
       "        vertical-align: middle;\n",
       "    }\n",
       "\n",
       "    .dataframe tbody tr th {\n",
       "        vertical-align: top;\n",
       "    }\n",
       "\n",
       "    .dataframe thead th {\n",
       "        text-align: right;\n",
       "    }\n",
       "</style>\n",
       "<table border=\"1\" class=\"dataframe\">\n",
       "  <thead>\n",
       "    <tr style=\"text-align: right;\">\n",
       "      <th></th>\n",
       "      <th>developer</th>\n",
       "      <th>title</th>\n",
       "      <th>id</th>\n",
       "      <th>genres</th>\n",
       "      <th>release_date</th>\n",
       "      <th>release_year</th>\n",
       "    </tr>\n",
       "  </thead>\n",
       "  <tbody>\n",
       "    <tr>\n",
       "      <th>46</th>\n",
       "      <td>Funcom</td>\n",
       "      <td>The Longest Journey</td>\n",
       "      <td>6310</td>\n",
       "      <td>Action, Adventure, RPG</td>\n",
       "      <td>2000-11-17</td>\n",
       "      <td>2000</td>\n",
       "    </tr>\n",
       "    <tr>\n",
       "      <th>98</th>\n",
       "      <td>Epic Games, Inc.</td>\n",
       "      <td>Unreal Tournament: Game of the Year Edition</td>\n",
       "      <td>13240</td>\n",
       "      <td>Action</td>\n",
       "      <td>2000-10-25</td>\n",
       "      <td>2000</td>\n",
       "    </tr>\n",
       "    <tr>\n",
       "      <th>451</th>\n",
       "      <td>Egosoft</td>\n",
       "      <td>X: Tension</td>\n",
       "      <td>2850</td>\n",
       "      <td>Simulation, Strategy</td>\n",
       "      <td>2000-06-01</td>\n",
       "      <td>2000</td>\n",
       "    </tr>\n",
       "    <tr>\n",
       "      <th>1840</th>\n",
       "      <td>Bohemia Interactive</td>\n",
       "      <td>Fairy Tale About Father Frost, Ivan and Nastya</td>\n",
       "      <td>289320</td>\n",
       "      <td>Adventure, Casual</td>\n",
       "      <td>2000-12-20</td>\n",
       "      <td>2000</td>\n",
       "    </tr>\n",
       "    <tr>\n",
       "      <th>1896</th>\n",
       "      <td>Humongous Entertainment</td>\n",
       "      <td>Pajama Sam 3: You Are What You Eat From Your H...</td>\n",
       "      <td>292800</td>\n",
       "      <td>Adventure, Casual</td>\n",
       "      <td>2000-04-01</td>\n",
       "      <td>2000</td>\n",
       "    </tr>\n",
       "  </tbody>\n",
       "</table>\n",
       "</div>"
      ],
      "text/plain": [
       "                    developer  \\\n",
       "46                     Funcom   \n",
       "98           Epic Games, Inc.   \n",
       "451                   Egosoft   \n",
       "1840      Bohemia Interactive   \n",
       "1896  Humongous Entertainment   \n",
       "\n",
       "                                                  title      id  \\\n",
       "46                                  The Longest Journey    6310   \n",
       "98          Unreal Tournament: Game of the Year Edition   13240   \n",
       "451                                          X: Tension    2850   \n",
       "1840     Fairy Tale About Father Frost, Ivan and Nastya  289320   \n",
       "1896  Pajama Sam 3: You Are What You Eat From Your H...  292800   \n",
       "\n",
       "                      genres release_date  release_year  \n",
       "46    Action, Adventure, RPG   2000-11-17          2000  \n",
       "98                    Action   2000-10-25          2000  \n",
       "451     Simulation, Strategy   2000-06-01          2000  \n",
       "1840       Adventure, Casual   2000-12-20          2000  \n",
       "1896       Adventure, Casual   2000-04-01          2000  "
      ]
     },
     "execution_count": 19,
     "metadata": {},
     "output_type": "execute_result"
    }
   ],
   "source": [
    "games.head(5)"
   ]
  },
  {
   "cell_type": "code",
   "execution_count": 8,
   "metadata": {},
   "outputs": [
    {
     "data": {
      "text/html": [
       "<div>\n",
       "<style scoped>\n",
       "    .dataframe tbody tr th:only-of-type {\n",
       "        vertical-align: middle;\n",
       "    }\n",
       "\n",
       "    .dataframe tbody tr th {\n",
       "        vertical-align: top;\n",
       "    }\n",
       "\n",
       "    .dataframe thead th {\n",
       "        text-align: right;\n",
       "    }\n",
       "</style>\n",
       "<table border=\"1\" class=\"dataframe\">\n",
       "  <thead>\n",
       "    <tr style=\"text-align: right;\">\n",
       "      <th></th>\n",
       "      <th>item_id</th>\n",
       "      <th>positivo</th>\n",
       "    </tr>\n",
       "  </thead>\n",
       "  <tbody>\n",
       "    <tr>\n",
       "      <th>0</th>\n",
       "      <td>10</td>\n",
       "      <td>51</td>\n",
       "    </tr>\n",
       "    <tr>\n",
       "      <th>1</th>\n",
       "      <td>10090</td>\n",
       "      <td>47</td>\n",
       "    </tr>\n",
       "    <tr>\n",
       "      <th>2</th>\n",
       "      <td>10130</td>\n",
       "      <td>2</td>\n",
       "    </tr>\n",
       "    <tr>\n",
       "      <th>3</th>\n",
       "      <td>10140</td>\n",
       "      <td>0</td>\n",
       "    </tr>\n",
       "    <tr>\n",
       "      <th>4</th>\n",
       "      <td>10150</td>\n",
       "      <td>9</td>\n",
       "    </tr>\n",
       "  </tbody>\n",
       "</table>\n",
       "</div>"
      ],
      "text/plain": [
       "  item_id  positivo\n",
       "0      10        51\n",
       "1   10090        47\n",
       "2   10130         2\n",
       "3   10140         0\n",
       "4   10150         9"
      ]
     },
     "execution_count": 8,
     "metadata": {},
     "output_type": "execute_result"
    }
   ],
   "source": [
    "reviews.head(5)"
   ]
  },
  {
   "cell_type": "code",
   "execution_count": 9,
   "metadata": {},
   "outputs": [],
   "source": [
    "#Combertimos el archivo a parquet\n",
    "games.to_parquet('../Dataset/best_developer_games.parquet', compression='snappy', index=False)\n",
    "reviews.to_parquet('../Dataset/best_developer_reviews.parquet', compression='snappy', index=False)"
   ]
  },
  {
   "cell_type": "markdown",
   "metadata": {},
   "source": [
    "-------------------------------------------------------------------------------------------------------------------------"
   ]
  },
  {
   "cell_type": "markdown",
   "metadata": {},
   "source": [
    "### Probando endpoint"
   ]
  },
  {
   "cell_type": "code",
   "execution_count": 16,
   "metadata": {},
   "outputs": [
    {
     "name": "stdout",
     "output_type": "stream",
     "text": [
      "[{'Puesto 1': 'Valve'}, {'Puesto 2': 'Ion Storm'}, {'Puesto 3': 'Rebellion'}]\n"
     ]
    }
   ],
   "source": [
    "def best_developer_year(año: int):\n",
    "    \"\"\"\n",
    "    4) enpoint:\n",
    "    - def best_developer_year( año : int ): Devuelve el top 3 de desarrolladores con juegos MÁS recomendados por usuarios para el año dado. (reviews.recommend = True y comentarios positivos)\n",
    "    - Ejemplo de retorno: [{\"Puesto 1\" : X}, {\"Puesto 2\" : Y},{\"Puesto 3\" : Z}]\n",
    "    \"\"\"\n",
    "    global games, reviews\n",
    "    games['release_year'] = games['release_date'].dt.year\n",
    "    games_filtered = games[games['release_year'] == año]\n",
    "    filtered_reviews = games_filtered.merge(reviews, left_on='id', right_on='item_id', how='inner')\n",
    "    filtered_reviews = filtered_reviews[['developer', 'title', 'positivo']]\n",
    "    filtered_reviews = filtered_reviews.groupby(['developer']).agg({'positivo': 'sum'}).reset_index()\n",
    "    filtered_reviews = filtered_reviews.sort_values(by='positivo', ascending=False)\n",
    "\n",
    "    top_developers = filtered_reviews.head(3)['developer'].tolist()\n",
    "    return [\n",
    "        {\"Puesto 1\": top_developers[0]},\n",
    "        {\"Puesto 2\": top_developers[1]},\n",
    "        {\"Puesto 3\": top_developers[2]}\n",
    "    ]\n",
    "\n",
    "prueba = best_developer_year(2000)\n",
    "print(prueba)"
   ]
  },
  {
   "cell_type": "markdown",
   "metadata": {},
   "source": [
    "-------------------------------------------------------------------------------------------------------------------------"
   ]
  },
  {
   "cell_type": "markdown",
   "metadata": {},
   "source": [
    "## Enpoint 5:\n",
    "- def developer_reviews_analysis( desarrolladora : str ): Según el desarrollador, se devuelve un diccionario con el nombre del desarrollador como llave y una lista con la cantidad total de registros de reseñas de usuarios que se encuentren categorizados con un análisis de sentimiento como valor positivo o negativo.\n",
    "- Ejemplo de retorno: {'Valve' : [Negative = 182, Positive = 278]}"
   ]
  },
  {
   "cell_type": "code",
   "execution_count": 12,
   "metadata": {},
   "outputs": [],
   "source": [
    "import pandas as pd\n",
    "games = pd.read_parquet('../Dataset/games_clean.parquet')\n",
    "reviews = pd.read_parquet('../Dataset/reviews_clean.parquet')"
   ]
  },
  {
   "cell_type": "code",
   "execution_count": 13,
   "metadata": {},
   "outputs": [
    {
     "data": {
      "text/plain": [
       "Index(['item_id', 'negativo', 'neutral', 'positivo'], dtype='object')"
      ]
     },
     "execution_count": 13,
     "metadata": {},
     "output_type": "execute_result"
    }
   ],
   "source": [
    "reviews.columns"
   ]
  },
  {
   "cell_type": "code",
   "execution_count": 14,
   "metadata": {},
   "outputs": [],
   "source": [
    "#Creamos dos dataframes donde contengan las columnas que vamos a utilizar \n",
    "games = games[['developer','id']]\n",
    "reviews = reviews[['item_id', 'positivo', 'negativo']]"
   ]
  },
  {
   "cell_type": "code",
   "execution_count": 15,
   "metadata": {},
   "outputs": [
    {
     "data": {
      "text/html": [
       "<div>\n",
       "<style scoped>\n",
       "    .dataframe tbody tr th:only-of-type {\n",
       "        vertical-align: middle;\n",
       "    }\n",
       "\n",
       "    .dataframe tbody tr th {\n",
       "        vertical-align: top;\n",
       "    }\n",
       "\n",
       "    .dataframe thead th {\n",
       "        text-align: right;\n",
       "    }\n",
       "</style>\n",
       "<table border=\"1\" class=\"dataframe\">\n",
       "  <thead>\n",
       "    <tr style=\"text-align: right;\">\n",
       "      <th></th>\n",
       "      <th>developer</th>\n",
       "      <th>id</th>\n",
       "    </tr>\n",
       "  </thead>\n",
       "  <tbody>\n",
       "    <tr>\n",
       "      <th>0</th>\n",
       "      <td>Kotoshiro</td>\n",
       "      <td>761140</td>\n",
       "    </tr>\n",
       "    <tr>\n",
       "      <th>1</th>\n",
       "      <td>Secret Level SRL</td>\n",
       "      <td>643980</td>\n",
       "    </tr>\n",
       "    <tr>\n",
       "      <th>2</th>\n",
       "      <td>Poolians.com</td>\n",
       "      <td>670290</td>\n",
       "    </tr>\n",
       "    <tr>\n",
       "      <th>3</th>\n",
       "      <td>彼岸领域</td>\n",
       "      <td>767400</td>\n",
       "    </tr>\n",
       "    <tr>\n",
       "      <th>4</th>\n",
       "      <td>Trickjump Games Ltd</td>\n",
       "      <td>772540</td>\n",
       "    </tr>\n",
       "  </tbody>\n",
       "</table>\n",
       "</div>"
      ],
      "text/plain": [
       "             developer      id\n",
       "0            Kotoshiro  761140\n",
       "1     Secret Level SRL  643980\n",
       "2         Poolians.com  670290\n",
       "3                 彼岸领域  767400\n",
       "4  Trickjump Games Ltd  772540"
      ]
     },
     "execution_count": 15,
     "metadata": {},
     "output_type": "execute_result"
    }
   ],
   "source": [
    "games.head()"
   ]
  },
  {
   "cell_type": "code",
   "execution_count": 16,
   "metadata": {},
   "outputs": [
    {
     "data": {
      "text/html": [
       "<div>\n",
       "<style scoped>\n",
       "    .dataframe tbody tr th:only-of-type {\n",
       "        vertical-align: middle;\n",
       "    }\n",
       "\n",
       "    .dataframe tbody tr th {\n",
       "        vertical-align: top;\n",
       "    }\n",
       "\n",
       "    .dataframe thead th {\n",
       "        text-align: right;\n",
       "    }\n",
       "</style>\n",
       "<table border=\"1\" class=\"dataframe\">\n",
       "  <thead>\n",
       "    <tr style=\"text-align: right;\">\n",
       "      <th></th>\n",
       "      <th>item_id</th>\n",
       "      <th>positivo</th>\n",
       "      <th>negativo</th>\n",
       "    </tr>\n",
       "  </thead>\n",
       "  <tbody>\n",
       "    <tr>\n",
       "      <th>0</th>\n",
       "      <td>10</td>\n",
       "      <td>51</td>\n",
       "      <td>6</td>\n",
       "    </tr>\n",
       "    <tr>\n",
       "      <th>1</th>\n",
       "      <td>10090</td>\n",
       "      <td>47</td>\n",
       "      <td>5</td>\n",
       "    </tr>\n",
       "    <tr>\n",
       "      <th>2</th>\n",
       "      <td>10130</td>\n",
       "      <td>2</td>\n",
       "      <td>0</td>\n",
       "    </tr>\n",
       "    <tr>\n",
       "      <th>3</th>\n",
       "      <td>10140</td>\n",
       "      <td>0</td>\n",
       "      <td>1</td>\n",
       "    </tr>\n",
       "    <tr>\n",
       "      <th>4</th>\n",
       "      <td>10150</td>\n",
       "      <td>9</td>\n",
       "      <td>0</td>\n",
       "    </tr>\n",
       "  </tbody>\n",
       "</table>\n",
       "</div>"
      ],
      "text/plain": [
       "  item_id  positivo  negativo\n",
       "0      10        51         6\n",
       "1   10090        47         5\n",
       "2   10130         2         0\n",
       "3   10140         0         1\n",
       "4   10150         9         0"
      ]
     },
     "execution_count": 16,
     "metadata": {},
     "output_type": "execute_result"
    }
   ],
   "source": [
    "reviews.head()"
   ]
  },
  {
   "cell_type": "code",
   "execution_count": 26,
   "metadata": {},
   "outputs": [],
   "source": [
    "#Combertimos el archivo a parquet\n",
    "games.to_parquet('../Dataset/developer_review_games.parquet', compression='snappy', index=False)\n",
    "reviews.to_parquet('../Dataset/developer_review_reviews.parquet', compression='snappy', index=False)"
   ]
  },
  {
   "cell_type": "markdown",
   "metadata": {},
   "source": [
    "-------------------------------------------------------------------------------------------------------------------------"
   ]
  },
  {
   "cell_type": "markdown",
   "metadata": {},
   "source": [
    "### Probando endpoint"
   ]
  },
  {
   "cell_type": "code",
   "execution_count": 17,
   "metadata": {},
   "outputs": [
    {
     "data": {
      "text/plain": [
       "{'Bohemia Interactive': {'Negativas': 293, 'Positivas': 868}}"
      ]
     },
     "execution_count": 17,
     "metadata": {},
     "output_type": "execute_result"
    }
   ],
   "source": [
    "def developer_reviews_analysis(desarrolladora: str ):\n",
    "    \"\"\"\n",
    "    Según el desarrollador, se devuelve un diccionario con el nombre del desarrollador como llave\n",
    "    y una lista con la cantidad total de registros de reseñas de usuarios que se encuentren categorizados\n",
    "    con un análisis de sentimiento como valor positivo o negativo.\n",
    "\n",
    "    Ejemplo de retorno: {'Valve': {'Negativas': 182, 'Positivas': 278}}\n",
    "    \"\"\"\n",
    "    #games = pd.read_parquet('Dataset/developer_review_games.parquet')  # Cargar datos de juegos\n",
    "    #reviews = pd.read_parquet('Dataset/developer_review_reviews.parquet')  # Cargar datos de reseñas\n",
    "    global games, reviews\n",
    "\n",
    "    # Filtrar los juegos por el desarrollador especificado\n",
    "    developer_games = games[games['developer'] == desarrolladora]\n",
    "    \n",
    "    # Combinar datos de juegos y reseñas basado en el id del juego\n",
    "    merged_data = developer_games.merge(reviews, left_on='id', right_on='item_id', how='inner')\n",
    "\n",
    "    # Verificar si no hay datos disponibles para el desarrollador\n",
    "    if merged_data.empty:\n",
    "        return {desarrolladora: {'Negativas': 0, 'Positivas': 0}}\n",
    "\n",
    "    # Calcular el total de reseñas negativas y positivas\n",
    "    total_negativas = merged_data['negativo'].sum()\n",
    "    total_positivas = merged_data['positivo'].sum()\n",
    "\n",
    "    # Retornar el resultado en el formato esperado\n",
    "    return {desarrolladora: {'Negativas': int(total_negativas), 'Positivas': int(total_positivas)}}\n",
    "\n",
    "prueba3 = developer_reviews_analysis(\"Bohemia Interactive\")\n",
    "prueba3"
   ]
  }
 ],
 "metadata": {
  "kernelspec": {
   "display_name": "Python 3",
   "language": "python",
   "name": "python3"
  },
  "language_info": {
   "codemirror_mode": {
    "name": "ipython",
    "version": 3
   },
   "file_extension": ".py",
   "mimetype": "text/x-python",
   "name": "python",
   "nbconvert_exporter": "python",
   "pygments_lexer": "ipython3",
   "version": "3.11.9"
  }
 },
 "nbformat": 4,
 "nbformat_minor": 2
}
