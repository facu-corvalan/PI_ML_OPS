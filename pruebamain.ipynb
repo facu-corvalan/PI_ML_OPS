{
 "cells": [
  {
   "cell_type": "code",
   "execution_count": 7,
   "metadata": {},
   "outputs": [],
   "source": [
    "from fastapi import FastAPI, Query\n",
    "import pandas as pd\n",
    "from sklearn.feature_extraction.text import TfidfVectorizer\n",
    "from sklearn.metrics.pairwise import cosine_similarity\n",
    "from sklearn.feature_extraction.text import TfidfVectorizer\n",
    "from sklearn.metrics.pairwise import cosine_similarity\n"
   ]
  },
  {
   "cell_type": "code",
   "execution_count": 17,
   "metadata": {},
   "outputs": [
    {
     "data": {
      "text/plain": [
       "{'Juegos similares que te pueden interesar': ['SNOW - All Access Pro Pass',\n",
       "  'SNOW - All Access Legend Pass',\n",
       "  'SNOW - Starter Pack',\n",
       "  'SNOW - Lifetime Pack',\n",
       "  'RIFT']}"
      ]
     },
     "execution_count": 17,
     "metadata": {},
     "output_type": "execute_result"
    }
   ],
   "source": [
    "def recomendacion_juego(id_de_producto: int= Query(default='670290')):\n",
    "    \n",
    "    games = pd.read_parquet('Dataset/game_recommendation.parquet')\n",
    "\n",
    "    id_de_producto = str(id_de_producto)\n",
    "    games['id'] = games['id'].astype(str)\n",
    "\n",
    "    atributos = games[games['id'] == id_de_producto]\n",
    "    \n",
    "    if atributos.empty:\n",
    "        return 'No se encontró un juego con el ID proporcionado, prueba otro ID.'\n",
    "    \n",
    "    juegos = games[games['genres'] == atributos['genres'].iloc[0]]\n",
    "    juegos= juegos[['title','genres']]\n",
    "    juegos['caracteristicas'] = juegos[['genres']].apply(lambda row: '-'.join(row.values.astype(str)), axis=1) \n",
    "    juegos= juegos[['title','caracteristicas']].iloc[:1001,:]\n",
    "    \n",
    "    vector= TfidfVectorizer()\n",
    "    matriz= vector.fit_transform(juegos['caracteristicas'])\n",
    "    matriz_similaridad= cosine_similarity(matriz)\n",
    "    \n",
    "    indice_juego = juegos.index[juegos['title'] == atributos['title'].iloc[0]].tolist()[0]\n",
    "    similares = list(enumerate(matriz_similaridad[indice_juego]))\n",
    "    similaridades = sorted(similares, key=lambda x: x[1], reverse=True)[1:6]\n",
    "    juegos_recomendados = [juegos.iloc[i[0]]['title'] for i in similaridades]\n",
    "    \n",
    "    juegos_recomendados\n",
    "\n",
    "    return {'Juegos similares que te pueden interesar': juegos_recomendados}\n",
    "recomendacion_juego(\"643980\")"
   ]
  }
 ],
 "metadata": {
  "kernelspec": {
   "display_name": "Python 3",
   "language": "python",
   "name": "python3"
  },
  "language_info": {
   "codemirror_mode": {
    "name": "ipython",
    "version": 3
   },
   "file_extension": ".py",
   "mimetype": "text/x-python",
   "name": "python",
   "nbconvert_exporter": "python",
   "pygments_lexer": "ipython3",
   "version": "3.11.9"
  }
 },
 "nbformat": 4,
 "nbformat_minor": 2
}
